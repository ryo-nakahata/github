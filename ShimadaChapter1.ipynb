{
 "cells": [
  {
   "cell_type": "markdown",
   "metadata": {
    "slideshow": {
     "slide_type": "slide"
    }
   },
   "source": [
    "# Rで学ぶ統計学入門\n",
    "\n",
    "# 1.　統計学を学ぶ大切さ\n",
    "\n",
    "統計学は、少ないデータ、一部のデータで全体の傾向を正しく、適切に推論するための学問である\n",
    "\n",
    "しかし、巷では必ずしもそれが統計学的に適切に行われていないことが多々ある"
   ]
  },
  {
   "cell_type": "markdown",
   "metadata": {
    "slideshow": {
     "slide_type": "slide"
    }
   },
   "source": [
    "## 1・1　TV番組で流れる“実験”の怪しさ\n",
    "### （1）大笑うによる免疫力アップ効果\n",
    "\n",
    "TV番組で“免疫力をアップするには？”と題して、大笑いすることが免疫力を高めるという内容が放映されていた\n",
    "\n",
    "芸人Kの免疫力を血液中のNK（ナチュラルキラー）細胞の活性で測定しておく  \n",
    "　　　　　↓  \n",
    "一定時間を大笑いに笑いこけて、その後、再び血液検査する"
   ]
  },
  {
   "cell_type": "markdown",
   "metadata": {
    "slideshow": {
     "slide_type": "subslide"
    }
   },
   "source": [
    "実験の結果、\n",
    "\n",
    "　　　笑う前のNK細胞の活性: 41  "
   ]
  },
  {
   "cell_type": "markdown",
   "metadata": {
    "slideshow": {
     "slide_type": "fragment"
    }
   },
   "source": [
    "　　　　　　　　　　　　　　↓\n",
    "\n",
    "大笑いした後のNK細胞の活性: 44"
   ]
  },
  {
   "cell_type": "markdown",
   "metadata": {
    "slideshow": {
     "slide_type": "fragment"
    }
   },
   "source": [
    "TV番組の結論は、**“大笑いすると、わずかながらも免疫力の活性が上がった”**というもの\n",
    "\n",
    "この実験結果の結論は妥当だろうか？  \n",
    "――少し考えてみると、いくつかの疑問が見えてくる"
   ]
  },
  {
   "cell_type": "markdown",
   "metadata": {
    "slideshow": {
     "slide_type": "subslide"
    }
   },
   "source": [
    "疑問\n",
    "\n",
    "①比較実験の差は3であったが、これは本当に大笑いで得られた差なのだろうか？  \n",
    "　日常でもその程度の変化はふつうに生じてはいないか？"
   ]
  },
  {
   "cell_type": "markdown",
   "metadata": {
    "slideshow": {
     "slide_type": "fragment"
    }
   },
   "source": [
    "②他の被験者であっても、大笑いすることでNK細胞の活性は上がる結果が得られるだろうか？"
   ]
  },
  {
   "cell_type": "markdown",
   "metadata": {
    "slideshow": {
     "slide_type": "subslide"
    }
   },
   "source": [
    "①の可能性として、NK細胞の活性が何もしなくても37～45程度ふつうに変動しているとしたら、41から44の上昇はたまたま生理的に偶然に変動した可能性がある  \n",
    "日々の変動が40.5～41.5程度だったならば、＋3という上昇は大笑いの効果である可能性が高い"
   ]
  },
  {
   "cell_type": "markdown",
   "metadata": {
    "slideshow": {
     "slide_type": "fragment"
    }
   },
   "source": [
    "⇒ふだんの変動（ばらつき）を考慮しないと、結果が真逆になってしまう\n",
    "\n",
    "②としては、人には遺伝的または環境的な要因などによって個人差がある。“大笑いすると、免疫力がアップする”という命題が他の人に当てはまるかは不明である\n",
    "\n",
    "**このような疑問を考えずに安易な判断を下すと、誤った結論を導くことになりかねない**"
   ]
  },
  {
   "cell_type": "markdown",
   "metadata": {
    "slideshow": {
     "slide_type": "subslide"
    }
   },
   "source": [
    "### （2）牛乳を飲んでおくと悪酔いしない？\n",
    "悪酔い防止策として牛乳を飲んでおくのが効果的との話題\n",
    "\n",
    "年齢と体格が似ている被験者の男性3人を集めて、事前に3種類の異なる処置を依頼\n",
    "\n",
    "　　1番目の人には何も食べずに日本酒を飲んでもらう  \n",
    "　　2番目の人にはあらかじめ水を飲んでもらい、それから日本酒を飲んでもらう  \n",
    "　　3番目の人にはあらかじめ牛乳を飲んでもらい、それから日本酒を飲んでもらう\n",
    "\n",
    "酔っ払いの程度はお酒を飲んでから3時間後血中アセトアルデヒド濃度を測定することで比較"
   ]
  },
  {
   "cell_type": "markdown",
   "metadata": {
    "slideshow": {
     "slide_type": "subslide"
    }
   },
   "source": [
    "結果は、\n",
    "\n",
    "1番目の被験者で血中アセトアルデヒド濃度が最も高く、  \n",
    "　　ついで2番目の数値がやや低く、  \n",
    "  　　　　3番目の数値はさらに低かった\n",
    "\n",
    "番組では、**牛乳には悪酔い防止の効果がある**と結論\n",
    "\n",
    "ここでいくつかの疑問が生じる"
   ]
  },
  {
   "cell_type": "markdown",
   "metadata": {
    "slideshow": {
     "slide_type": "subslide"
    }
   },
   "source": [
    "疑問\n",
    "\n",
    "①アルコール分解代謝力は個人差が大きい。牛乳の効果ではなく、個人差による可能性があるのではないか？被験者個人ごとに3種類の処置を比較したほうがよいのではないか？"
   ]
  },
  {
   "cell_type": "markdown",
   "metadata": {
    "slideshow": {
     "slide_type": "fragment"
    }
   },
   "source": [
    "②3人だけの結果から、他の人にも当てはまる結論が導けるか？もっと多くの被験者で施行したほうがよいのではないか？"
   ]
  },
  {
   "cell_type": "markdown",
   "metadata": {
    "slideshow": {
     "slide_type": "fragment"
    }
   },
   "source": [
    "③液体の牛乳よりもご飯などの固形物を摂取するほうが防止策としてはさらに効果があるのではないか？"
   ]
  },
  {
   "cell_type": "markdown",
   "metadata": {
    "slideshow": {
     "slide_type": "subslide"
    }
   },
   "source": [
    "①は、個人差というばらつきによっても同様の結果が得られる可能性を指摘\n",
    "\n",
    "②は、たまたま牛乳によって効果が得られやすい被験者に実験をしたかもしれない\n",
    "\n",
    "③は、牛乳のどのような要素が効くのかということに対して深い理解を与える実験を考えさせる"
   ]
  },
  {
   "cell_type": "markdown",
   "metadata": {
    "slideshow": {
     "slide_type": "slide"
    }
   },
   "source": [
    "## 1・2　平均とばらつきの両方が重要：記述統計量\n",
    "\n",
    "小学生の男子と女子の身長を比較する。目標は、ある小学校のデータだけから、全国の小学校の“男子と女子の身長に差があるかどうか”を知ること\n",
    "\n",
    "小学校4年1組の身長を調査した結果、男女15名ずつのデータセットが得られた"
   ]
  },
  {
   "cell_type": "code",
   "execution_count": 1,
   "metadata": {
    "collapsed": true,
    "slideshow": {
     "slide_type": "skip"
    }
   },
   "outputs": [],
   "source": [
    "options(repr.plot.width=4, repr.plot.height=4)"
   ]
  },
  {
   "cell_type": "code",
   "execution_count": 2,
   "metadata": {
    "collapsed": false,
    "scrolled": true,
    "slideshow": {
     "slide_type": "fragment"
    }
   },
   "outputs": [
    {
     "data": {
      "text/html": [
       "<table>\n",
       "<thead><tr><th scope=col>male</th><th scope=col>female</th></tr></thead>\n",
       "<tbody>\n",
       "\t<tr><td>129.6</td><td>128.5</td></tr>\n",
       "\t<tr><td>130.5</td><td>128.9</td></tr>\n",
       "\t<tr><td>130.6</td><td>129.2</td></tr>\n",
       "\t<tr><td>131.1</td><td>131.5</td></tr>\n",
       "\t<tr><td>131.5</td><td>131.7</td></tr>\n",
       "\t<tr><td>132.0</td><td>132.1</td></tr>\n",
       "\t<tr><td>133.5</td><td>132.1</td></tr>\n",
       "\t<tr><td>133.9</td><td>132.2</td></tr>\n",
       "\t<tr><td>135.2</td><td>133.0</td></tr>\n",
       "\t<tr><td>135.3</td><td>133.4</td></tr>\n",
       "\t<tr><td>135.4</td><td>133.8</td></tr>\n",
       "\t<tr><td>136.7</td><td>134.0</td></tr>\n",
       "\t<tr><td>138.7</td><td>135.2</td></tr>\n",
       "\t<tr><td>139.3</td><td>137.8</td></tr>\n",
       "\t<tr><td>141.2</td><td>138.6</td></tr>\n",
       "</tbody>\n",
       "</table>\n"
      ],
      "text/latex": [
       "\\begin{tabular}{r|ll}\n",
       " male & female\\\\\n",
       "\\hline\n",
       "\t 129.6 & 128.5\\\\\n",
       "\t 130.5 & 128.9\\\\\n",
       "\t 130.6 & 129.2\\\\\n",
       "\t 131.1 & 131.5\\\\\n",
       "\t 131.5 & 131.7\\\\\n",
       "\t 132.0 & 132.1\\\\\n",
       "\t 133.5 & 132.1\\\\\n",
       "\t 133.9 & 132.2\\\\\n",
       "\t 135.2 & 133.0\\\\\n",
       "\t 135.3 & 133.4\\\\\n",
       "\t 135.4 & 133.8\\\\\n",
       "\t 136.7 & 134.0\\\\\n",
       "\t 138.7 & 135.2\\\\\n",
       "\t 139.3 & 137.8\\\\\n",
       "\t 141.2 & 138.6\\\\\n",
       "\\end{tabular}\n"
      ],
      "text/plain": [
       "   male  female\n",
       "1  129.6 128.5 \n",
       "2  130.5 128.9 \n",
       "3  130.6 129.2 \n",
       "4  131.1 131.5 \n",
       "5  131.5 131.7 \n",
       "6  132.0 132.1 \n",
       "7  133.5 132.1 \n",
       "8  133.9 132.2 \n",
       "9  135.2 133.0 \n",
       "10 135.3 133.4 \n",
       "11 135.4 133.8 \n",
       "12 136.7 134.0 \n",
       "13 138.7 135.2 \n",
       "14 139.3 137.8 \n",
       "15 141.2 138.6 "
      ]
     },
     "metadata": {},
     "output_type": "display_data"
    }
   ],
   "source": [
    "data1.m <- c(129.6, 130.5, 130.6, 131.1, 131.5, 132.0, 133.5, 133.9, 135.2, 135.3, 135.4, 136.7, 138.7, 139.3, 141.2)\n",
    "data1.f <- c(128.5, 128.9, 129.2, 131.5, 131.7, 132.1, 132.1, 132.2, 133.0, 133.4, 133.8, 134.0, 135.2, 137.8, 138.6)\n",
    "(data1 <- data.frame(male = data1.m, female = data1.f))"
   ]
  },
  {
   "cell_type": "code",
   "execution_count": 3,
   "metadata": {
    "collapsed": false,
    "scrolled": true,
    "slideshow": {
     "slide_type": "subslide"
    }
   },
   "outputs": [
    {
     "data": {
      "image/png": "[encoded data removed]",
      "text/plain": [
       "plot without title"
      ]
     },
     "metadata": {},
     "output_type": "display_data"
    }
   ],
   "source": [
    "plot(c(rep(1, 15), rep(2, 15)), c(data1.m, data1.f), xlim=c(0, 3), ylim=c(120, 150), xlab=\"\", ylab=\"height\", xaxt=\"n\",\n",
    "     col = c(rep(\"#4169E190\", 15), rep(\"#CD5C5C90\", 15)))\n",
    "axis(side=1, at=c(1, 2), labels=c(\"male\", \"female\"))\n",
    "lines(c(-0.2, 3.2), c(120, 120), lwd=0.5, lty=3)\n",
    "lines(c(-0.2, 3.2), c(125, 125), lwd=0.5, lty=3)\n",
    "lines(c(-0.2, 3.2), c(130, 130), lwd=0.5, lty=3)\n",
    "lines(c(-0.2, 3.2), c(135, 135), lwd=0.5, lty=3)\n",
    "lines(c(-0.2, 3.2), c(140, 140), lwd=0.5, lty=3)\n",
    "lines(c(-0.2, 3.2), c(145, 145), lwd=0.5, lty=3)\n",
    "lines(c(-0.2, 3.2), c(150, 150), lwd=0.5, lty=3)"
   ]
  },
  {
   "cell_type": "code",
   "execution_count": 4,
   "metadata": {
    "collapsed": false,
    "slideshow": {
     "slide_type": "fragment"
    }
   },
   "outputs": [
    {
     "data": {
      "text/html": [
       "134.3"
      ],
      "text/latex": [
       "134.3"
      ],
      "text/markdown": [
       "134.3"
      ],
      "text/plain": [
       "[1] 134.3"
      ]
     },
     "metadata": {},
     "output_type": "display_data"
    }
   ],
   "source": [
    "mean(data1.m)"
   ]
  },
  {
   "cell_type": "code",
   "execution_count": 5,
   "metadata": {
    "collapsed": false,
    "slideshow": {
     "slide_type": "fragment"
    }
   },
   "outputs": [
    {
     "data": {
      "text/html": [
       "132.8"
      ],
      "text/latex": [
       "132.8"
      ],
      "text/markdown": [
       "132.8"
      ],
      "text/plain": [
       "[1] 132.8"
      ]
     },
     "metadata": {},
     "output_type": "display_data"
    }
   ],
   "source": [
    "mean(data1.f)"
   ]
  },
  {
   "cell_type": "code",
   "execution_count": 6,
   "metadata": {
    "collapsed": false,
    "slideshow": {
     "slide_type": "fragment"
    }
   },
   "outputs": [
    {
     "data": {
      "text/html": [
       "1.5"
      ],
      "text/latex": [
       "1.5"
      ],
      "text/markdown": [
       "1.5"
      ],
      "text/plain": [
       "[1] 1.5"
      ]
     },
     "metadata": {},
     "output_type": "display_data"
    }
   ],
   "source": [
    "abs(mean(data1.m) - mean(data1.f))"
   ]
  },
  {
   "cell_type": "markdown",
   "metadata": {
    "slideshow": {
     "slide_type": "fragment"
    }
   },
   "source": [
    "平均身長は男子＝134.3 cm、女子＝132.8 cm\n",
    "\n",
    "この1.5 cmの差をもって、“全国の小学4年生の男子の平均身長は女子より高い”と結論を下して良いだろうか？"
   ]
  },
  {
   "cell_type": "markdown",
   "metadata": {
    "slideshow": {
     "slide_type": "subslide"
    }
   },
   "source": [
    "6年1組の身長を調査した結果、"
   ]
  },
  {
   "cell_type": "code",
   "execution_count": 7,
   "metadata": {
    "collapsed": false,
    "slideshow": {
     "slide_type": "fragment"
    }
   },
   "outputs": [
    {
     "data": {
      "text/html": [
       "<table>\n",
       "<thead><tr><th scope=col>male</th><th scope=col>female</th></tr></thead>\n",
       "<tbody>\n",
       "\t<tr><td>138.4</td><td>142.3</td></tr>\n",
       "\t<tr><td>138.9</td><td>142.4</td></tr>\n",
       "\t<tr><td>142.8</td><td>143.4</td></tr>\n",
       "\t<tr><td>143.2</td><td>144.0</td></tr>\n",
       "\t<tr><td>144.0</td><td>144.3</td></tr>\n",
       "\t<tr><td>144.1</td><td>145.6</td></tr>\n",
       "\t<tr><td>144.4</td><td>145.9</td></tr>\n",
       "\t<tr><td>144.6</td><td>147.7</td></tr>\n",
       "\t<tr><td>144.8</td><td>147.9</td></tr>\n",
       "\t<tr><td>145.8</td><td>148.6</td></tr>\n",
       "\t<tr><td>146.2</td><td>149.2</td></tr>\n",
       "\t<tr><td>146.7</td><td>149.7</td></tr>\n",
       "\t<tr><td>147.0</td><td>151.6</td></tr>\n",
       "\t<tr><td>148.6</td><td>151.9</td></tr>\n",
       "\t<tr><td>149.5</td><td>152.0</td></tr>\n",
       "</tbody>\n",
       "</table>\n"
      ],
      "text/latex": [
       "\\begin{tabular}{r|ll}\n",
       " male & female\\\\\n",
       "\\hline\n",
       "\t 138.4 & 142.3\\\\\n",
       "\t 138.9 & 142.4\\\\\n",
       "\t 142.8 & 143.4\\\\\n",
       "\t 143.2 & 144.0\\\\\n",
       "\t 144.0 & 144.3\\\\\n",
       "\t 144.1 & 145.6\\\\\n",
       "\t 144.4 & 145.9\\\\\n",
       "\t 144.6 & 147.7\\\\\n",
       "\t 144.8 & 147.9\\\\\n",
       "\t 145.8 & 148.6\\\\\n",
       "\t 146.2 & 149.2\\\\\n",
       "\t 146.7 & 149.7\\\\\n",
       "\t 147.0 & 151.6\\\\\n",
       "\t 148.6 & 151.9\\\\\n",
       "\t 149.5 & 152.0\\\\\n",
       "\\end{tabular}\n"
      ],
      "text/plain": [
       "   male  female\n",
       "1  138.4 142.3 \n",
       "2  138.9 142.4 \n",
       "3  142.8 143.4 \n",
       "4  143.2 144.0 \n",
       "5  144.0 144.3 \n",
       "6  144.1 145.6 \n",
       "7  144.4 145.9 \n",
       "8  144.6 147.7 \n",
       "9  144.8 147.9 \n",
       "10 145.8 148.6 \n",
       "11 146.2 149.2 \n",
       "12 146.7 149.7 \n",
       "13 147.0 151.6 \n",
       "14 148.6 151.9 \n",
       "15 149.5 152.0 "
      ]
     },
     "metadata": {},
     "output_type": "display_data"
    }
   ],
   "source": [
    "data2.m <- c(138.4, 138.9, 142.8, 143.2, 144.0, 144.1, 144.4, 144.6, 144.8, 145.8, 146.2, 146.7, 147.0, 148.6, 149.5)\n",
    "data2.f <- c(142.3, 142.4, 143.4, 144.0, 144.3, 145.6, 145.9, 147.7, 147.9, 148.6, 149.2, 149.7, 151.6, 151.9, 152.0)\n",
    "(data2 <- data.frame(male = data2.m, female = data2.f))"
   ]
  },
  {
   "cell_type": "code",
   "execution_count": 8,
   "metadata": {
    "collapsed": false,
    "slideshow": {
     "slide_type": "subslide"
    }
   },
   "outputs": [
    {
     "data": {
      "image/png": "[encoded data removed]",
      "text/plain": [
       "plot without title"
      ]
     },
     "metadata": {},
     "output_type": "display_data"
    }
   ],
   "source": [
    "plot(c(rep(1, 15), rep(2, 15)), c(data2.m, data2.f), xlim=c(0, 3), ylim=c(130, 160), xlab=\"\", ylab=\"height\", xaxt=\"n\",\n",
    "     col = c(rep(\"#4169E190\", 15), rep(\"#CD5C5C90\", 15)))\n",
    "axis(side=1, at=c(1, 2), labels=c(\"male\", \"female\"))\n",
    "lines(c(-0.2, 3.2), c(130, 130), lwd=0.5, lty=3)\n",
    "lines(c(-0.2, 3.2), c(135, 135), lwd=0.5, lty=3)\n",
    "lines(c(-0.2, 3.2), c(140, 140), lwd=0.5, lty=3)\n",
    "lines(c(-0.2, 3.2), c(145, 145), lwd=0.5, lty=3)\n",
    "lines(c(-0.2, 3.2), c(150, 150), lwd=0.5, lty=3)\n",
    "lines(c(-0.2, 3.2), c(155, 155), lwd=0.5, lty=3)\n",
    "lines(c(-0.2, 3.2), c(160, 160), lwd=0.5, lty=3)"
   ]
  },
  {
   "cell_type": "code",
   "execution_count": 9,
   "metadata": {
    "collapsed": false,
    "slideshow": {
     "slide_type": "fragment"
    }
   },
   "outputs": [
    {
     "data": {
      "text/html": [
       "144.6"
      ],
      "text/latex": [
       "144.6"
      ],
      "text/markdown": [
       "144.6"
      ],
      "text/plain": [
       "[1] 144.6"
      ]
     },
     "metadata": {},
     "output_type": "display_data"
    }
   ],
   "source": [
    "mean(data2.m)"
   ]
  },
  {
   "cell_type": "code",
   "execution_count": 10,
   "metadata": {
    "collapsed": false,
    "slideshow": {
     "slide_type": "fragment"
    }
   },
   "outputs": [
    {
     "data": {
      "text/html": [
       "147.1"
      ],
      "text/latex": [
       "147.1"
      ],
      "text/markdown": [
       "147.1"
      ],
      "text/plain": [
       "[1] 147.1"
      ]
     },
     "metadata": {},
     "output_type": "display_data"
    }
   ],
   "source": [
    "mean(data2.f)"
   ]
  },
  {
   "cell_type": "code",
   "execution_count": 11,
   "metadata": {
    "collapsed": false,
    "slideshow": {
     "slide_type": "fragment"
    }
   },
   "outputs": [
    {
     "data": {
      "text/html": [
       "2.5"
      ],
      "text/latex": [
       "2.5"
      ],
      "text/markdown": [
       "2.5"
      ],
      "text/plain": [
       "[1] 2.5"
      ]
     },
     "metadata": {},
     "output_type": "display_data"
    }
   ],
   "source": [
    "abs(mean(data2.m) - mean(data2.f))"
   ]
  },
  {
   "cell_type": "markdown",
   "metadata": {
    "slideshow": {
     "slide_type": "fragment"
    }
   },
   "source": [
    "平均身長は男子＝144.6 cm、女子＝147.1 cm\n",
    "\n",
    "“全国の小学6年生の女子の平均身長は男子より高い”と結論を下して良いだろうか？"
   ]
  },
  {
   "cell_type": "markdown",
   "metadata": {
    "slideshow": {
     "slide_type": "subslide"
    }
   },
   "source": [
    "実は全国平均のデータは文部科学省による全数調査によって得られており、\n",
    "\n",
    "平成25年度の小学4年生の全国平均は男子女子ともに133.6 cmで差がなく、\n",
    "\n",
    "小学6年生は男子＝145.0 cm、女子＝146.8 cm\n",
    "\n",
    "6年1組のデータからは全国平均において**女子のほうが男子よりも身長が高い**、と結論付けるのが正しい判断である"
   ]
  },
  {
   "cell_type": "markdown",
   "metadata": {
    "slideshow": {
     "slide_type": "subslide"
    }
   },
   "source": [
    "4年生の1.5の差は、たまたまその男子15人の中に身長の高い生徒が選ばれ、女子15人の中に身長の低い女子が選ばれたことによる\n",
    "\n",
    "一方、小学校6年の身長の差2.5は、偶然のばらつきだけでなく女子の方が高いという効果が入っている"
   ]
  },
  {
   "cell_type": "markdown",
   "metadata": {
    "slideshow": {
     "slide_type": "fragment"
    }
   },
   "source": [
    "では、いったい平均値の差がどの程度あれば、差があるとみなせるだろうか？  \n",
    "そのためには、データのばらつきの度合い（＝分散）に注目し、平均値の差が偶然のばらつきからどの程度起こりうるかを検証することで、全体の傾向を推し量る\n",
    "\n",
    "統計的検定法は、基本的にこの二つの記述統計量（平均、ばらつき＝分散）から成り立つ"
   ]
  },
  {
   "cell_type": "markdown",
   "metadata": {
    "slideshow": {
     "slide_type": "slide"
    }
   },
   "source": [
    "## 1・3　統計学を学ぶ大切さ：推定・検定・予測\n",
    "\n",
    "統計学の手法はおおまかには推定、検定、予測の三つに分けられる\n",
    "\n",
    "1）**推定**：平均、分散（ばらつき）、95%信頼区間など、手持ちのデータセットをもとに、母集団（population）の基本統計量を定量的に推測する\n",
    "\n",
    "2）**検定**：平均値などに差があるか否かをテストして判断する\n",
    "\n",
    "3）**予測**：座標表面で、X軸とY軸の二つのデータセットからその間の関係性を定量化したり、最ももっともらしい関数を求め、そこからX軸の値からY軸の最適な予測値を求める"
   ]
  },
  {
   "cell_type": "markdown",
   "metadata": {
    "slideshow": {
     "slide_type": "subslide"
    }
   },
   "source": [
    "もちろん、この三つは相互に連携し入り混じっている\n",
    "\n",
    "回帰分析の線形モデルは、分散分析と同一の統計解析となる。これは以下のような右辺の説明変数の関数から、左辺の応答変数の予測を得る図式にまとめられる。\n",
    "\n",
    " **$$応答変数の予測　←　関数f（説明変数＋誤差）$$**\n",
    "\n",
    "これが統計モデルの一般的形式である。念頭に置いてもらいたい"
   ]
  },
  {
   "cell_type": "markdown",
   "metadata": {
    "slideshow": {
     "slide_type": "slide"
    }
   },
   "source": [
    "## 第1章おしまい\n",
    "\n",
    "## しばし休憩"
   ]
  }
 ],
 "metadata": {
  "anaconda-cloud": {},
  "celltoolbar": "Slideshow",
  "kernelspec": {
   "display_name": "R",
   "language": "R",
   "name": "ir"
  },
  "language_info": {
   "codemirror_mode": "r",
   "file_extension": ".r",
   "mimetype": "text/x-r-source",
   "name": "R",
   "pygments_lexer": "r",
   "version": "3.3.1"
  }
 },
 "nbformat": 4,
 "nbformat_minor": 1
}
