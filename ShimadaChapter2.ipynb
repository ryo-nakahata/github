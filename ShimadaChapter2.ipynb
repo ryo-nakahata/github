{
 "cells": [
  {
   "cell_type": "markdown",
   "metadata": {
    "slideshow": {
     "slide_type": "slide"
    }
   },
   "source": [
    "# Rで学ぶ統計学入門\n",
    "\n",
    "# 2.　母集団と標本\n",
    "\n",
    "統計学の最初の第一歩は、データを集めるところから始まる\n",
    "\n",
    "母集団から正しく標本を抽出するのは、意外と間違いやすいので、しっかり理解してほしい"
   ]
  },
  {
   "cell_type": "markdown",
   "metadata": {
    "slideshow": {
     "slide_type": "slide"
    }
   },
   "source": [
    "## 2・1　母集団と標本の関係\n",
    "\n",
    "**母集団**（popuklation）は、調査対象となる数値や属性などを共有する集合全体をさす\n",
    "\n",
    "**標本**（sample）は母集団と共通の属性をもち、母集団の真部分集合として母集団の推定のために設けられたデータの小さな集合である\n",
    "***\n",
    "統計学の目的の一つは、標本から母集団の性質を明らかにすることである\n",
    "\n",
    "特に、知りたい性質として、母集団の代表的な値を示す平均値$\\mu$（**母平均**）や、母集団のデータのばらつき度合いを示す分散$\\sigma^2$（**母分散**）がある\n",
    "\n",
    "多くの場合、これらの値は未知である\n",
    "\n",
    "そこで、標本を母集団の一部として抽出し、その標本の個々のデータをもとに母集団の性質を推定するのである"
   ]
  },
  {
   "cell_type": "markdown",
   "metadata": {
    "slideshow": {
     "slide_type": "subslide"
    }
   },
   "source": [
    "**データ**とは実験や調査などで取得した個々の値である\n",
    "\n",
    "“標本の大きさ”とは一つの標本に含まれる“データの数”をさし、**標本サイズ**あるいは**サンプルサイズ**とよばれる\n",
    "\n",
    "一方、**標本数**（サンプル数）は母集団から抽出する“標本の数”である"
   ]
  },
  {
   "cell_type": "markdown",
   "metadata": {
    "slideshow": {
     "slide_type": "subslide"
    }
   },
   "source": [
    "第1章で紹介した全国小学6年生の身長データを例に、母集団と標本の関係を説明する\n",
    "\n",
    "調査の対象となる命題として、次のようなものを考える\n",
    "\n",
    "　**“日本の小学6年生（11歳）は、女子の方が男子よりも平均して身長が高い”**\n",
    "\n",
    "このとき、母集団は“日本の小学6年生”であり、属性として“性別（男女）”を考慮することになる"
   ]
  },
  {
   "cell_type": "markdown",
   "metadata": {
    "slideshow": {
     "slide_type": "subslide"
    }
   },
   "source": [
    "文部科学省は全国津々浦々余すところなく個々の生徒を調べ上げている。この調査は**全数調査**であり、男子・女子でそれぞれ55万人ほどにもなる大集団のデータである\n",
    "\n",
    "しかし、全数調査のデータはきわめてまれである。実際の事例では、想定された母集団性質は未知の場合がほとんどである\n",
    "\n",
    "では、個人として研究する私たちはどのようにこの命題を調査したらよいだろうか？  \n",
    "――適切な標本を設定して、その被験者のデータをもって、母集団の命題の真偽を判定するのである\n",
    "\n",
    "ただ、標本抽出を厳密に実施するとなるとけっこう難しい。“日本全国小学6年生（11歳）”“性別（男女）”の属性以外は、期待値にあらかじめ偏りが生じるような集め方をしてはいけない。つまり決められた条件以外は**無作為抽出**をする必要がある"
   ]
  },
  {
   "cell_type": "markdown",
   "metadata": {
    "slideshow": {
     "slide_type": "subslide"
    }
   },
   "source": [
    "一方、母集団が理論上は想定されていても、それが抽象的で把握しづらいことも想定される。たとえば、下記の生態学的な命題を調査することを考えてみよう\n",
    "\n",
    "　**“広葉の落葉樹は針葉樹に比べて葉の蒸散速度が高い”**\n",
    "\n",
    "この場合、母集団はどのように設定したらよいだろうか\n",
    "\n",
    "+ 広葉の落葉樹や針葉樹として、どのような樹種を選定すればよいのか？\n",
    "+ 季節はいつがよいか？春夏秋冬の任意でかまわないのか？\n",
    "+ 調査地域を限定しておく必要はあるのか？東北地方がよいのか西日本がよいのか？\n",
    "+ 樹齢はどの程度に設定するのか？大木か？若い樹か？\n",
    "\n",
    "この命題は科学的に母集団を定義するには任意性が大きすぎる印象をもつかもしれない。しかし、詳細なただし書きをつけた母集団では、逆に、一般化しにくくなる。\n",
    "\n",
    "**母集団の属性を絞りすぎると命題の一般性が失われる**という**トレードオフ**に注意する必要がある"
   ]
  },
  {
   "cell_type": "markdown",
   "metadata": {
    "slideshow": {
     "slide_type": "slide"
    }
   },
   "source": [
    "## 2・2　標本の性質\n",
    "\n",
    "簡単なデータセットを見てみる"
   ]
  },
  {
   "cell_type": "code",
   "execution_count": 1,
   "metadata": {
    "collapsed": false,
    "scrolled": true,
    "slideshow": {
     "slide_type": "fragment"
    }
   },
   "outputs": [
    {
     "data": {
      "text/html": [
       "<table>\n",
       "<thead><tr><th scope=col>SampleA</th><th scope=col>SampleB</th></tr></thead>\n",
       "<tbody>\n",
       "\t<tr><td>3 </td><td> 1</td></tr>\n",
       "\t<tr><td>4 </td><td> 2</td></tr>\n",
       "\t<tr><td>4 </td><td> 4</td></tr>\n",
       "\t<tr><td>5 </td><td> 4</td></tr>\n",
       "\t<tr><td>5 </td><td> 5</td></tr>\n",
       "\t<tr><td>5 </td><td> 5</td></tr>\n",
       "\t<tr><td>5 </td><td> 5</td></tr>\n",
       "\t<tr><td>6 </td><td> 6</td></tr>\n",
       "\t<tr><td>6 </td><td> 8</td></tr>\n",
       "\t<tr><td>7 </td><td>10</td></tr>\n",
       "</tbody>\n",
       "</table>\n"
      ],
      "text/latex": [
       "\\begin{tabular}{r|ll}\n",
       " SampleA & SampleB\\\\\n",
       "\\hline\n",
       "\t 3  &  1\\\\\n",
       "\t 4  &  2\\\\\n",
       "\t 4  &  4\\\\\n",
       "\t 5  &  4\\\\\n",
       "\t 5  &  5\\\\\n",
       "\t 5  &  5\\\\\n",
       "\t 5  &  5\\\\\n",
       "\t 6  &  6\\\\\n",
       "\t 6  &  8\\\\\n",
       "\t 7  & 10\\\\\n",
       "\\end{tabular}\n"
      ],
      "text/plain": [
       "   SampleA SampleB\n",
       "1  3        1     \n",
       "2  4        2     \n",
       "3  4        4     \n",
       "4  5        4     \n",
       "5  5        5     \n",
       "6  5        5     \n",
       "7  5        5     \n",
       "8  6        6     \n",
       "9  6        8     \n",
       "10 7       10     "
      ]
     },
     "metadata": {},
     "output_type": "display_data"
    }
   ],
   "source": [
    "A <- c(3, 4, 4, 5, 5, 5, 5, 6, 6, 7)\n",
    "B <- c(1, 2, 4, 4, 5, 5, 5, 6, 8, 10)\n",
    "(df1 <- data.frame(SampleA = A, SampleB = B))"
   ]
  },
  {
   "cell_type": "code",
   "execution_count": 2,
   "metadata": {
    "collapsed": true,
    "slideshow": {
     "slide_type": "skip"
    }
   },
   "outputs": [],
   "source": [
    "options(repr.plot.width=5, repr.plot.height=3)"
   ]
  },
  {
   "cell_type": "code",
   "execution_count": 3,
   "metadata": {
    "collapsed": false,
    "scrolled": false,
    "slideshow": {
     "slide_type": "subslide"
    }
   },
   "outputs": [
    {
     "data": {
      "image/png": "[encoded data removed]",
      "text/plain": [
       "Plot with title \"Histogram of B\""
      ]
     },
     "metadata": {},
     "output_type": "display_data"
    }
   ],
   "source": [
    "par(mfrow = c(1, 2)) \n",
    "hist(A, breaks=seq(-0.5, 12.5, 1), xlab=\"score\", ylab=\"freq.\", xlim=c(0, 12), ylim=c(0, 4), col=\"gray\")\n",
    "hist(B, breaks=seq(-0.5, 12.5, 1), xlab=\"score\", ylab=\"freq.\", xlim=c(0, 12), ylim=c(0, 4), col=\"gray\")"
   ]
  },
  {
   "cell_type": "markdown",
   "metadata": {
    "slideshow": {
     "slide_type": "fragment"
    }
   },
   "source": [
    "これは仮想のデータの頻度分布（ヒストグラム；各階級に含まれるデータ数の頻度を示す）である。各データを把握するときに、少なくとも以下の2点が必要である\n",
    "\n",
    "1）データの分布の位置はどのような値にあるだろうか？  \n",
    "　標本Aも標本Bも5の辺りを中心に分布している\n",
    "\n",
    "2）データの分布はどの程度ばらついているか？  \n",
    "　標本Aはばらつきが少なく、標本Bはよりばらついている"
   ]
  },
  {
   "cell_type": "markdown",
   "metadata": {
    "slideshow": {
     "slide_type": "subslide"
    }
   },
   "source": [
    "もう一つの事例\n",
    "\n",
    "二つの小学校の6年生男子の体重を示す"
   ]
  },
  {
   "cell_type": "code",
   "execution_count": 4,
   "metadata": {
    "collapsed": false,
    "slideshow": {
     "slide_type": "fragment"
    }
   },
   "outputs": [],
   "source": [
    "A <- c(43.3, 43.1, 42.6, 42.4, 42.2, 41.8, 41.7, 41.6, 41.5, 41.4, \n",
    "       40.8, 40.6, 40.5, 40.4, 40.4, 40.3, 40.2, 39.9, 39.9, 39.8,\n",
    "       39.7, 39.6, 39.6, 39.5, 39.4, 39.3, 38.9, 38.9, 38.8, 38.8,\n",
    "       38.7, 38.7, 38.6, 38.6, 38.5, 38.4, 38.3, 38.2, 38.1, 38.1,\n",
    "       37.6, 37.4, 37.1, 37.8, 37.6, 37.5, 37.4, 37.3, 37.2, 37.1,\n",
    "       37.1, 36.6, 36.5, 36.5, 36.4, 36.3, 36.2, 36.1, 35.4, 35.3,\n",
    "       35.2, 35.1, 35.1, 34.7, 34.3, 34.2, 33.2, 33.1, 32.7, 31.5)\n",
    "B <- c(47.3, 46.1, 45.6, 45.1, 44.5, 44.4, 43.7, 42.6, 42.5, 42.5, \n",
    "       41.4, 41.8, 41.6, 41.5, 40.7, 40.5, 40.4, 40.3, 40.1, 40.1,\n",
    "       39.9, 39.8, 39.7, 39.6, 39.6, 39.5, 39.4, 38.9, 38.8, 38.8,\n",
    "       38.7, 38.7, 38.6, 38.4, 38.2, 38.1, 38.1, 37.8, 37.7, 37.5,\n",
    "       37.5, 37.4, 37.3, 37.3, 37.1, 36.8, 36.8, 36.7, 36.6, 36.4,\n",
    "       36.2, 35.4, 35.4, 35.4, 35.3, 35.2, 34.9, 34.8, 34.7, 34.7,\n",
    "       33.9, 33.8, 33.7, 33.3, 33.1, 32.8, 32.5, 32.1, 31.7, 29.5)"
   ]
  },
  {
   "cell_type": "code",
   "execution_count": 5,
   "metadata": {
    "collapsed": false,
    "scrolled": true,
    "slideshow": {
     "slide_type": "subslide"
    }
   },
   "outputs": [
    {
     "data": {
      "text/html": [
       "<ol class=list-inline>\n",
       "\t<li>43.3</li>\n",
       "\t<li>43.1</li>\n",
       "\t<li>42.6</li>\n",
       "\t<li>42.4</li>\n",
       "\t<li>42.2</li>\n",
       "\t<li>41.8</li>\n",
       "\t<li>41.7</li>\n",
       "\t<li>41.6</li>\n",
       "\t<li>41.5</li>\n",
       "\t<li>41.4</li>\n",
       "\t<li>40.8</li>\n",
       "\t<li>40.6</li>\n",
       "\t<li>40.5</li>\n",
       "\t<li>40.4</li>\n",
       "\t<li>40.4</li>\n",
       "\t<li>40.3</li>\n",
       "\t<li>40.2</li>\n",
       "\t<li>39.9</li>\n",
       "\t<li>39.9</li>\n",
       "\t<li>39.8</li>\n",
       "\t<li>39.7</li>\n",
       "\t<li>39.6</li>\n",
       "\t<li>39.6</li>\n",
       "\t<li>39.5</li>\n",
       "\t<li>39.4</li>\n",
       "\t<li>39.3</li>\n",
       "\t<li>38.9</li>\n",
       "\t<li>38.9</li>\n",
       "\t<li>38.8</li>\n",
       "\t<li>38.8</li>\n",
       "\t<li>38.7</li>\n",
       "\t<li>38.7</li>\n",
       "\t<li>38.6</li>\n",
       "\t<li>38.6</li>\n",
       "\t<li>38.5</li>\n",
       "\t<li>38.4</li>\n",
       "\t<li>38.3</li>\n",
       "\t<li>38.2</li>\n",
       "\t<li>38.1</li>\n",
       "\t<li>38.1</li>\n",
       "\t<li>37.6</li>\n",
       "\t<li>37.4</li>\n",
       "\t<li>37.1</li>\n",
       "\t<li>37.8</li>\n",
       "\t<li>37.6</li>\n",
       "\t<li>37.5</li>\n",
       "\t<li>37.4</li>\n",
       "\t<li>37.3</li>\n",
       "\t<li>37.2</li>\n",
       "\t<li>37.1</li>\n",
       "\t<li>37.1</li>\n",
       "\t<li>36.6</li>\n",
       "\t<li>36.5</li>\n",
       "\t<li>36.5</li>\n",
       "\t<li>36.4</li>\n",
       "\t<li>36.3</li>\n",
       "\t<li>36.2</li>\n",
       "\t<li>36.1</li>\n",
       "\t<li>35.4</li>\n",
       "\t<li>35.3</li>\n",
       "\t<li>35.2</li>\n",
       "\t<li>35.1</li>\n",
       "\t<li>35.1</li>\n",
       "\t<li>34.7</li>\n",
       "\t<li>34.3</li>\n",
       "\t<li>34.2</li>\n",
       "\t<li>33.2</li>\n",
       "\t<li>33.1</li>\n",
       "\t<li>32.7</li>\n",
       "\t<li>31.5</li>\n",
       "</ol>\n"
      ],
      "text/latex": [
       "\\begin{enumerate*}\n",
       "\\item 43.3\n",
       "\\item 43.1\n",
       "\\item 42.6\n",
       "\\item 42.4\n",
       "\\item 42.2\n",
       "\\item 41.8\n",
       "\\item 41.7\n",
       "\\item 41.6\n",
       "\\item 41.5\n",
       "\\item 41.4\n",
       "\\item 40.8\n",
       "\\item 40.6\n",
       "\\item 40.5\n",
       "\\item 40.4\n",
       "\\item 40.4\n",
       "\\item 40.3\n",
       "\\item 40.2\n",
       "\\item 39.9\n",
       "\\item 39.9\n",
       "\\item 39.8\n",
       "\\item 39.7\n",
       "\\item 39.6\n",
       "\\item 39.6\n",
       "\\item 39.5\n",
       "\\item 39.4\n",
       "\\item 39.3\n",
       "\\item 38.9\n",
       "\\item 38.9\n",
       "\\item 38.8\n",
       "\\item 38.8\n",
       "\\item 38.7\n",
       "\\item 38.7\n",
       "\\item 38.6\n",
       "\\item 38.6\n",
       "\\item 38.5\n",
       "\\item 38.4\n",
       "\\item 38.3\n",
       "\\item 38.2\n",
       "\\item 38.1\n",
       "\\item 38.1\n",
       "\\item 37.6\n",
       "\\item 37.4\n",
       "\\item 37.1\n",
       "\\item 37.8\n",
       "\\item 37.6\n",
       "\\item 37.5\n",
       "\\item 37.4\n",
       "\\item 37.3\n",
       "\\item 37.2\n",
       "\\item 37.1\n",
       "\\item 37.1\n",
       "\\item 36.6\n",
       "\\item 36.5\n",
       "\\item 36.5\n",
       "\\item 36.4\n",
       "\\item 36.3\n",
       "\\item 36.2\n",
       "\\item 36.1\n",
       "\\item 35.4\n",
       "\\item 35.3\n",
       "\\item 35.2\n",
       "\\item 35.1\n",
       "\\item 35.1\n",
       "\\item 34.7\n",
       "\\item 34.3\n",
       "\\item 34.2\n",
       "\\item 33.2\n",
       "\\item 33.1\n",
       "\\item 32.7\n",
       "\\item 31.5\n",
       "\\end{enumerate*}\n"
      ],
      "text/markdown": [
       "1. 43.3\n",
       "2. 43.1\n",
       "3. 42.6\n",
       "4. 42.4\n",
       "5. 42.2\n",
       "6. 41.8\n",
       "7. 41.7\n",
       "8. 41.6\n",
       "9. 41.5\n",
       "10. 41.4\n",
       "11. 40.8\n",
       "12. 40.6\n",
       "13. 40.5\n",
       "14. 40.4\n",
       "15. 40.4\n",
       "16. 40.3\n",
       "17. 40.2\n",
       "18. 39.9\n",
       "19. 39.9\n",
       "20. 39.8\n",
       "21. 39.7\n",
       "22. 39.6\n",
       "23. 39.6\n",
       "24. 39.5\n",
       "25. 39.4\n",
       "26. 39.3\n",
       "27. 38.9\n",
       "28. 38.9\n",
       "29. 38.8\n",
       "30. 38.8\n",
       "31. 38.7\n",
       "32. 38.7\n",
       "33. 38.6\n",
       "34. 38.6\n",
       "35. 38.5\n",
       "36. 38.4\n",
       "37. 38.3\n",
       "38. 38.2\n",
       "39. 38.1\n",
       "40. 38.1\n",
       "41. 37.6\n",
       "42. 37.4\n",
       "43. 37.1\n",
       "44. 37.8\n",
       "45. 37.6\n",
       "46. 37.5\n",
       "47. 37.4\n",
       "48. 37.3\n",
       "49. 37.2\n",
       "50. 37.1\n",
       "51. 37.1\n",
       "52. 36.6\n",
       "53. 36.5\n",
       "54. 36.5\n",
       "55. 36.4\n",
       "56. 36.3\n",
       "57. 36.2\n",
       "58. 36.1\n",
       "59. 35.4\n",
       "60. 35.3\n",
       "61. 35.2\n",
       "62. 35.1\n",
       "63. 35.1\n",
       "64. 34.7\n",
       "65. 34.3\n",
       "66. 34.2\n",
       "67. 33.2\n",
       "68. 33.1\n",
       "69. 32.7\n",
       "70. 31.5\n",
       "\n",
       "\n"
      ],
      "text/plain": [
       " [1] 43.3 43.1 42.6 42.4 42.2 41.8 41.7 41.6 41.5 41.4 40.8 40.6 40.5 40.4 40.4\n",
       "[16] 40.3 40.2 39.9 39.9 39.8 39.7 39.6 39.6 39.5 39.4 39.3 38.9 38.9 38.8 38.8\n",
       "[31] 38.7 38.7 38.6 38.6 38.5 38.4 38.3 38.2 38.1 38.1 37.6 37.4 37.1 37.8 37.6\n",
       "[46] 37.5 37.4 37.3 37.2 37.1 37.1 36.6 36.5 36.5 36.4 36.3 36.2 36.1 35.4 35.3\n",
       "[61] 35.2 35.1 35.1 34.7 34.3 34.2 33.2 33.1 32.7 31.5"
      ]
     },
     "metadata": {},
     "output_type": "display_data"
    }
   ],
   "source": [
    "A"
   ]
  },
  {
   "cell_type": "markdown",
   "metadata": {
    "slideshow": {
     "slide_type": "fragment"
    }
   },
   "source": [
    "小学校Aの平均値と標準偏差"
   ]
  },
  {
   "cell_type": "code",
   "execution_count": 6,
   "metadata": {
    "collapsed": false,
    "slideshow": {
     "slide_type": "fragment"
    }
   },
   "outputs": [
    {
     "data": {
      "text/html": [
       "38.24"
      ],
      "text/latex": [
       "38.24"
      ],
      "text/markdown": [
       "38.24"
      ],
      "text/plain": [
       "[1] 38.24"
      ]
     },
     "metadata": {},
     "output_type": "display_data"
    },
    {
     "data": {
      "text/html": [
       "2.59"
      ],
      "text/latex": [
       "2.59"
      ],
      "text/markdown": [
       "2.59"
      ],
      "text/plain": [
       "[1] 2.59"
      ]
     },
     "metadata": {},
     "output_type": "display_data"
    }
   ],
   "source": [
    "round(mean(A),2)\n",
    "round(sd(A),2)"
   ]
  },
  {
   "cell_type": "code",
   "execution_count": 7,
   "metadata": {
    "collapsed": false,
    "scrolled": true,
    "slideshow": {
     "slide_type": "subslide"
    }
   },
   "outputs": [
    {
     "data": {
      "text/html": [
       "<ol class=list-inline>\n",
       "\t<li>47.3</li>\n",
       "\t<li>46.1</li>\n",
       "\t<li>45.6</li>\n",
       "\t<li>45.1</li>\n",
       "\t<li>44.5</li>\n",
       "\t<li>44.4</li>\n",
       "\t<li>43.7</li>\n",
       "\t<li>42.6</li>\n",
       "\t<li>42.5</li>\n",
       "\t<li>42.5</li>\n",
       "\t<li>41.4</li>\n",
       "\t<li>41.8</li>\n",
       "\t<li>41.6</li>\n",
       "\t<li>41.5</li>\n",
       "\t<li>40.7</li>\n",
       "\t<li>40.5</li>\n",
       "\t<li>40.4</li>\n",
       "\t<li>40.3</li>\n",
       "\t<li>40.1</li>\n",
       "\t<li>40.1</li>\n",
       "\t<li>39.9</li>\n",
       "\t<li>39.8</li>\n",
       "\t<li>39.7</li>\n",
       "\t<li>39.6</li>\n",
       "\t<li>39.6</li>\n",
       "\t<li>39.5</li>\n",
       "\t<li>39.4</li>\n",
       "\t<li>38.9</li>\n",
       "\t<li>38.8</li>\n",
       "\t<li>38.8</li>\n",
       "\t<li>38.7</li>\n",
       "\t<li>38.7</li>\n",
       "\t<li>38.6</li>\n",
       "\t<li>38.4</li>\n",
       "\t<li>38.2</li>\n",
       "\t<li>38.1</li>\n",
       "\t<li>38.1</li>\n",
       "\t<li>37.8</li>\n",
       "\t<li>37.7</li>\n",
       "\t<li>37.5</li>\n",
       "\t<li>37.5</li>\n",
       "\t<li>37.4</li>\n",
       "\t<li>37.3</li>\n",
       "\t<li>37.3</li>\n",
       "\t<li>37.1</li>\n",
       "\t<li>36.8</li>\n",
       "\t<li>36.8</li>\n",
       "\t<li>36.7</li>\n",
       "\t<li>36.6</li>\n",
       "\t<li>36.4</li>\n",
       "\t<li>36.2</li>\n",
       "\t<li>35.4</li>\n",
       "\t<li>35.4</li>\n",
       "\t<li>35.4</li>\n",
       "\t<li>35.3</li>\n",
       "\t<li>35.2</li>\n",
       "\t<li>34.9</li>\n",
       "\t<li>34.8</li>\n",
       "\t<li>34.7</li>\n",
       "\t<li>34.7</li>\n",
       "\t<li>33.9</li>\n",
       "\t<li>33.8</li>\n",
       "\t<li>33.7</li>\n",
       "\t<li>33.3</li>\n",
       "\t<li>33.1</li>\n",
       "\t<li>32.8</li>\n",
       "\t<li>32.5</li>\n",
       "\t<li>32.1</li>\n",
       "\t<li>31.7</li>\n",
       "\t<li>29.5</li>\n",
       "</ol>\n"
      ],
      "text/latex": [
       "\\begin{enumerate*}\n",
       "\\item 47.3\n",
       "\\item 46.1\n",
       "\\item 45.6\n",
       "\\item 45.1\n",
       "\\item 44.5\n",
       "\\item 44.4\n",
       "\\item 43.7\n",
       "\\item 42.6\n",
       "\\item 42.5\n",
       "\\item 42.5\n",
       "\\item 41.4\n",
       "\\item 41.8\n",
       "\\item 41.6\n",
       "\\item 41.5\n",
       "\\item 40.7\n",
       "\\item 40.5\n",
       "\\item 40.4\n",
       "\\item 40.3\n",
       "\\item 40.1\n",
       "\\item 40.1\n",
       "\\item 39.9\n",
       "\\item 39.8\n",
       "\\item 39.7\n",
       "\\item 39.6\n",
       "\\item 39.6\n",
       "\\item 39.5\n",
       "\\item 39.4\n",
       "\\item 38.9\n",
       "\\item 38.8\n",
       "\\item 38.8\n",
       "\\item 38.7\n",
       "\\item 38.7\n",
       "\\item 38.6\n",
       "\\item 38.4\n",
       "\\item 38.2\n",
       "\\item 38.1\n",
       "\\item 38.1\n",
       "\\item 37.8\n",
       "\\item 37.7\n",
       "\\item 37.5\n",
       "\\item 37.5\n",
       "\\item 37.4\n",
       "\\item 37.3\n",
       "\\item 37.3\n",
       "\\item 37.1\n",
       "\\item 36.8\n",
       "\\item 36.8\n",
       "\\item 36.7\n",
       "\\item 36.6\n",
       "\\item 36.4\n",
       "\\item 36.2\n",
       "\\item 35.4\n",
       "\\item 35.4\n",
       "\\item 35.4\n",
       "\\item 35.3\n",
       "\\item 35.2\n",
       "\\item 34.9\n",
       "\\item 34.8\n",
       "\\item 34.7\n",
       "\\item 34.7\n",
       "\\item 33.9\n",
       "\\item 33.8\n",
       "\\item 33.7\n",
       "\\item 33.3\n",
       "\\item 33.1\n",
       "\\item 32.8\n",
       "\\item 32.5\n",
       "\\item 32.1\n",
       "\\item 31.7\n",
       "\\item 29.5\n",
       "\\end{enumerate*}\n"
      ],
      "text/markdown": [
       "1. 47.3\n",
       "2. 46.1\n",
       "3. 45.6\n",
       "4. 45.1\n",
       "5. 44.5\n",
       "6. 44.4\n",
       "7. 43.7\n",
       "8. 42.6\n",
       "9. 42.5\n",
       "10. 42.5\n",
       "11. 41.4\n",
       "12. 41.8\n",
       "13. 41.6\n",
       "14. 41.5\n",
       "15. 40.7\n",
       "16. 40.5\n",
       "17. 40.4\n",
       "18. 40.3\n",
       "19. 40.1\n",
       "20. 40.1\n",
       "21. 39.9\n",
       "22. 39.8\n",
       "23. 39.7\n",
       "24. 39.6\n",
       "25. 39.6\n",
       "26. 39.5\n",
       "27. 39.4\n",
       "28. 38.9\n",
       "29. 38.8\n",
       "30. 38.8\n",
       "31. 38.7\n",
       "32. 38.7\n",
       "33. 38.6\n",
       "34. 38.4\n",
       "35. 38.2\n",
       "36. 38.1\n",
       "37. 38.1\n",
       "38. 37.8\n",
       "39. 37.7\n",
       "40. 37.5\n",
       "41. 37.5\n",
       "42. 37.4\n",
       "43. 37.3\n",
       "44. 37.3\n",
       "45. 37.1\n",
       "46. 36.8\n",
       "47. 36.8\n",
       "48. 36.7\n",
       "49. 36.6\n",
       "50. 36.4\n",
       "51. 36.2\n",
       "52. 35.4\n",
       "53. 35.4\n",
       "54. 35.4\n",
       "55. 35.3\n",
       "56. 35.2\n",
       "57. 34.9\n",
       "58. 34.8\n",
       "59. 34.7\n",
       "60. 34.7\n",
       "61. 33.9\n",
       "62. 33.8\n",
       "63. 33.7\n",
       "64. 33.3\n",
       "65. 33.1\n",
       "66. 32.8\n",
       "67. 32.5\n",
       "68. 32.1\n",
       "69. 31.7\n",
       "70. 29.5\n",
       "\n",
       "\n"
      ],
      "text/plain": [
       " [1] 47.3 46.1 45.6 45.1 44.5 44.4 43.7 42.6 42.5 42.5 41.4 41.8 41.6 41.5 40.7\n",
       "[16] 40.5 40.4 40.3 40.1 40.1 39.9 39.8 39.7 39.6 39.6 39.5 39.4 38.9 38.8 38.8\n",
       "[31] 38.7 38.7 38.6 38.4 38.2 38.1 38.1 37.8 37.7 37.5 37.5 37.4 37.3 37.3 37.1\n",
       "[46] 36.8 36.8 36.7 36.6 36.4 36.2 35.4 35.4 35.4 35.3 35.2 34.9 34.8 34.7 34.7\n",
       "[61] 33.9 33.8 33.7 33.3 33.1 32.8 32.5 32.1 31.7 29.5"
      ]
     },
     "metadata": {},
     "output_type": "display_data"
    }
   ],
   "source": [
    "B"
   ]
  },
  {
   "cell_type": "markdown",
   "metadata": {
    "slideshow": {
     "slide_type": "fragment"
    }
   },
   "source": [
    "小学校Bの平均値と標準偏差"
   ]
  },
  {
   "cell_type": "code",
   "execution_count": 8,
   "metadata": {
    "collapsed": false,
    "slideshow": {
     "slide_type": "fragment"
    }
   },
   "outputs": [
    {
     "data": {
      "text/html": [
       "38.24"
      ],
      "text/latex": [
       "38.24"
      ],
      "text/markdown": [
       "38.24"
      ],
      "text/plain": [
       "[1] 38.24"
      ]
     },
     "metadata": {},
     "output_type": "display_data"
    },
    {
     "data": {
      "text/html": [
       "3.68"
      ],
      "text/latex": [
       "3.68"
      ],
      "text/markdown": [
       "3.68"
      ],
      "text/plain": [
       "[1] 3.68"
      ]
     },
     "metadata": {},
     "output_type": "display_data"
    }
   ],
   "source": [
    "round(mean(B),2)\n",
    "round(sd(B),2)"
   ]
  },
  {
   "cell_type": "code",
   "execution_count": 9,
   "metadata": {
    "collapsed": false,
    "scrolled": true,
    "slideshow": {
     "slide_type": "subslide"
    }
   },
   "outputs": [
    {
     "data": {
      "image/png": "[encoded data removed]",
      "text/plain": [
       "Plot with title \"Histogram of B\""
      ]
     },
     "metadata": {},
     "output_type": "display_data"
    }
   ],
   "source": [
    "par(mfrow = c(1, 2)) \n",
    "hist(A, xlab=\"score\", ylab=\"freq.\", xlim=c(25, 50), ylim=c(0, 14), col=\"gray\", breaks=15)\n",
    "hist(B, xlab=\"score\", ylab=\"freq.\", xlim=c(25, 50), ylim=c(0, 14), col=\"gray\", breaks=15)"
   ]
  },
  {
   "cell_type": "markdown",
   "metadata": {
    "slideshow": {
     "slide_type": "fragment"
    }
   },
   "source": [
    "この男子生徒の体重を把握するときにも、同じように次の2点の把握が必要である\n",
    "\n",
    "3）データの分布の位置はどのような値にあるのだろうか？  \n",
    "　38 kgの辺りを中心に分布している\n",
    "\n",
    "4）生徒たちの体重はどの程度ばらついているのか？  \n",
    "　小学校Aよりも小学校Bのほうがばらついている"
   ]
  },
  {
   "cell_type": "markdown",
   "metadata": {
    "slideshow": {
     "slide_type": "slide"
    }
   },
   "source": [
    "### 2・2・1　中心や位置を表す指標\n",
    "\n",
    "**a. 平均**（mean, average）\n",
    "\n",
    "　平均値はデータの合計をデータの個数でわったもの\n",
    " \n",
    "$$\\bar{X}=\\frac{1}{n}\\sum_{i=1}^n X_i$$\n",
    "\n",
    "> $\\bar{X}:平均値$  \n",
    "> $X:個々のデータ値$  \n",
    "> $n:データの総数$"
   ]
  },
  {
   "cell_type": "markdown",
   "metadata": {
    "slideshow": {
     "slide_type": "subslide"
    }
   },
   "source": [
    "**b. 中央値**（median）\n",
    "\n",
    "　中央値とは、データを大きい方から小さい方へと順番に並べたときに、ちょうど中央にくる値である\n",
    "\n",
    "**c. 最頻値**（mode）\n",
    "\n",
    "最頻値とは、分布の中で最も出現する度合いの高いデータの値のことである"
   ]
  },
  {
   "cell_type": "markdown",
   "metadata": {
    "slideshow": {
     "slide_type": "subslide"
    }
   },
   "source": [
    "母集団の平均値と標本の平均値を区別するときには、母集団平均は一般に$\\mu$で表し、これを推定するための標本平均を$\\bar{X}$で表す\n",
    "\n",
    "中央値も箱ひげ図を利用してデータセットの全体像を示すときによく使われる"
   ]
  },
  {
   "cell_type": "markdown",
   "metadata": {
    "slideshow": {
     "slide_type": "subslide"
    }
   },
   "source": [
    "#### コラム2・1　箱ひげ図"
   ]
  },
  {
   "cell_type": "code",
   "execution_count": 10,
   "metadata": {
    "collapsed": true,
    "slideshow": {
     "slide_type": "skip"
    }
   },
   "outputs": [],
   "source": [
    "options(repr.plot.width=3, repr.plot.height=4)"
   ]
  },
  {
   "cell_type": "code",
   "execution_count": 11,
   "metadata": {
    "collapsed": false,
    "scrolled": true,
    "slideshow": {
     "slide_type": "fragment"
    }
   },
   "outputs": [
    {
     "data": {
      "image/png": "[encoded data removed]",
      "text/plain": [
       "plot without title"
      ]
     },
     "metadata": {},
     "output_type": "display_data"
    }
   ],
   "source": [
    "d <- rnorm(2000, mean=145.5, sd=4.0)\n",
    "boxplot(d, ylim=c(130, 160), ylab=\"length (cm)\")"
   ]
  },
  {
   "cell_type": "markdown",
   "metadata": {
    "slideshow": {
     "slide_type": "fragment"
    }
   },
   "source": [
    "データをプロットする方法の一つに・・・"
   ]
  },
  {
   "cell_type": "markdown",
   "metadata": {
    "slideshow": {
     "slide_type": "slide"
    }
   },
   "source": [
    "### 2・2・2　ばらつき（変動）を表す指標\n",
    "\n",
    "**a. 平方和**（sum of squares）\n",
    "\n",
    "各データの平均値からの隔たりを**偏差**（deviation）とよぶ\n",
    "\n",
    "$$偏差=X_i-\\bar{X}$$\n",
    "\n",
    "この偏差をすべて足したらばらつきの尺度となるだろうか？残念ながら、それらを総和するとちょうどゼロになってしまう\n",
    "\n",
    "$$\\sum_{i=1}^n (X_i-\\bar{X})=0$$\n",
    "\n",
    "いっそ偏差をすべて二乗にすればプラスになるから都合がよい。これにもとづいて生まれた尺度が**平方和**（偏差の平方和）であり、ふつう$SS$と略される\n",
    "\n",
    "$$SS=\\sum_{i=1}^n (X_i-\\bar{X})^2$$"
   ]
  },
  {
   "cell_type": "markdown",
   "metadata": {
    "slideshow": {
     "slide_type": "subslide"
    }
   },
   "source": [
    "#### コラム2・2　平方和の計算方法\n",
    "\n",
    "（ふだん平方和を手計算するようなことはまれなので割愛）"
   ]
  },
  {
   "cell_type": "markdown",
   "metadata": {
    "slideshow": {
     "slide_type": "subslide"
    }
   },
   "source": [
    "**b. 標本分散**（sample variance）\n",
    "\n",
    "ばらつきの尺度として平方和を用いることには、実は不適当な面がある。それは、平方和がデータの個数に依存するからである\n",
    "\n",
    "そこでデータの個数に依存しないように基準化するために、$SS$をデータ個数で割ってやると、新たな統計量が生まれる。これが**標本分散**（variance）である\n",
    "\n",
    "標本分散は、$SS$を$n$で割る方法\n",
    "\n",
    "$$\\frac{SS}{n}=\\frac{1}{n}\\sum_{i=1}^n (X_i-\\bar{X})^2$$\n",
    "\n",
    "よりも、\n",
    "\n",
    "$$\\frac{SS}{n-1}=\\frac{1}{n-1}\\sum_{i=1}^n (X_i-\\bar{X})^2$$\n",
    "\n",
    "の方がよい（不偏分散？）"
   ]
  },
  {
   "cell_type": "markdown",
   "metadata": {
    "slideshow": {
     "slide_type": "subslide"
    }
   },
   "source": [
    "**c. 標準偏差**（standard deviation）\n",
    "\n",
    "**標準偏差**は（$s$）は標本分散の平方根をとったものである。**母集団標準偏差**は$\\sigma$で表す\n",
    "\n",
    "$$標準偏差=\\sqrt{s^2}$$\n",
    "\n",
    "小学校Aの6年生男子の体重の標準偏差は$2.59$、小学校Bの標準偏差は$3.68$と差が表れている\n",
    "***\n",
    "ばらつきを示す三つの尺度、平方和$SS$、不偏分散$s^2$、標準偏差$s$は式の成り立ちをみると互いに密接に関連している"
   ]
  },
  {
   "cell_type": "markdown",
   "metadata": {
    "slideshow": {
     "slide_type": "fragment"
    }
   },
   "source": [
    "**d. 範囲**（range）\n",
    "\n",
    "ばらつきの尺度として用いられる最も簡単なものは“範囲”で、レンジとよぶことが多い。レンジは、標本のデータ分布の最大と最小のデータ値の差である。ばらつきの尺度として適切でない"
   ]
  },
  {
   "cell_type": "markdown",
   "metadata": {
    "slideshow": {
     "slide_type": "slide"
    }
   },
   "source": [
    "### 2・2・3　不偏分散\n",
    "\n",
    "分散を計算するのは母集団の分布の推定を行うためでもある\n",
    "\n",
    "標本の分散から推定される母集団分布は、実際よりも小さくなる傾向がある\n",
    "\n",
    "この理由で、母集団分散の推定には、標本分散の式を変形した**不偏分散**（$s^2$）として扱うのが一般的である。$SS$で割る分母は$n$ではなく、$n-1$である。こうすることによって、標本分散を母集団分散の推定値にする"
   ]
  },
  {
   "cell_type": "markdown",
   "metadata": {
    "slideshow": {
     "slide_type": "subslide"
    }
   },
   "source": [
    "#### コラム2・3　不偏分散はなぜ平方和を$n-1$で割るか？\n",
    "\n",
    "（興味深いお話なので興味がある方は読んでくださいー）"
   ]
  },
  {
   "cell_type": "markdown",
   "metadata": {
    "slideshow": {
     "slide_type": "fragment"
    }
   },
   "source": [
    "#### コラム2・4　自由度とは\n",
    "\n",
    "（同上）"
   ]
  },
  {
   "cell_type": "markdown",
   "metadata": {
    "slideshow": {
     "slide_type": "slide"
    }
   },
   "source": [
    "## 2・3　Rを使って計算してみよう\n",
    "\n",
    "Rで簡単な計算を実行してみよう\n",
    "\n",
    "Rの四則演算は、  \n",
    "　$+ (和)$　　$-(減)$　　$*(乗)$　　$/(除)$  \n",
    "で表す\n",
    "\n",
    "右辺の値から左辺への代入は  \n",
    "　$<-$  \n",
    " を使う"
   ]
  },
  {
   "cell_type": "code",
   "execution_count": 12,
   "metadata": {
    "collapsed": false,
    "slideshow": {
     "slide_type": "fragment"
    }
   },
   "outputs": [
    {
     "data": {
      "text/html": [
       "14"
      ],
      "text/latex": [
       "14"
      ],
      "text/markdown": [
       "14"
      ],
      "text/plain": [
       "[1] 14"
      ]
     },
     "metadata": {},
     "output_type": "display_data"
    }
   ],
   "source": [
    "a <- 10\n",
    "x <- (5+3)*2-a/5\n",
    "x"
   ]
  },
  {
   "cell_type": "markdown",
   "metadata": {
    "slideshow": {
     "slide_type": "subslide"
    }
   },
   "source": [
    "次に、以下の10個のデータについて、Rを使って基礎統計量を計算してみる\n",
    "\n",
    "$$1, 2, 3, 4, 5, 6, 7, 8, 9, 10$$\n",
    "\n",
    "手始めに、算術平均を求める関数mean()と、不偏分散を求める関数var()を使って、平均値、不偏分散、標準偏差を求めてみよう"
   ]
  },
  {
   "cell_type": "code",
   "execution_count": 13,
   "metadata": {
    "collapsed": false,
    "slideshow": {
     "slide_type": "fragment"
    }
   },
   "outputs": [
    {
     "data": {
      "text/html": [
       "5.5"
      ],
      "text/latex": [
       "5.5"
      ],
      "text/markdown": [
       "5.5"
      ],
      "text/plain": [
       "[1] 5.5"
      ]
     },
     "metadata": {},
     "output_type": "display_data"
    }
   ],
   "source": [
    "d <- c(1, 2, 3, 4, 5, 6, 7, 8, 9, 10)\n",
    "mean(d)"
   ]
  },
  {
   "cell_type": "code",
   "execution_count": 14,
   "metadata": {
    "collapsed": false,
    "slideshow": {
     "slide_type": "fragment"
    }
   },
   "outputs": [
    {
     "data": {
      "text/html": [
       "9.16666666666667"
      ],
      "text/latex": [
       "9.16666666666667"
      ],
      "text/markdown": [
       "9.16666666666667"
      ],
      "text/plain": [
       "[1] 9.166667"
      ]
     },
     "metadata": {},
     "output_type": "display_data"
    }
   ],
   "source": [
    "var(d)"
   ]
  },
  {
   "cell_type": "code",
   "execution_count": 15,
   "metadata": {
    "collapsed": false,
    "slideshow": {
     "slide_type": "fragment"
    }
   },
   "outputs": [
    {
     "data": {
      "text/html": [
       "3.02765035409749"
      ],
      "text/latex": [
       "3.02765035409749"
      ],
      "text/markdown": [
       "3.02765035409749"
      ],
      "text/plain": [
       "[1] 3.02765"
      ]
     },
     "metadata": {},
     "output_type": "display_data"
    }
   ],
   "source": [
    "sd(d)"
   ]
  },
  {
   "cell_type": "markdown",
   "metadata": {
    "slideshow": {
     "slide_type": "subslide"
    }
   },
   "source": [
    "基本的な関数の使い方など\n",
    "\n",
    "①c()は入力した数値列を作成する  \n",
    "②mean()は平均を求める  \n",
    "③var()は不偏分散を求める  \n",
    "④sd()は標準偏差を求める"
   ]
  },
  {
   "cell_type": "markdown",
   "metadata": {
    "slideshow": {
     "slide_type": "subslide"
    }
   },
   "source": [
    "さらに、Rの練習として、上記の同じ数列について別の関数を使って計算してみよう"
   ]
  },
  {
   "cell_type": "code",
   "execution_count": 16,
   "metadata": {
    "collapsed": false,
    "slideshow": {
     "slide_type": "fragment"
    }
   },
   "outputs": [
    {
     "data": {
      "text/html": [
       "5.5"
      ],
      "text/latex": [
       "5.5"
      ],
      "text/markdown": [
       "5.5"
      ],
      "text/plain": [
       "[1] 5.5"
      ]
     },
     "metadata": {},
     "output_type": "display_data"
    }
   ],
   "source": [
    "d <- c(1, 2, 3, 4, 5, 6, 7, 8, 9, 10)\n",
    "a <- sum(d)/length(d)\n",
    "a"
   ]
  },
  {
   "cell_type": "code",
   "execution_count": 17,
   "metadata": {
    "collapsed": false,
    "slideshow": {
     "slide_type": "fragment"
    }
   },
   "outputs": [
    {
     "data": {
      "text/html": [
       "9.16666666666667"
      ],
      "text/latex": [
       "9.16666666666667"
      ],
      "text/markdown": [
       "9.16666666666667"
      ],
      "text/plain": [
       "[1] 9.166667"
      ]
     },
     "metadata": {},
     "output_type": "display_data"
    }
   ],
   "source": [
    "b <- sum((d-a)^2)/(length(d)-1)\n",
    "b"
   ]
  },
  {
   "cell_type": "code",
   "execution_count": 18,
   "metadata": {
    "collapsed": false,
    "slideshow": {
     "slide_type": "fragment"
    }
   },
   "outputs": [
    {
     "data": {
      "text/html": [
       "3.02765035409749"
      ],
      "text/latex": [
       "3.02765035409749"
      ],
      "text/markdown": [
       "3.02765035409749"
      ],
      "text/plain": [
       "[1] 3.02765"
      ]
     },
     "metadata": {},
     "output_type": "display_data"
    }
   ],
   "source": [
    "sqrt(var(d))"
   ]
  },
  {
   "cell_type": "markdown",
   "metadata": {
    "slideshow": {
     "slide_type": "subslide"
    }
   },
   "source": [
    "このRスクリプトを解説\n",
    "\n",
    "①sum()はデータの総和を求める  \n",
    "②length()はデータの個数を求める  \n",
    "③sum((d-a)^2)は（偏差）$^2$の総和、すなわち$SS$（平方根）となる  \n",
    "④Rはオブジェクト同士の演算として、dの10個のオブジェクトのデータ値に対して、a（平均値）を引くことを一挙に実行する"
   ]
  },
  {
   "cell_type": "markdown",
   "metadata": {
    "slideshow": {
     "slide_type": "subslide"
    }
   },
   "source": [
    "#### 演習問題2・1\n",
    "mean()とvar()を使って、以下の数値列の平均値と不偏分散、標準偏差を求めよ\n",
    "\n",
    "$$5.1, 7.4, 10.3, 9.2, 6.5, 6.1, 7.9, 8.7, 8.1, 9.4$$"
   ]
  },
  {
   "cell_type": "code",
   "execution_count": 19,
   "metadata": {
    "collapsed": false,
    "scrolled": true,
    "slideshow": {
     "slide_type": "fragment"
    }
   },
   "outputs": [
    {
     "data": {
      "text/html": [
       "7.87"
      ],
      "text/latex": [
       "7.87"
      ],
      "text/markdown": [
       "7.87"
      ],
      "text/plain": [
       "[1] 7.87"
      ]
     },
     "metadata": {},
     "output_type": "display_data"
    },
    {
     "data": {
      "text/html": [
       "2.629"
      ],
      "text/latex": [
       "2.629"
      ],
      "text/markdown": [
       "2.629"
      ],
      "text/plain": [
       "[1] 2.629"
      ]
     },
     "metadata": {},
     "output_type": "display_data"
    },
    {
     "data": {
      "text/html": [
       "1.62141913150178"
      ],
      "text/latex": [
       "1.62141913150178"
      ],
      "text/markdown": [
       "1.62141913150178"
      ],
      "text/plain": [
       "[1] 1.621419"
      ]
     },
     "metadata": {},
     "output_type": "display_data"
    }
   ],
   "source": [
    "d <- c(5.1, 7.4, 10.3, 9.2, 6.5, 6.1, 7.9, 8.7, 8.1, 9.4)\n",
    "mean(d)\n",
    "var(d)\n",
    "sd(d)"
   ]
  },
  {
   "cell_type": "markdown",
   "metadata": {
    "slideshow": {
     "slide_type": "subslide"
    }
   },
   "source": [
    "#### 演習問題2・2\n",
    "問題2・1の数列に対してmean()とvar()を使わずに、平均と不偏分散、標準偏差を求めよ"
   ]
  },
  {
   "cell_type": "code",
   "execution_count": 20,
   "metadata": {
    "collapsed": false,
    "slideshow": {
     "slide_type": "fragment"
    }
   },
   "outputs": [
    {
     "data": {
      "text/html": [
       "7.87"
      ],
      "text/latex": [
       "7.87"
      ],
      "text/markdown": [
       "7.87"
      ],
      "text/plain": [
       "[1] 7.87"
      ]
     },
     "metadata": {},
     "output_type": "display_data"
    },
    {
     "data": {
      "text/html": [
       "2.629"
      ],
      "text/latex": [
       "2.629"
      ],
      "text/markdown": [
       "2.629"
      ],
      "text/plain": [
       "[1] 2.629"
      ]
     },
     "metadata": {},
     "output_type": "display_data"
    },
    {
     "data": {
      "text/html": [
       "1.62141913150178"
      ],
      "text/latex": [
       "1.62141913150178"
      ],
      "text/markdown": [
       "1.62141913150178"
      ],
      "text/plain": [
       "[1] 1.621419"
      ]
     },
     "metadata": {},
     "output_type": "display_data"
    }
   ],
   "source": [
    "a <- sum(d)/length(d)\n",
    "a\n",
    "sum((d-a)^2)/(length(d)-1)\n",
    "sqrt(var(d))"
   ]
  }
 ],
 "metadata": {
  "anaconda-cloud": {},
  "celltoolbar": "Slideshow",
  "kernelspec": {
   "display_name": "R",
   "language": "R",
   "name": "ir"
  },
  "language_info": {
   "codemirror_mode": "r",
   "file_extension": ".r",
   "mimetype": "text/x-r-source",
   "name": "R",
   "pygments_lexer": "r",
   "version": "3.3.1"
  }
 },
 "nbformat": 4,
 "nbformat_minor": 1
}
