{
 "cells": [
  {
   "cell_type": "markdown",
   "metadata": {
    "nbpresent": {
     "id": "ed57a5a3-c300-407d-ac36-40fc67677949"
    },
    "slideshow": {
     "slide_type": "slide"
    }
   },
   "source": [
    "# 第10章\n",
    "## 階層ベイズモデル：GLMMのベイズモデル化\n",
    "\n",
    "無情報事前分布と階層事前分布、この2種類の事前分布を使って、GLMMのベイズ版である階層ベイズモデルを作る"
   ]
  },
  {
   "cell_type": "markdown",
   "metadata": {
    "nbpresent": {
     "id": "d3347c18-57d5-47ea-bd71-5f784f2f901f"
    },
    "slideshow": {
     "slide_type": "subslide"
    }
   },
   "source": [
    "\n",
    "　　この章では   \n",
    "  \n",
    "　　　　**階層事前分布(hierarchical prior)**を使って  \n",
    "    \n",
    "　　　　　　**一般化線形混合モデル(GLMM)**を  \n",
    "      \n",
    "　　　　　　　　**階層ベイズモデル(hierarchical Bayesian model)**  \n",
    "        \n",
    "　　　　　　　　　　として扱う方法を説明する\n"
   ]
  },
  {
   "cell_type": "markdown",
   "metadata": {
    "nbpresent": {
     "id": "19afb87f-7394-4c10-95b4-36f20c5fa4f8"
    },
    "slideshow": {
     "slide_type": "slide"
    }
   },
   "source": [
    "## 10.1 例題：個体差と生存種子数（個体差あり）\n",
    "\n",
    "> 各個体から8個の種子を採集\n",
    "\n",
    "> 個体$i$において生存している種子$y_i$を調べた\n",
    "\n",
    "> 調査した個体数は100\n",
    "\n",
    "<img  src=\"fig. 10.1a.jpg\"/>\n",
    "\n",
    "このデータの構造は「個体$i$では8個の調査種子のうち$y_i$個が生存」となっているから<font color=\"Red\">二項分布</font>が使えそう。"
   ]
  },
  {
   "cell_type": "code",
   "execution_count": 1,
   "metadata": {
    "collapsed": true,
    "slideshow": {
     "slide_type": "skip"
    }
   },
   "outputs": [],
   "source": [
    "options(repr.plot.width=4, repr.plot.height=4)"
   ]
  },
  {
   "cell_type": "code",
   "execution_count": 2,
   "metadata": {
    "collapsed": false,
    "slideshow": {
     "slide_type": "subslide"
    }
   },
   "outputs": [
    {
     "data": {
      "image/png": "[encoded data removed]",
      "text/plain": [
       "plot without title"
      ]
     },
     "metadata": {},
     "output_type": "display_data"
    }
   ],
   "source": [
    "d <- read.csv(\"data7a.csv\")\n",
    "\n",
    "#fig. 10.1(B)\n",
    "plot(table(d$y), type=\"p\", pch = 16, ylim = c(0, 28),\n",
    "     xlab = \"number of living seeds\",\n",
    "     ylab = \"number of individuals\")\n",
    "par(new=T)\n",
    "plot(0:8, dbinom(0:8, 8, 0.504)*100, type=\"b\", pch = 1, ylim = c(0, 28),\n",
    "     xlab = \"\",\n",
    "     ylab = \"\")"
   ]
  },
  {
   "cell_type": "code",
   "execution_count": 3,
   "metadata": {
    "collapsed": true,
    "slideshow": {
     "slide_type": "skip"
    }
   },
   "outputs": [],
   "source": [
    "options(repr.plot.width=6, repr.plot.height=6)"
   ]
  },
  {
   "cell_type": "markdown",
   "metadata": {
    "nbpresent": {
     "id": "307c76e1-bab9-4697-8cbe-3aef4cb74003"
    },
    "slideshow": {
     "slide_type": "fragment"
    }
   },
   "source": [
    "しかしながら生存種子数のヒストグラムは、個体に由来するランダム効果によって<font color=\"Red\">過分散</font>(overdispersion)が生じている。"
   ]
  },
  {
   "cell_type": "markdown",
   "metadata": {
    "nbpresent": {
     "id": "c0e5889f-5638-4cb3-aaee-1c3678f9bb3a"
    },
    "slideshow": {
     "slide_type": "fragment"
    }
   },
   "source": [
    "全個体共通の生存確率$q$の二項分布で説明しようとすると、最尤推定値$\\hat q$は<font color=\"Red\">0.504</font>となる。\n",
    "\n",
    "生起確率0.504で$N=8$の二項分布の分散は<font color=\"Red\">2.00</font>くらいになると期待されるが、実際の観測データの分散は<font color=\"Red\">9.93</font>であり、**過分散**。"
   ]
  },
  {
   "cell_type": "markdown",
   "metadata": {
    "collapsed": true,
    "nbpresent": {
     "id": "e92c1ed8-45c0-4d3f-a7ef-10fcb9d87a01"
    },
    "slideshow": {
     "slide_type": "slide"
    }
   },
   "source": [
    "## 10.2 GLMMの階層ベイズモデル化\n",
    "\n",
    "例題のように個体ごとに由来する原因不明な差異などをくみこんだGLMがGLMM\n",
    "\n",
    "しかし、個体差だけでなく場所差なども考慮するGLMMの場合は、パラメーターの最尤推定が困難\n",
    "\n",
    "この章では、GLMではなくGLMMのベイズモデル化にとりくむ"
   ]
  },
  {
   "cell_type": "markdown",
   "metadata": {
    "nbpresent": {
     "id": "1473486f-8453-470e-a9f8-58bdf3a0dee8"
    },
    "slideshow": {
     "slide_type": "subslide"
    }
   },
   "source": [
    "ここで登場するGLMMでも、第７章と同じように、リンク関数と線形予測子を\n",
    "\n",
    "$$logit(q_i)=\\beta+r_i$$\n",
    "\n",
    "とする。\n",
    "\n",
    "> $\\beta: 全個体共通のパラメーター$  \n",
    "> $r_i: 個体差（平均0、標準偏差sの正規分布にしたがうと仮定）$\n",
    "\n",
    "データが得られる確率$p({\\bf Y}\\mid\\beta,\\{r_i\\})$は全100個体の二項分布の積なので、\n",
    "\n",
    "$$p({\\bf Y}\\mid\\beta,\\{r_i\\})=\\prod_{i}\\left(\n",
    "\\begin{array}{rr}\n",
    "8 \\\\\n",
    "y_i \\\\\n",
    "\\end{array}\n",
    "\\right){q_i}^{y_i}(1-q_i)^{8-y_i}$$\n",
    "\n",
    "となる。推定したい事後分布は、\n",
    "\n",
    "$$事後分布\\propto p({\\bf Y}\\mid\\beta,\\{r_i\\})\\times 事前分布$$\n",
    "\n",
    "となるので、あとは事前分布を指定すれば統計モデルの設計は完了。"
   ]
  },
  {
   "cell_type": "markdown",
   "metadata": {
    "nbpresent": {
     "id": "644cb0b1-11d2-4781-a09a-2acd0ea35544"
    },
    "slideshow": {
     "slide_type": "subslide"
    }
   },
   "source": [
    "線形予測子の切片$\\beta$は正負どのような値をとってもよい実数\n",
    "\n",
    "→<font color=\"Red\">無情報事前分布</font>（平均0、標準偏差100のすごくひらべったい正規分布）を指定\n",
    "\n",
    "$$p(\\beta)=\\frac{1}{\\sqrt{2\\pi \\times 100^2}}\\exp\\left(\n",
    "\\frac{-\\beta^2}{2\\times 100^2}\n",
    "\\right)\n",
    "$$\n",
    "\n",
    "***\n",
    "個体差$r_i$のパラメーターの事前分布はどうすればよいか？\n",
    "\n",
    "→とりあえず平均0、<font color=\"Red\">標準偏差$s$</font>の正規分布と仮定\n",
    "\n",
    "$$p(r_i\\mid s)=\\frac{1}{\\sqrt{2\\pi s^2}}\\exp\\left(\n",
    "\\frac{-r_i^2}{2s^2}\n",
    "\\right)\n",
    "$$\n",
    "\n",
    "この個体差のばらつき<font color=\"Red\">$s$</font>のあつかいは？\n",
    "\n",
    "→ベイズ統計モデルでは確率分布である<font color=\"Red\">$s$</font>の事後分布を推定\n",
    "\n",
    "→事後分布の推定には、事前分布が必要\n",
    "\n",
    "<font color=\"Red\">$s$</font>については正の値であれば何でもかまわないので、事前分布$p(s)$を<font color=\"Red\">無情報事前分布</font>とする。\n",
    "\n",
    "$$p(s)=(0から10^4までの連続一様分布)$$"
   ]
  },
  {
   "cell_type": "markdown",
   "metadata": {
    "nbpresent": {
     "id": "ab00ea30-cc9e-478f-ae0a-392cf9419a76"
    },
    "slideshow": {
     "slide_type": "subslide"
    }
   },
   "source": [
    "このように、  \n",
    "個体差$r_i$の事前分布$p(r_i\\mid s)$のカタチを決める<font color=\"Red\">$s$</font>という未知パラメーターがあって、されにこの<font color=\"Red\">$s$</font>についても事前分布$p(s)$が設定されているとき、$p(r_i\\mid s)$を<font color=\"Red\">**階層事前分布**</font>とよぶことがある。\n",
    "\n",
    "また、事前分布$p(r_i\\mid s)$のパラメーター<font color=\"Red\">$s$</font>は超パラメーター(hyper parameter)、事前分布の事前分布である$p(s)$は超事前分布(hyper prior)とよばれることがある。\n",
    "\n",
    "このような階層事前分布を使っているベイズ統計モデルが**<font color=\"Red\">階層ベイズモデル</font>**。"
   ]
  },
  {
   "cell_type": "markdown",
   "metadata": {
    "nbpresent": {
     "id": "88767091-bbbc-4b3d-a5d6-728fe3bb1f78"
    },
    "slideshow": {
     "slide_type": "slide"
    }
   },
   "source": [
    "## 10.3 階層ベイズモデルの推定・予測\n",
    "\n",
    "ベイズモデルでは「推定したいパラメーター」はことごとく事前分布とデータにもとづいて事後分布が推定される。\n",
    "\n",
    "つまり、この例題の階層ベイズモデルの事後分布は、\n",
    "\n",
    "$$p(\\beta,s,\\{r_i\\}\\mid{\\bf Y})\\propto p({\\bf Y}\\mid\\beta,\\{r_i\\})\n",
    "　p(\\beta)\n",
    "　p(s)\n",
    "　\\prod_{i}p(r_i\\mid s)$$"
   ]
  },
  {
   "cell_type": "markdown",
   "metadata": {
    "nbpresent": {
     "id": "2a37965b-e66d-494c-badc-a78bd8a33fb2"
    },
    "slideshow": {
     "slide_type": "slide"
    }
   },
   "source": [
    "### 10.3.1 階層ベイズモデルのMCMCサンプリング\n",
    "\n",
    "WinBUGSを使って事後分布$p(\\beta,s,\\{r_i\\}\\mid{\\bf Y})$からMCMCサンプリングする。\n",
    "\n",
    "BUGSコードで書くと、\n",
    "```\n",
    "\n",
    "model\n",
    "{\n",
    "\tfor (i in 1:N) {\n",
    "\t\tY[i] ~ dbin(q[i], 8) # binomial distribution\n",
    "\t\tlogit(q[i]) <- beta + r[i] # probability of living\n",
    "\t}\n",
    "\tbeta ~ dnorm(0, 1.0E-4) # non-informative prior distribution\n",
    "\tfor (i in 1:N) {\n",
    "\t\tr[i] ~ dnorm(0, tau) # hierarchical prior distribution\n",
    "\t}\n",
    "\ttau <- 1 / (s * s)\t # tau is inverse of variance\n",
    "\ts ~ dunif(0, 1.0E+4) # non-informative prior distribution\n",
    "}\n",
    "\n",
    "```\n",
    "\n",
    "<img  src=\"fig. 10.2.jpg\"/>"
   ]
  },
  {
   "cell_type": "markdown",
   "metadata": {
    "nbpresent": {
     "id": "f493b88d-dc7a-435b-987d-e4ebf567faad"
    },
    "slideshow": {
     "slide_type": "subslide"
    }
   },
   "source": [
    "確率分布、リンク関数、線形予測子\n",
    "```\n",
    "\n",
    "    for (i in 1:N) {\n",
    "\t\tY[i] ~ dbin(q[i], 8) # binomial distribution\n",
    "\t\tlogit(q[i]) <- beta + r[i] # probability of living\n",
    "\t}\n",
    "    \n",
    "```\n",
    "生存種子数Y[i]は生存確率q[i]でサイズ8の二項分布（dbin(q[i], 8)）にしたがう。\n",
    "種子の生存確率q[i]は線形予測子beta + r[i]とロジスティック関数logit(q[i])で与えられる。"
   ]
  },
  {
   "cell_type": "markdown",
   "metadata": {
    "nbpresent": {
     "id": "77627eb5-ee06-4b5a-8491-5eeaab5234e5"
    },
    "slideshow": {
     "slide_type": "subslide"
    }
   },
   "source": [
    "パラメーターの事前分布\n",
    "```\n",
    "\n",
    "\tbeta ~ dnorm(0, 1.0E-4) # non-informative prior distribution\n",
    "\tfor (i in 1:N) {\n",
    "\t\tr[i] ~ dnorm(0, tau) # hierarchical prior distribution\n",
    "\t}\n",
    "\ttau <- 1 / (s * s)\t # tau is inverse of variance\n",
    "\ts ~ dunif(0, 1.0E+4) # non-informative prior distribution\n",
    "    \n",
    "```\n",
    "betaの事前分布は平均0、標準偏差$10^2$の正規分布  \n",
    "個体差r[i]の階層事前分布は平均0、標準偏差sの正規分布  \n",
    "sの事前分布は$0$<$s$<$10^4$の一様分布"
   ]
  },
  {
   "cell_type": "markdown",
   "metadata": {
    "nbpresent": {
     "id": "f5f9e156-2a68-4e5f-8f94-2b1051101f37"
    },
    "slideshow": {
     "slide_type": "slide"
    }
   },
   "source": [
    "### 10.3.2 階層ベイズモデルの事後分布推定と予測\n",
    "\n",
    "RとWinBUGSを使ってパラメーターの事後分布からのMCMCサンプリングをする\n",
    "\n",
    "MCMCサンプリングの結果を使って、パラメーターごとの（周辺）事後分布を示す\n",
    "\n",
    "推定された事後分布をくみあわせて、生存種子数ごとの個体数の分布を予測してみる"
   ]
  },
  {
   "cell_type": "markdown",
   "metadata": {
    "nbpresent": {
     "id": "c729df75-4c9e-4a5d-b42f-ac63f6967f72"
    },
    "slideshow": {
     "slide_type": "subslide"
    }
   },
   "source": [
    "生存種子数$y$の確率分布は、二項分布$p(y\\mid \\beta ,r)$と正規分布$p(r\\mid s)$の**無限混合分布**\n",
    "\n",
    "$$p(y\\mid \\beta ,s)=\\int_{-\\infty}^\\infty p(y\\mid\\beta,r)p(r\\mid s) dr$$\n",
    "\n",
    "$r$についての積分とは、事後分布にしたがうような植物を無限個あつめてきて、その平均を評価している――という意味"
   ]
  },
  {
   "cell_type": "markdown",
   "metadata": {
    "slideshow": {
     "slide_type": "subslide"
    }
   },
   "source": [
    "### Ｒで実行"
   ]
  },
  {
   "cell_type": "code",
   "execution_count": 4,
   "metadata": {
    "collapsed": false,
    "slideshow": {
     "slide_type": "fragment"
    }
   },
   "outputs": [
    {
     "name": "stdout",
     "output_type": "stream",
     "text": [
      "# reading \"R2WBwrapper.R\" (written by kubo@ees.hokudai.ac.jp)...\n"
     ]
    },
    {
     "name": "stderr",
     "output_type": "stream",
     "text": [
      "Warning message:\n",
      "\"package 'R2WinBUGS' was built under R version 3.3.2\"Loading required package: coda\n",
      "Loading required package: boot\n"
     ]
    }
   ],
   "source": [
    "source(\"http://hosho.ees.hokudai.ac.jp/~kubo/ce/r/R2WBwrapper.R\") #ラッパー関数の読み込み(うまく読み込めない人)"
   ]
  },
  {
   "cell_type": "code",
   "execution_count": 5,
   "metadata": {
    "collapsed": false,
    "slideshow": {
     "slide_type": "fragment"
    }
   },
   "outputs": [
    {
     "data": {
      "text/plain": [
       "NULL"
      ]
     },
     "metadata": {},
     "output_type": "display_data"
    }
   ],
   "source": [
    "clear.data.param()\n",
    "set.data(\"N\", nrow(d))\n",
    "set.data(\"Y\", d$y)\n",
    "\n",
    "set.param(\"beta\", 0)\n",
    "set.param(\"r\", rnorm(N, 0, 0.1))\n",
    "set.param(\"s\", 1)\n",
    "set.param(\"q\", NA)"
   ]
  },
  {
   "cell_type": "code",
   "execution_count": null,
   "metadata": {
    "collapsed": false,
    "scrolled": false,
    "slideshow": {
     "slide_type": "fragment"
    }
   },
   "outputs": [],
   "source": [
    "post.bugs <- call.bugs(\n",
    "  file = \"model.bug.txt\",\n",
    "  n.iter = 10100, n.burnin = 100, n.thin = 10\n",
    ")"
   ]
  },
  {
   "cell_type": "markdown",
   "metadata": {
    "slideshow": {
     "slide_type": "fragment"
    }
   },
   "source": [
    "＊なぜかRStudioではうまくいくのに、jupyter notebookでコマンドを走らせると実行中（\\*マーク）のまま処理が返ってこない。  \n",
    "→あらかじめRStudioで実行処理した結果を保存し、load()する。"
   ]
  },
  {
   "cell_type": "code",
   "execution_count": 6,
   "metadata": {
    "collapsed": false,
    "slideshow": {
     "slide_type": "fragment"
    }
   },
   "outputs": [],
   "source": [
    "load(\"Chap. 10.3.RData\")"
   ]
  },
  {
   "cell_type": "code",
   "execution_count": 7,
   "metadata": {
    "collapsed": false,
    "slideshow": {
     "slide_type": "fragment"
    }
   },
   "outputs": [
    {
     "data": {
      "image/png": "[encoded data removed]",
      "text/plain": [
       "Plot with title \"Density of s\""
      ]
     },
     "metadata": {},
     "output_type": "display_data"
    }
   ],
   "source": [
    "post.list <- to.list(post.bugs)\n",
    "post.mcmc <- to.mcmc(post.bugs)\n",
    "#fig. 10.3(A)(B)\n",
    "s <- colnames(post.mcmc) %in% c(\"beta\",\"s\")\n",
    "plot(post.list[,s,]) #\"beta\"と\"s\"の列を選択して図示\n",
    "#fig. 10.3(C)(D)(E)"
   ]
  },
  {
   "cell_type": "code",
   "execution_count": 8,
   "metadata": {
    "collapsed": false,
    "scrolled": true,
    "slideshow": {
     "slide_type": "fragment"
    }
   },
   "outputs": [
    {
     "data": {
      "image/png": "[encoded data removed]",
      "text/plain": [
       "Plot with title \"Density of r[3]\""
      ]
     },
     "metadata": {},
     "output_type": "display_data"
    }
   ],
   "source": [
    "s <- colnames(post.mcmc) %in% c(\"r[1]\",\"r[2]\",\"r[3]\")\n",
    "plot(post.list[,s,]) #\"r1\",\"r2\",\"r3\"の列を選択して図示"
   ]
  },
  {
   "cell_type": "code",
   "execution_count": 9,
   "metadata": {
    "collapsed": false,
    "slideshow": {
     "slide_type": "subslide"
    }
   },
   "outputs": [
    {
     "name": "stdout",
     "output_type": "stream",
     "text": [
      "Inference for Bugs model at \"C:/Users/schaf/OneDrive/Documents/Ryo Nakahata/5.Statistic/R directry/model.bug.txt\", fit using WinBUGS,\n",
      " 3 chains, each with 10100 iterations (first 100 discarded), n.thin = 10\n",
      " n.sims = 3000 iterations saved\n",
      "            mean     sd    2.5%     25%     50%     75%   97.5%  Rhat n.eff\n",
      "beta       0.039  0.333  -0.618  -0.172   0.033   0.253   0.699 1.002  1600\n",
      "r[1]      -3.877  1.784  -8.009  -4.822  -3.626  -2.633  -1.148 1.002  2300\n",
      "r[2]      -1.200  0.896  -3.096  -1.776  -1.163  -0.593   0.458 1.001  3000\n",
      "r[3]       1.970  1.099   0.018   1.220   1.880   2.610   4.435 1.001  3000\n",
      "r[4]       3.820  1.737   1.036   2.549   3.651   4.817   7.637 1.001  3000\n",
      "r[5]      -2.068  1.106  -4.465  -2.723  -1.978  -1.302  -0.158 1.001  3000\n",
      "r[6]       1.989  1.085   0.122   1.250   1.902   2.652   4.334 1.002  1200\n",
      "r[7]       3.775  1.807   0.928   2.492   3.511   4.820   7.962 1.001  3000\n",
      "r[8]       3.803  1.770   1.047   2.483   3.583   4.870   7.837 1.001  3000\n",
      "r[9]      -2.051  1.077  -4.478  -2.691  -1.965  -1.313  -0.164 1.001  2600\n",
      "r[10]     -2.096  1.114  -4.537  -2.734  -2.013  -1.326  -0.163 1.001  3000\n",
      "r[11]     -0.020  0.789  -1.604  -0.541  -0.014   0.502   1.506 1.002  1800\n",
      "r[12]     -3.832  1.791  -8.124  -4.890  -3.575  -2.534  -1.077 1.005   550\n",
      "r[13]     -2.074  1.107  -4.475  -2.715  -1.991  -1.337  -0.168 1.001  3000\n",
      "r[14]     -0.044  0.791  -1.596  -0.570  -0.051   0.492   1.559 1.003  1000\n",
      "r[15]      2.021  1.108   0.091   1.260   1.926   2.707   4.348 1.001  3000\n",
      "r[16]      3.846  1.818   1.093   2.551   3.571   4.923   7.986 1.001  3000\n",
      "r[17]      2.010  1.107   0.085   1.254   1.926   2.646   4.513 1.000  3000\n",
      "r[18]     -3.781  1.742  -7.840  -4.756  -3.551  -2.550  -0.999 1.001  3000\n",
      "r[19]     -1.192  0.898  -3.135  -1.727  -1.148  -0.564   0.361 1.001  2400\n",
      "r[20]     -1.193  0.902  -3.027  -1.755  -1.145  -0.604   0.496 1.001  3000\n",
      "r[21]     -2.079  1.123  -4.564  -2.745  -1.989  -1.287  -0.150 1.001  3000\n",
      "r[22]     -2.077  1.108  -4.530  -2.737  -1.968  -1.299  -0.278 1.002  1400\n",
      "r[23]      0.530  0.821  -1.022  -0.031   0.520   1.036   2.203 1.001  3000\n",
      "r[24]      2.004  1.117   0.074   1.227   1.915   2.655   4.444 1.001  3000\n",
      "r[25]      3.816  1.732   1.071   2.583   3.617   4.831   7.715 1.002  1700\n",
      "r[26]     -0.582  0.832  -2.288  -1.135  -0.552  -0.028   0.992 1.001  3000\n",
      "r[27]      3.796  1.783   1.016   2.542   3.572   4.830   7.775 1.002  1800\n",
      "r[28]     -0.038  0.792  -1.619  -0.561  -0.050   0.479   1.509 1.001  3000\n",
      "r[29]      1.122  0.892  -0.507   0.510   1.073   1.682   2.950 1.001  2000\n",
      "r[30]     -3.828  1.741  -7.783  -4.828  -3.591  -2.610  -1.048 1.001  3000\n",
      "r[31]      3.797  1.750   1.013   2.527   3.553   4.770   7.810 1.001  2500\n",
      "r[32]      2.043  1.136   0.153   1.259   1.934   2.673   4.665 1.002  3000\n",
      "r[33]      3.806  1.826   1.043   2.518   3.538   4.816   8.206 1.001  3000\n",
      "r[34]     -3.824  1.706  -7.909  -4.795  -3.604  -2.631  -1.092 1.001  3000\n",
      "r[35]     -1.219  0.892  -3.020  -1.785  -1.181  -0.608   0.458 1.001  2700\n",
      "r[36]      1.115  0.906  -0.511   0.484   1.074   1.692   3.069 1.001  3000\n",
      "r[37]      1.973  1.098   0.057   1.210   1.885   2.608   4.451 1.001  3000\n",
      "r[38]      3.778  1.759   1.108   2.526   3.507   4.812   7.820 1.001  3000\n",
      "r[39]     -1.205  0.887  -3.022  -1.759  -1.176  -0.622   0.451 1.001  3000\n",
      "r[40]     -2.072  1.062  -4.406  -2.680  -1.990  -1.351  -0.213 1.001  3000\n",
      "r[41]     -2.059  1.078  -4.370  -2.748  -1.966  -1.292  -0.186 1.001  3000\n",
      "r[42]     -3.797  1.745  -7.878  -4.755  -3.562  -2.560  -1.036 1.001  3000\n",
      "r[43]     -3.863  1.743  -7.989  -4.910  -3.620  -2.610  -1.096 1.002  1400\n",
      "r[44]      2.023  1.096   0.145   1.260   1.910   2.682   4.426 1.001  2300\n",
      "r[45]      3.764  1.705   1.044   2.559   3.542   4.733   7.711 1.002  1900\n",
      "r[46]      0.489  0.812  -1.016  -0.065   0.464   1.008   2.195 1.001  3000\n",
      "r[47]      1.993  1.101   0.137   1.231   1.880   2.659   4.438 1.002  1100\n",
      "r[48]     -1.189  0.911  -3.111  -1.765  -1.139  -0.579   0.497 1.002  1300\n",
      "r[49]      3.817  1.769   1.021   2.540   3.580   4.837   7.851 1.001  3000\n",
      "r[50]     -2.055  1.111  -4.468  -2.733  -1.954  -1.267  -0.154 1.001  2500\n",
      "r[51]      0.488  0.826  -1.124  -0.056   0.474   1.018   2.145 1.001  3000\n",
      "r[52]      1.982  1.093   0.122   1.217   1.893   2.664   4.403 1.002  1000\n",
      "r[53]     -0.574  0.792  -2.176  -1.077  -0.560  -0.048   0.961 1.001  3000\n",
      "r[54]      3.793  1.738   1.127   2.570   3.558   4.761   7.785 1.001  2300\n",
      "r[55]     -3.872  1.783  -8.332  -4.856  -3.622  -2.606  -1.132 1.002  1500\n",
      "r[56]      3.741  1.754   0.978   2.520   3.484   4.732   7.963 1.001  2600\n",
      "r[57]      1.117  0.900  -0.603   0.511   1.093   1.683   2.965 1.001  3000\n",
      "r[58]     -0.583  0.819  -2.246  -1.113  -0.580  -0.023   0.946 1.000  3000\n",
      "r[59]     -1.206  0.893  -3.092  -1.768  -1.157  -0.582   0.411 1.001  3000\n",
      "r[60]     -3.878  1.757  -7.985  -4.874  -3.652  -2.570  -1.130 1.001  3000\n",
      "r[61]     -3.880  1.826  -8.116  -4.918  -3.617  -2.572  -1.056 1.001  3000\n",
      "r[62]     -2.084  1.111  -4.620  -2.762  -1.979  -1.318  -0.226 1.001  3000\n",
      "r[63]     -1.166  0.887  -3.048  -1.734  -1.133  -0.555   0.511 1.001  3000\n",
      "r[64]      3.846  1.786   1.022   2.583   3.615   4.857   8.172 1.001  3000\n",
      "r[65]      2.013  1.087   0.158   1.240   1.926   2.709   4.432 1.002  3000\n",
      "r[66]      2.007  1.110   0.162   1.227   1.910   2.669   4.483 1.001  3000\n",
      "r[67]      1.982  1.101   0.113   1.225   1.876   2.631   4.446 1.001  3000\n",
      "r[68]      3.803  1.792   0.970   2.508   3.577   4.789   8.089 1.001  3000\n",
      "r[69]     -3.908  1.757  -7.868  -4.902  -3.699  -2.664  -1.127 1.001  3000\n",
      "r[70]     -3.828  1.755  -7.933  -4.787  -3.596  -2.592  -1.100 1.001  3000\n",
      "r[71]     -3.856  1.751  -7.887  -4.882  -3.613  -2.619  -1.047 1.001  3000\n",
      "r[72]      0.511  0.806  -1.002  -0.032   0.481   1.034   2.182 1.001  3000\n",
      "r[73]     -2.051  1.124  -4.545  -2.723  -1.953  -1.264  -0.142 1.001  3000\n",
      "r[74]     -3.890  1.788  -8.031  -4.925  -3.654  -2.614  -1.100 1.002  1000\n",
      "r[75]     -3.850  1.760  -7.842  -4.936  -3.586  -2.549  -1.142 1.001  3000\n",
      "r[76]     -3.852  1.804  -7.998  -4.825  -3.594  -2.583  -1.122 1.001  3000\n",
      "r[77]      3.763  1.724   1.104   2.535   3.553   4.765   7.725 1.001  3000\n",
      "r[78]     -2.063  1.112  -4.473  -2.742  -1.969  -1.287  -0.107 1.002  1800\n",
      "r[79]      3.844  1.819   0.936   2.572   3.624   4.857   8.046 1.001  3000\n",
      "r[80]     -0.020  0.812  -1.622  -0.544  -0.031   0.510   1.588 1.001  2400\n",
      "r[81]      2.013  1.114   0.152   1.206   1.921   2.702   4.491 1.001  3000\n",
      "r[82]     -1.182  0.884  -3.101  -1.728  -1.127  -0.583   0.433 1.004   660\n",
      "r[83]     -2.054  1.114  -4.576  -2.713  -1.936  -1.267  -0.179 1.001  3000\n",
      "r[84]     -0.045  0.781  -1.574  -0.558  -0.043   0.458   1.533 1.001  3000\n",
      "r[85]      2.018  1.110   0.060   1.266   1.916   2.697   4.400 1.001  3000\n",
      "r[86]     -3.835  1.766  -7.978  -4.794  -3.610  -2.594  -1.084 1.001  2400\n",
      "r[87]      3.798  1.782   1.037   2.498   3.555   4.851   7.960 1.002  2200\n",
      "r[88]     -2.071  1.105  -4.525  -2.711  -1.971  -1.274  -0.207 1.001  3000\n",
      "r[89]      3.787  1.738   1.124   2.544   3.516   4.782   7.856 1.001  3000\n",
      "r[90]      1.994  1.108   0.122   1.243   1.896   2.614   4.462 1.001  2400\n",
      "r[91]      1.131  0.875  -0.468   0.532   1.098   1.676   2.989 1.001  3000\n",
      "r[92]     -1.199  0.909  -3.161  -1.746  -1.169  -0.581   0.461 1.004   620\n",
      "r[93]      3.795  1.822   0.969   2.488   3.545   4.850   8.014 1.001  3000\n",
      "r[94]      1.154  0.901  -0.437   0.531   1.099   1.746   3.049 1.002  1500\n",
      "r[95]      1.118  0.878  -0.510   0.511   1.087   1.691   2.935 1.001  3000\n",
      "r[96]     -2.066  1.090  -4.477  -2.763  -1.946  -1.310  -0.187 1.001  3000\n",
      "r[97]     -3.844  1.759  -7.747  -4.867  -3.598  -2.591  -1.052 1.002  1100\n",
      "r[98]     -0.064  0.786  -1.601  -0.591  -0.062   0.458   1.456 1.001  3000\n",
      "r[99]      2.002  1.123   0.057   1.236   1.907   2.657   4.480 1.003   980\n",
      "r[100]    -3.868  1.788  -8.013  -4.808  -3.624  -2.613  -1.104 1.001  3000\n",
      "s          3.037  0.369   2.405   2.784   2.999   3.251   3.852 1.002  1600\n",
      "q[1]       0.052  0.066   0.000   0.008   0.027   0.069   0.249 1.002  2100\n",
      "q[2]       0.267  0.145   0.052   0.154   0.244   0.360   0.596 1.001  3000\n",
      "q[3]       0.844  0.116   0.552   0.783   0.871   0.932   0.988 1.002  1400\n",
      "q[4]       0.949  0.067   0.754   0.930   0.976   0.992   1.000 1.001  3000\n",
      "q[5]       0.154  0.115   0.012   0.066   0.126   0.217   0.443 1.001  3000\n",
      "q[6]       0.846  0.115   0.563   0.784   0.873   0.935   0.987 1.001  3000\n",
      "q[7]       0.945  0.072   0.738   0.926   0.972   0.992   1.000 1.001  3000\n",
      "q[8]       0.947  0.068   0.758   0.927   0.973   0.992   1.000 1.016  3000\n",
      "q[9]       0.155  0.115   0.012   0.068   0.127   0.216   0.453 1.001  3000\n",
      "q[10]      0.151  0.113   0.012   0.065   0.124   0.211   0.432 1.001  3000\n",
      "q[11]      0.505  0.161   0.196   0.391   0.504   0.622   0.808 1.001  3000\n",
      "q[12]      0.055  0.067   0.000   0.008   0.029   0.078   0.246 1.004   670\n",
      "q[13]      0.154  0.116   0.011   0.065   0.126   0.218   0.445 1.001  3000\n",
      "q[14]      0.499  0.162   0.190   0.381   0.497   0.618   0.805 1.002  1400\n",
      "q[15]      0.850  0.114   0.568   0.788   0.877   0.937   0.988 1.004  3000\n",
      "q[16]      0.948  0.067   0.759   0.932   0.973   0.993   1.000 1.001  3000\n",
      "q[17]      0.848  0.114   0.569   0.788   0.876   0.934   0.989 1.002  2900\n",
      "q[18]      0.056  0.070   0.000   0.009   0.030   0.076   0.246 1.001  3000\n",
      "q[19]      0.269  0.142   0.047   0.159   0.253   0.358   0.579 1.001  3000\n",
      "q[20]      0.268  0.141   0.053   0.159   0.248   0.357   0.579 1.001  3000\n",
      "q[21]      0.154  0.117   0.012   0.064   0.126   0.220   0.447 1.001  3000\n",
      "q[22]      0.153  0.111   0.011   0.065   0.129   0.214   0.426 1.001  2300\n",
      "q[23]      0.622  0.158   0.304   0.513   0.631   0.741   0.895 1.001  3000\n",
      "q[24]      0.847  0.116   0.555   0.781   0.875   0.936   0.989 1.003  1900\n",
      "q[25]      0.949  0.068   0.763   0.932   0.975   0.992   1.000 1.001  3000\n",
      "q[26]      0.383  0.161   0.105   0.263   0.370   0.493   0.714 1.002  3000\n",
      "q[27]      0.947  0.068   0.758   0.931   0.973   0.992   1.000 1.007   820\n",
      "q[28]      0.500  0.163   0.197   0.383   0.496   0.620   0.807 1.001  3000\n",
      "q[29]      0.734  0.142   0.426   0.639   0.752   0.847   0.948 1.001  3000\n",
      "q[30]      0.053  0.068   0.000   0.008   0.028   0.073   0.254 1.001  3000\n",
      "q[31]      0.948  0.066   0.755   0.928   0.973   0.992   1.000 1.001  3000\n",
      "q[32]      0.851  0.112   0.564   0.794   0.875   0.936   0.991 1.002  3000\n",
      "q[33]      0.947  0.066   0.760   0.928   0.972   0.992   1.000 1.001  3000\n",
      "q[34]      0.053  0.067   0.000   0.009   0.028   0.071   0.242 1.001  3000\n",
      "q[35]      0.263  0.144   0.050   0.152   0.244   0.355   0.585 1.001  3000\n",
      "q[36]      0.731  0.145   0.419   0.638   0.753   0.843   0.951 1.001  3000\n",
      "q[37]      0.843  0.117   0.559   0.780   0.869   0.933   0.988 1.001  3000\n",
      "q[38]      0.947  0.066   0.757   0.929   0.972   0.992   1.000 1.002  2500\n",
      "q[39]      0.265  0.139   0.050   0.158   0.245   0.353   0.571 1.001  3000\n",
      "q[40]      0.152  0.111   0.012   0.066   0.127   0.212   0.431 1.001  3000\n",
      "q[41]      0.153  0.112   0.013   0.066   0.127   0.217   0.428 1.001  3000\n",
      "q[42]      0.055  0.068   0.000   0.009   0.029   0.075   0.254 1.001  3000\n",
      "q[43]      0.052  0.066   0.000   0.008   0.027   0.071   0.236 1.002  1000\n",
      "q[44]      0.850  0.113   0.565   0.787   0.876   0.938   0.988 1.006   590\n",
      "q[45]      0.947  0.069   0.740   0.932   0.973   0.992   1.000 1.003  3000\n",
      "q[46]      0.615  0.156   0.301   0.503   0.624   0.734   0.887 1.001  3000\n",
      "q[47]      0.846  0.114   0.569   0.784   0.874   0.934   0.988 1.001  3000\n",
      "q[48]      0.269  0.145   0.045   0.156   0.252   0.360   0.589 1.001  2700\n",
      "q[49]      0.948  0.069   0.756   0.932   0.973   0.992   1.000 1.017   960\n",
      "q[50]      0.157  0.117   0.012   0.065   0.131   0.221   0.450 1.002  2800\n",
      "q[51]      0.614  0.160   0.286   0.505   0.624   0.734   0.889 1.001  3000\n",
      "q[52]      0.845  0.116   0.554   0.781   0.875   0.935   0.988 1.005   790\n",
      "q[53]      0.383  0.153   0.118   0.269   0.372   0.487   0.697 1.001  2500\n",
      "q[54]      0.949  0.063   0.772   0.929   0.974   0.992   1.000 1.001  3000\n",
      "q[55]      0.052  0.066   0.000   0.008   0.028   0.071   0.242 1.002  1500\n",
      "q[56]      0.946  0.067   0.752   0.927   0.971   0.992   1.000 1.001  3000\n",
      "q[57]      0.732  0.145   0.405   0.640   0.756   0.844   0.950 1.001  3000\n",
      "q[58]      0.382  0.157   0.111   0.265   0.372   0.493   0.702 1.001  3000\n",
      "q[59]      0.266  0.142   0.050   0.154   0.247   0.358   0.577 1.001  3000\n",
      "q[60]      0.052  0.066   0.000   0.008   0.027   0.072   0.246 1.001  3000\n",
      "q[61]      0.054  0.070   0.000   0.008   0.028   0.074   0.255 1.001  3000\n",
      "q[62]      0.153  0.116   0.011   0.066   0.127   0.213   0.447 1.001  3000\n",
      "q[63]      0.273  0.146   0.056   0.161   0.253   0.362   0.598 1.001  3000\n",
      "q[64]      0.949  0.067   0.751   0.933   0.974   0.993   1.000 1.014   860\n",
      "q[65]      0.849  0.111   0.575   0.788   0.874   0.937   0.987 1.001  3000\n",
      "q[66]      0.848  0.112   0.571   0.786   0.873   0.936   0.988 1.001  3000\n",
      "q[67]      0.845  0.114   0.561   0.782   0.872   0.933   0.988 1.001  3000\n",
      "q[68]      0.947  0.069   0.745   0.930   0.973   0.992   1.000 1.001  3000\n",
      "q[69]      0.051  0.066   0.000   0.008   0.025   0.069   0.245 1.001  3000\n",
      "q[70]      0.054  0.068   0.000   0.009   0.028   0.072   0.254 1.001  3000\n",
      "q[71]      0.053  0.069   0.000   0.008   0.027   0.072   0.254 1.001  3000\n",
      "q[72]      0.619  0.156   0.305   0.514   0.629   0.734   0.892 1.001  3000\n",
      "q[73]      0.158  0.120   0.011   0.065   0.130   0.222   0.454 1.001  3000\n",
      "q[74]      0.053  0.070   0.000   0.007   0.026   0.070   0.255 1.002  1200\n",
      "q[75]      0.054  0.067   0.000   0.007   0.028   0.073   0.244 1.001  3000\n",
      "q[76]      0.053  0.066   0.000   0.009   0.029   0.074   0.241 1.002  3000\n",
      "q[77]      0.947  0.065   0.764   0.929   0.972   0.992   1.000 1.001  3000\n",
      "q[78]      0.155  0.117   0.012   0.064   0.127   0.216   0.453 1.002  1700\n",
      "q[79]      0.948  0.068   0.745   0.930   0.975   0.992   1.000 1.005  3000\n",
      "q[80]      0.504  0.165   0.183   0.387   0.506   0.621   0.816 1.001  3000\n",
      "q[81]      0.848  0.113   0.574   0.787   0.874   0.936   0.989 1.001  3000\n",
      "q[82]      0.269  0.141   0.052   0.163   0.251   0.357   0.587 1.002  1200\n",
      "q[83]      0.156  0.115   0.011   0.069   0.132   0.220   0.445 1.001  3000\n",
      "q[84]      0.498  0.160   0.196   0.382   0.499   0.611   0.812 1.001  3000\n",
      "q[85]      0.849  0.115   0.555   0.791   0.876   0.935   0.989 1.001  3000\n",
      "q[86]      0.054  0.066   0.000   0.009   0.028   0.073   0.238 1.002  1700\n",
      "q[87]      0.947  0.066   0.755   0.927   0.972   0.993   1.000 1.001  2400\n",
      "q[88]      0.153  0.112   0.012   0.066   0.128   0.218   0.418 1.001  3000\n",
      "q[89]      0.948  0.065   0.768   0.928   0.972   0.992   1.000 1.002  3000\n",
      "q[90]      0.846  0.115   0.553   0.784   0.874   0.932   0.989 1.001  3000\n",
      "q[91]      0.736  0.141   0.419   0.650   0.755   0.844   0.949 1.001  2300\n",
      "q[92]      0.268  0.146   0.048   0.158   0.244   0.360   0.595 1.005   540\n",
      "q[93]      0.945  0.071   0.747   0.926   0.973   0.992   1.000 1.005  3000\n",
      "q[94]      0.738  0.142   0.420   0.648   0.758   0.849   0.950 1.001  3000\n",
      "q[95]      0.734  0.140   0.423   0.644   0.751   0.840   0.950 1.001  3000\n",
      "q[96]      0.154  0.113   0.013   0.065   0.131   0.214   0.432 1.001  3000\n",
      "q[97]      0.054  0.069   0.000   0.008   0.028   0.072   0.249 1.002  1200\n",
      "q[98]      0.495  0.162   0.187   0.372   0.497   0.611   0.799 1.001  3000\n",
      "q[99]      0.846  0.118   0.552   0.785   0.873   0.935   0.989 1.002  1900\n",
      "q[100]     0.053  0.068   0.000   0.008   0.027   0.072   0.252 1.001  3000\n",
      "deviance 222.780 13.611 198.097 213.400 221.800 231.400 251.702 1.001  3000\n",
      "\n",
      "For each parameter, n.eff is a crude measure of effective sample size,\n",
      "and Rhat is the potential scale reduction factor (at convergence, Rhat=1).\n",
      "\n",
      "DIC info (using the rule, pD = var(deviance)/2)\n",
      "pD = 92.6 and DIC = 315.4\n",
      "DIC is an estimate of expected predictive error (lower deviance is better).\n"
     ]
    }
   ],
   "source": [
    "#MCMCサンプリングの要約\n",
    "print(post.bugs, digits.summary = 3)"
   ]
  },
  {
   "cell_type": "markdown",
   "metadata": {
    "slideshow": {
     "slide_type": "subslide"
    }
   },
   "source": [
    "推定された事後分布をくみあわせて、生存種子数ごとの個体数の分布を予測"
   ]
  },
  {
   "cell_type": "code",
   "execution_count": 10,
   "metadata": {
    "collapsed": true,
    "slideshow": {
     "slide_type": "skip"
    }
   },
   "outputs": [],
   "source": [
    "options(repr.plot.width=5, repr.plot.height=5)"
   ]
  },
  {
   "cell_type": "code",
   "execution_count": 11,
   "metadata": {
    "collapsed": false,
    "scrolled": false,
    "slideshow": {
     "slide_type": "fragment"
    }
   },
   "outputs": [
    {
     "name": "stdout",
     "output_type": "stream",
     "text": [
      "# generating mp .............................. done\n"
     ]
    },
    {
     "data": {
      "image/png": "[encoded data removed]",
      "text/plain": [
       "plot without title"
      ]
     },
     "metadata": {},
     "output_type": "display_data"
    }
   ],
   "source": [
    "#fig. 10.4\n",
    "post.mcmc <- as.mcmc(post.bugs$sims.matrix)\n",
    "\n",
    "q <- sum(d$y) / (8 * nrow(d))\n",
    "logistic <- function(z) 1 / (1 + exp(-z))\n",
    "n <- nrow(d)\n",
    "size <- 8\n",
    "q <- sum(d$y) / (size * n)\n",
    "\n",
    "f.gaussian.binom <- function(alpha, x, size, fixed, sd)\n",
    "  dbinom(x, size, logistic(fixed + alpha)) * dnorm(alpha, 0, sd)\n",
    "\n",
    "d.gaussian.binom <- function(v.x, size, fixed, sd) sapply(\n",
    "  v.x, function(x) integrate(\n",
    "    f = f.gaussian.binom,\n",
    "    lower = -sd * 10,\n",
    "    upper = sd * 10,\n",
    "    # for f.gaussian.binom\n",
    "    x = x,\n",
    "    size = size,\n",
    "    fixed = fixed,\n",
    "    sd = sd\n",
    "  )$value\n",
    ")\n",
    "\n",
    "plot.data <- function() plot(\n",
    "  0:size, summary(as.factor(d$y)),\n",
    "  ylim = range(c(0, dbinom(0:size, size, q) * n)),\n",
    "  xlab = \"number of living seeds\",\n",
    "  ylab = \"number of individuals\",\n",
    "  pch = 19\n",
    ")\n",
    "\n",
    "plot.polygon <- function(mm, p)\n",
    "{\n",
    "  pp <- 1 - p\n",
    "  qp <- apply(mm, 1, quantile, probs = c(0.5 * pp, 1 - 0.5 * pp))\n",
    "  polygon(\n",
    "    c(0:size, size:0),\n",
    "    c(qp[1,], rev(qp[2,])),\n",
    "    border = NA,\n",
    "    col = \"#00000020\"\n",
    "  )\n",
    "}\n",
    "\n",
    "plot.lines <- function(mm)\n",
    "{\n",
    "  apply(\n",
    "    mm, 2,\n",
    "    function(x) lines(0:size, x, col = \"#00000001\", lwd = 2)\n",
    "  )\n",
    "}\n",
    "\n",
    "beta <- post.mcmc[, \"beta\"]\n",
    "sigma <- post.mcmc[, \"s\"]\n",
    "if (!exists(\"my\")) {\n",
    "  cat(\"# generating mp \")\n",
    "  mp <- sapply(\n",
    "    1:nrow(post.mcmc),\n",
    "    function(i) {\n",
    "      if (i %% 100 == 0) cat(\".\")\n",
    "      d.gaussian.binom(\n",
    "        0:size, size,\n",
    "        fixed = beta[i],\n",
    "        sd = sigma[i]\n",
    "      )\n",
    "    }\n",
    "  )\n",
    "  cat(\" done\\n\")\n",
    "  my <- apply(\n",
    "    mp, 2, function(prob) summary(\n",
    "      factor(\n",
    "        sample(0:size, n, replace = TRUE, prob = prob),\n",
    "        levels = 0:size\n",
    "      )\n",
    "    )\n",
    "  )\n",
    "}\n",
    "\n",
    "plot.median <- function()\n",
    "{\n",
    "  lines(\n",
    "    0:size, apply(mp * n, 1, median),\n",
    "    type = \"b\",\n",
    "    col = \"black\",\n",
    "    bg = \"white\",\n",
    "    pch = 21\n",
    "  )\n",
    "}\n",
    "\n",
    "plot.data()\n",
    "q.env <- apply(my, 1, quantile, probs = c(0.025, 0.975))\n",
    "polygon(\n",
    "  c(0:size, size:0),\n",
    "  c(q.env[1,], rev(q.env[2,])), # 0.025 and 0.975\n",
    "  border = FALSE,\n",
    "  col = \"#00000020\"\n",
    ")\n",
    "q.env <- apply(my, 1, quantile, probs = c(0.25, 0.75))\n",
    "polygon(\n",
    "  c(0:size, size:0),\n",
    "  c(q.env[1,], rev(q.env[2,])), # 0.025 and 0.975\n",
    "  border = FALSE,\n",
    "  col = \"#00000020\"\n",
    ")\n",
    "plot.median()"
   ]
  },
  {
   "cell_type": "code",
   "execution_count": 12,
   "metadata": {
    "collapsed": true,
    "slideshow": {
     "slide_type": "skip"
    }
   },
   "outputs": [],
   "source": [
    "options(repr.plot.width=6, repr.plot.height=6)"
   ]
  },
  {
   "cell_type": "markdown",
   "metadata": {
    "slideshow": {
     "slide_type": "fragment"
    }
   },
   "source": [
    "> 薄いグレーは95%信用区間  \n",
    ">濃いグレーは50%信用区間"
   ]
  },
  {
   "cell_type": "markdown",
   "metadata": {
    "nbpresent": {
     "id": "c5ad1e5b-fd94-44dd-84e4-fdefb9c3dc7a"
    },
    "slideshow": {
     "slide_type": "slide"
    }
   },
   "source": [
    "## 10.4 ベイズモデルで使うさまざまな事前分布\n",
    "\n",
    "ベイズ統計モデルでよく使われる3種類の事前分布\n",
    "\n",
    "**主観的な事前分布**(subjective prior)\n",
    "\n",
    "データ解析者は「私はパラメーター$r_i$の分布はこうなっていると思う」と考えていることになる。\n",
    "\n",
    "**無情報事前分布**(non-informative prior)\n",
    "\n",
    "$r_i$を自由に決めるので、統計モデルとして望ましいものではない。\n",
    "\n",
    "**階層事前分布**(hierarchical prior)\n",
    "\n",
    "$p(r_i\\mid s)$が平均0、標準偏差sの正規分布であるとし、sの事前分布$p(s)$は無情報事前分布出ると設定。\n",
    "他のパラメーターと同時にsの事後分布もデータにうまくあてはまる。\n",
    "\n",
    "<img  src=\"fig.10.5.png\"/>"
   ]
  },
  {
   "cell_type": "markdown",
   "metadata": {
    "nbpresent": {
     "id": "09d8143e-90dd-40f4-9020-fea43e783f90"
    },
    "slideshow": {
     "slide_type": "subslide"
    }
   },
   "source": [
    "あるパラメーターの事前分布として、無情報事前分布・階層事前分布のどちらを選ぶべきなのか？\n",
    "***\n",
    "\n",
    "現実的な統計モデルには2種類のパラメーターが含まれている\n",
    "\n",
    "> + データ全体を**大域的**(global)に説明する少数のパラメーター\n",
    "\n",
    "> + データのごく一部だけを説明する**局所的**(local)な多数のパラメーター\n",
    "\n",
    "切片$\\beta$は大域的なパラメーター  \n",
    "→<font color=\"Red\">無情報事前分布</font>\n",
    "\n",
    "個体差$\\{r_i\\}$は、\n",
    "+ 個々の$r_i$はデータ全体のごく一部を説明しているだけ\n",
    "+ 全個体の$\\{r_i\\}$は「似たような（ある範囲に分布する）」パラメーターのあるまり\n",
    "\n",
    "といった性質をもつ局所的なパラメーター  \n",
    "→<font color=\"Red\">階層事前分布</font>"
   ]
  },
  {
   "cell_type": "markdown",
   "metadata": {
    "nbpresent": {
     "id": "789aad6d-d9e9-4fea-908e-c041ee483cb8"
    },
    "slideshow": {
     "slide_type": "slide"
    }
   },
   "source": [
    "## 10.5 個体差＋場所差の階層ベイズモデル\n",
    "\n",
    "個体差だけでなく場所差も組みこんだ階層ベイズモデル"
   ]
  },
  {
   "cell_type": "markdown",
   "metadata": {
    "nbpresent": {
     "id": "6ba09a61-9def-42f5-b3f8-812e541fd344"
    },
    "slideshow": {
     "slide_type": "subslide"
    }
   },
   "source": [
    "架空植物を使った実験データ\n",
    "\n",
    "<img  src=\"fig. 10.6.png\"/>\n",
    "\n",
    "知りたいのは肥料をやる（施肥）処理をしたときの種子数$y_i$の変化\n",
    "\n",
    "> 植木鉢(pot)が10個($j\\in \\{A, B, C …, J\\}$)\n",
    "\n",
    "> 各植木鉢に10個体の植物\n",
    "\n",
    ">個体番号$i$は\\{1, 2, …, 100\\}\n",
    "\n",
    ">$j\\in \\{A, B, C, D, E\\}$の植木鉢は<font color=\"Red\">無処理</font>\n",
    "\n",
    ">$j\\in \\{F, G, H, I, J\\}$の植木鉢は<font color=\"Red\">施肥処理</font>"
   ]
  },
  {
   "cell_type": "code",
   "execution_count": 13,
   "metadata": {
    "collapsed": true,
    "slideshow": {
     "slide_type": "skip"
    }
   },
   "outputs": [],
   "source": [
    "options(repr.plot.width=5, repr.plot.height=5)"
   ]
  },
  {
   "cell_type": "code",
   "execution_count": 14,
   "metadata": {
    "collapsed": false,
    "slideshow": {
     "slide_type": "subslide"
    }
   },
   "outputs": [
    {
     "data": {
      "image/png": "[encoded data removed]",
      "text/plain": [
       "plot without title"
      ]
     },
     "metadata": {},
     "output_type": "display_data"
    }
   ],
   "source": [
    "d <- read.csv(\"d1.csv\")\n",
    "\n",
    "#fig. 10.7(A)\n",
    "plot(d$id,d$y, pch = as.character(d$pot), ylim = c(0, 45),\n",
    "     xlab = \"individuals\", ylab = \"number of seeds\", \n",
    "     col = c(rep(\"#4169E190\", 50), rep(\"#CD5C5C90\", 50)))\n",
    "lines(c(0,50), c(rep(mean(d$y[d$f == \"C\"]),2)), \n",
    "      lwd = 3, lty =2, col = \"#4169E190\")\n",
    "lines(c(50,100), c(rep(mean(d$y[d$f == \"T\"]),2)), \n",
    "      lwd = 3, lty =2, col = \"#CD5C5C90\")\n",
    "text(25, 40, \"control\", cex = 1.2, col = \"#4169E1\")\n",
    "text(75, 40, \"treatment\", cex = 1.2, col = \"#CD5C5C\")"
   ]
  },
  {
   "cell_type": "markdown",
   "metadata": {
    "slideshow": {
     "slide_type": "fragment"
    }
   },
   "source": [
    "無処理である$i\\in \\{1, 2, …, 50\\}(植木鉢\\{A, …, E\\})$の標本平均は<font color=\"Red\">$8$</font>くらい\n",
    "\n",
    "$y_i$がポアソン分布にしたがうなら標本標準偏差は$\\sqrt 8=$<font color=\"Red\">$2.83$</font>くらい\n",
    "\n",
    "$8>2.83$なので明らかな<font color=\"Red\">過分散</font>が発生している"
   ]
  },
  {
   "cell_type": "code",
   "execution_count": 15,
   "metadata": {
    "collapsed": false,
    "slideshow": {
     "slide_type": "subslide"
    }
   },
   "outputs": [
    {
     "data": {
      "image/png": "[encoded data removed]",
      "text/plain": [
       "plot without title"
      ]
     },
     "metadata": {},
     "output_type": "display_data"
    }
   ],
   "source": [
    "#fig. 10.7(B)\n",
    "plot(d$pot,d$y, col = c(rep(\"#4169E190\", 5), rep(\"#CD5C5C90\", 5)), \n",
    "     ylim = c(0, 45),\n",
    "     xlab = \"individuals\", ylab = \"number of seeds\")\n",
    "text(3, 40, \"control\", cex = 1.2, col = \"#4169E1\")\n",
    "text(8, 40, \"treatment\", cex = 1.2, col = \"#CD5C5C\")"
   ]
  },
  {
   "cell_type": "code",
   "execution_count": 16,
   "metadata": {
    "collapsed": true,
    "slideshow": {
     "slide_type": "skip"
    }
   },
   "outputs": [],
   "source": [
    "options(repr.plot.width=6, repr.plot.height=6)"
   ]
  },
  {
   "cell_type": "markdown",
   "metadata": {
    "slideshow": {
     "slide_type": "fragment"
    }
   },
   "source": [
    "過分散の原因は**個体差**だけでなく**植木鉢の差**にもありそう"
   ]
  },
  {
   "cell_type": "markdown",
   "metadata": {
    "slideshow": {
     "slide_type": "subslide"
    }
   },
   "source": [
    "個体も植木鉢もどちらも反復ではなく<font color=\"Red\">疑似反復</font>なので、**個体差**と**植木鉢差**を同時にあつかう統計モデルが必要\n",
    "\n",
    "個体$i$の種子数$y_i$のばらつきを平均$\\lambda_i$のポアソン分布で表現する。\n",
    "\n",
    "$$p(y_i\\mid \\lambda_i)=\\frac{{\\lambda_i}^{y_i}\\exp (-\\lambda_i)}{y_i!}$$\n",
    "\n",
    "線形予測子と対数リンク関数を使って平均種子数$\\lambda_i$は、\n",
    "\n",
    "$$\\log \\lambda_i=\\beta_1+\\beta_2f_i+r_i+r_{j(i)}$$\n",
    "\n",
    "\n",
    "> $\\beta_1: 切片$  \n",
    "> $f_i:$ 施肥処理の有無をあらわす因子型の説明変数  \n",
    "> $\\beta_2: f_i$の係数  \n",
    "> $r_i: 個体i$の効果  \n",
    ">$r_{j(i)}: 植木鉢j$の効果\n",
    "\n",
    "$r_i$は100個、$r_{j(i)}$は10個あり、それぞれのばらつきを$s、s_p$とする。"
   ]
  },
  {
   "cell_type": "markdown",
   "metadata": {
    "nbpresent": {
     "id": "0f9be94b-bd02-4b5c-b596-2f201a86133b"
    },
    "slideshow": {
     "slide_type": "subslide"
    }
   },
   "source": [
    "パラメーターの事前分布\n",
    "\n",
    "+ **大域的**な平均パラメーターである$\\beta_1$と$\\beta_2$は<font color=\"Red\">無情報事前分布</font>、平均0の押しつぶされた正規分布\n",
    "\n",
    "+ **大域的**なばらつきパラメーターである$s$と$s_p$は<font color=\"Red\">無情報事前分布</font>、0から$10^4$の範囲をとる一様分布\n",
    "\n",
    "+ **局所的**パラメーターである$r_i$と$r_{j(i)}$は<font color=\"Red\">階層事前分布</font>、平均0、標準偏差はそれぞれ$s$と$s_p$\n",
    "\n",
    "あとはWinBUGSなどを使って事後分布推定"
   ]
  },
  {
   "cell_type": "markdown",
   "metadata": {
    "nbpresent": {
     "id": "31f4e122-519b-40b3-af1f-ceafd463c091"
    },
    "slideshow": {
     "slide_type": "subslide"
    }
   },
   "source": [
    "この統計モデルのBUGSコード\n",
    "```\n",
    "\n",
    "model\n",
    "{\n",
    "\tfor (i in 1:N.sample) {\n",
    "\t\tY[i] ~ dpois(lambda[i])\n",
    "\t\tlog(lambda[i]) <- beta1 + beta2 * F[i] + r[i] + rp[Pot[i]]\n",
    "\t}\n",
    "\tbeta1 ~ dnorm(0, 1.0E-4)\n",
    "\tbeta2 ~ dnorm(0, 1.0E-4)\n",
    "\tfor (i in 1:N.sample) {\n",
    "\t\tr[i] ~ dnorm(0, tau[1])\n",
    "\t}\n",
    "\tfor (j in 1:N.pot) {\n",
    "\t\trp[j] ~ dnorm(0, tau[2])\n",
    "\t}\n",
    "\tfor (k in 1:N.tau) {\n",
    "\t\ttau[k] <- 1.0 / (s[k] * s[k])\n",
    "\t\ts[k] ~ dunif(0, 1.0E+4)\n",
    "\t}\n",
    "}\n",
    "\n",
    "```\n",
    "\n",
    "<img  src=\"fig. 10.8.jpeg\"/>"
   ]
  },
  {
   "cell_type": "markdown",
   "metadata": {
    "slideshow": {
     "slide_type": "subslide"
    }
   },
   "source": [
    "### Rで実行"
   ]
  },
  {
   "cell_type": "code",
   "execution_count": 17,
   "metadata": {
    "collapsed": true,
    "slideshow": {
     "slide_type": "fragment"
    }
   },
   "outputs": [],
   "source": [
    "clear.data.param()\n",
    "set.data(\"N.sample\", nrow(d))\n",
    "set.data(\"N.pot\", length(levels(d$pot)))\n",
    "set.data(\"N.tau\", 2)\n",
    "\n",
    "set.data(\"Y\", d$y)\n",
    "set.data(\"F\", as.numeric(d$f == \"T\"))\n",
    "set.data(\"Pot\", as.numeric(d$pot))\n",
    "\n",
    "set.param(\"beta1\", 0)\n",
    "set.param(\"beta2\", 0)\n",
    "set.param(\"s\", c(1, 1))\n",
    "set.param(\"r\", rnorm(N.sample, 0, 0.1))\n",
    "set.param(\"rp\", rnorm(N.pot, 0, 0.1))"
   ]
  },
  {
   "cell_type": "code",
   "execution_count": null,
   "metadata": {
    "collapsed": true,
    "slideshow": {
     "slide_type": "fragment"
    }
   },
   "outputs": [],
   "source": [
    "post.bugs <- call.bugs(\n",
    "  file = \"model.bug10.5.txt\",\n",
    "  n.iter = 51000, n.burnin = 1000, n.thin = 50\n",
    ")"
   ]
  },
  {
   "cell_type": "markdown",
   "metadata": {
    "slideshow": {
     "slide_type": "fragment"
    }
   },
   "source": [
    "＊あらかじめRStudioで実行処理した結果を保存し、load()する。"
   ]
  },
  {
   "cell_type": "code",
   "execution_count": 18,
   "metadata": {
    "collapsed": false,
    "slideshow": {
     "slide_type": "fragment"
    }
   },
   "outputs": [],
   "source": [
    "load(\"Chap. 10.5.RData\")"
   ]
  },
  {
   "cell_type": "code",
   "execution_count": 19,
   "metadata": {
    "collapsed": false,
    "slideshow": {
     "slide_type": "subslide"
    }
   },
   "outputs": [
    {
     "data": {
      "image/png": "[encoded data removed]",
      "text/plain": [
       "Plot with title \"Density of beta2\""
      ]
     },
     "metadata": {},
     "output_type": "display_data"
    }
   ],
   "source": [
    "post.list <- to.list(post.bugs)\n",
    "post.mcmc <- to.mcmc(post.bugs)\n",
    "\n",
    "s <- colnames(post.mcmc) %in% c(\"beta1\",\"beta2\")\n",
    "plot(post.list[,s,]) #\"beta1\"と\"beta2\"の列を選択して図示"
   ]
  },
  {
   "cell_type": "code",
   "execution_count": 20,
   "metadata": {
    "collapsed": false,
    "scrolled": true,
    "slideshow": {
     "slide_type": "fragment"
    }
   },
   "outputs": [
    {
     "data": {
      "image/png": "[encoded data removed]",
      "text/plain": [
       "plot without title"
      ]
     },
     "metadata": {},
     "output_type": "display_data"
    }
   ],
   "source": [
    "#パラメーター間の分布\n",
    "plot(as.matrix(post.mcmc)[,c(\"beta1\",\"beta2\")])"
   ]
  },
  {
   "cell_type": "code",
   "execution_count": 21,
   "metadata": {
    "collapsed": false,
    "slideshow": {
     "slide_type": "subslide"
    }
   },
   "outputs": [
    {
     "name": "stdout",
     "output_type": "stream",
     "text": [
      "Inference for Bugs model at \"C:/Users/schaf/OneDrive/Documents/Ryo Nakahata/5.Statistic/R directry/model.bug10.5.txt\", fit using WinBUGS,\n",
      " 3 chains, each with 51000 iterations (first 1000 discarded), n.thin = 50\n",
      " n.sims = 3000 iterations saved\n",
      "            mean     sd    2.5%     25%     50%     75%   97.5%  Rhat n.eff\n",
      "beta1      1.330  0.533   0.180   1.018   1.344   1.664   2.382 1.008   340\n",
      "beta2     -0.801  0.762  -2.359  -1.266  -0.782  -0.338   0.742 1.004   700\n",
      "s[1]       1.019  0.117   0.817   0.937   1.010   1.092   1.273 1.001  2300\n",
      "s[2]       1.062  0.394   0.519   0.795   0.991   1.243   2.056 1.002  1300\n",
      "r[1]      -0.033  0.482  -1.008  -0.342  -0.022   0.294   0.877 1.003   980\n",
      "r[2]      -0.578  0.552  -1.693  -0.937  -0.567  -0.201   0.484 1.001  3000\n",
      "r[3]       1.099  0.396   0.311   0.843   1.100   1.360   1.874 1.002  1300\n",
      "r[4]      -0.199  0.501  -1.205  -0.514  -0.192   0.136   0.740 1.003   710\n",
      "r[5]      -1.571  0.722  -3.080  -2.019  -1.540  -1.071  -0.284 1.001  3000\n",
      "r[6]       1.111  0.398   0.347   0.842   1.105   1.374   1.893 1.002  1000\n",
      "r[7]      -0.363  0.533  -1.457  -0.710  -0.351   0.001   0.619 1.002  1300\n",
      "r[8]       0.230  0.459  -0.715  -0.071   0.243   0.541   1.082 1.001  3000\n",
      "r[9]       0.636  0.431  -0.194   0.339   0.641   0.923   1.495 1.002  2000\n",
      "r[10]      0.244  0.456  -0.697  -0.054   0.260   0.546   1.125 1.002  1300\n",
      "r[11]     -1.153  0.746  -2.677  -1.633  -1.109  -0.634   0.164 1.001  3000\n",
      "r[12]     -0.716  0.661  -2.124  -1.134  -0.691  -0.265   0.531 1.002  1600\n",
      "r[13]     -0.703  0.674  -2.075  -1.145  -0.669  -0.223   0.542 1.002  1300\n",
      "r[14]      0.425  0.528  -0.637   0.079   0.432   0.778   1.441 1.001  3000\n",
      "r[15]      0.738  0.492  -0.239   0.419   0.740   1.062   1.685 1.001  3000\n",
      "r[16]      0.198  0.569  -0.964  -0.184   0.208   0.580   1.274 1.001  3000\n",
      "r[17]     -1.155  0.744  -2.737  -1.620  -1.115  -0.646   0.188 1.001  3000\n",
      "r[18]      0.201  0.564  -0.924  -0.170   0.218   0.587   1.245 1.001  3000\n",
      "r[19]     -0.334  0.620  -1.568  -0.750  -0.305   0.109   0.800 1.001  2500\n",
      "r[20]      2.004  0.420   1.220   1.714   1.988   2.287   2.854 1.001  3000\n",
      "r[21]     -0.145  0.653  -1.489  -0.570  -0.119   0.306   1.037 1.001  3000\n",
      "r[22]     -0.538  0.691  -2.012  -0.970  -0.517  -0.048   0.731 1.002  1200\n",
      "r[23]      0.427  0.560  -0.718   0.071   0.440   0.807   1.493 1.001  3000\n",
      "r[24]      0.175  0.601  -1.062  -0.212   0.205   0.590   1.302 1.001  3000\n",
      "r[25]      0.421  0.572  -0.784   0.057   0.438   0.804   1.519 1.001  3000\n",
      "r[26]     -1.011  0.772  -2.587  -1.518  -0.979  -0.468   0.412 1.001  2300\n",
      "r[27]     -0.552  0.709  -2.064  -0.989  -0.511  -0.069   0.745 1.003  1000\n",
      "r[28]     -0.514  0.687  -1.952  -0.959  -0.479  -0.027   0.714 1.001  3000\n",
      "r[29]      0.154  0.600  -1.122  -0.236   0.154   0.561   1.306 1.001  3000\n",
      "r[30]      0.822  0.534  -0.259   0.476   0.832   1.172   1.846 1.001  3000\n",
      "r[31]      1.137  0.382   0.387   0.880   1.136   1.395   1.892 1.001  3000\n",
      "r[32]     -0.852  0.537  -1.934  -1.217  -0.834  -0.481   0.151 1.001  3000\n",
      "r[33]      1.211  0.376   0.490   0.957   1.209   1.472   1.947 1.001  3000\n",
      "r[34]      0.670  0.396  -0.097   0.405   0.675   0.937   1.436 1.001  3000\n",
      "r[35]     -1.423  0.641  -2.786  -1.831  -1.413  -0.966  -0.243 1.001  3000\n",
      "r[36]      0.602  0.399  -0.179   0.329   0.598   0.875   1.393 1.001  2500\n",
      "r[37]      0.602  0.410  -0.215   0.326   0.601   0.883   1.367 1.002  1400\n",
      "r[38]     -0.324  0.475  -1.258  -0.635  -0.320   0.006   0.572 1.001  3000\n",
      "r[39]     -0.655  0.508  -1.708  -0.978  -0.638  -0.308   0.322 1.003   930\n",
      "r[40]     -0.065  0.449  -0.968  -0.372  -0.061   0.244   0.793 1.002  1400\n",
      "r[41]      0.446  0.498  -0.547   0.118   0.440   0.784   1.397 1.002  1900\n",
      "r[42]      1.449  0.418   0.614   1.169   1.448   1.730   2.242 1.001  3000\n",
      "r[43]      0.730  0.474  -0.196   0.405   0.732   1.046   1.628 1.003   920\n",
      "r[44]     -0.161  0.567  -1.288  -0.536  -0.155   0.234   0.933 1.001  3000\n",
      "r[45]     -0.439  0.595  -1.712  -0.813  -0.400  -0.036   0.687 1.001  3000\n",
      "r[46]      0.724  0.472  -0.216   0.390   0.741   1.059   1.595 1.001  3000\n",
      "r[47]      0.062  0.546  -1.040  -0.309   0.081   0.445   1.059 1.001  3000\n",
      "r[48]     -1.239  0.724  -2.787  -1.678  -1.193  -0.743   0.040 1.001  3000\n",
      "r[49]     -1.231  0.751  -2.863  -1.692  -1.174  -0.718   0.120 1.001  3000\n",
      "r[50]     -0.467  0.609  -1.738  -0.859  -0.428  -0.053   0.647 1.001  3000\n",
      "r[51]      0.590  0.752  -0.961   0.087   0.602   1.121   1.993 1.001  3000\n",
      "r[52]      0.594  0.704  -0.831   0.132   0.606   1.088   1.947 1.001  3000\n",
      "r[53]     -0.530  0.859  -2.359  -1.086  -0.486   0.062   1.024 1.001  2600\n",
      "r[54]     -0.529  0.837  -2.320  -1.058  -0.482   0.035   1.020 1.001  3000\n",
      "r[55]      0.104  0.778  -1.488  -0.393   0.110   0.634   1.565 1.001  2300\n",
      "r[56]     -0.536  0.862  -2.296  -1.115  -0.496   0.071   1.060 1.002  1300\n",
      "r[57]     -0.537  0.864  -2.349  -1.081  -0.496   0.055   1.052 1.001  3000\n",
      "r[58]      0.085  0.784  -1.542  -0.418   0.112   0.617   1.506 1.001  3000\n",
      "r[59]     -0.557  0.864  -2.334  -1.114  -0.517   0.042   1.017 1.001  3000\n",
      "r[60]      0.111  0.793  -1.564  -0.406   0.140   0.663   1.597 1.001  3000\n",
      "r[61]      1.067  0.447   0.200   0.755   1.068   1.370   1.949 1.002  1400\n",
      "r[62]     -0.415  0.626  -1.709  -0.833  -0.400   0.018   0.784 1.001  3000\n",
      "r[63]     -0.437  0.614  -1.692  -0.832  -0.419  -0.022   0.734 1.001  3000\n",
      "r[64]      1.590  0.427   0.766   1.301   1.593   1.868   2.414 1.001  3000\n",
      "r[65]     -0.173  0.576  -1.354  -0.534  -0.152   0.208   0.900 1.001  3000\n",
      "r[66]      0.735  0.487  -0.217   0.405   0.738   1.055   1.690 1.001  3000\n",
      "r[67]      0.605  0.490  -0.356   0.274   0.611   0.924   1.579 1.001  3000\n",
      "r[68]     -0.154  0.565  -1.260  -0.529  -0.136   0.239   0.925 1.001  3000\n",
      "r[69]     -0.791  0.683  -2.219  -1.226  -0.770  -0.322   0.467 1.001  3000\n",
      "r[70]     -1.257  0.759  -2.893  -1.712  -1.215  -0.728   0.091 1.002  1800\n",
      "r[71]      1.851  0.585   0.697   1.460   1.848   2.249   2.965 1.001  3000\n",
      "r[72]     -0.590  0.823  -2.276  -1.127  -0.556  -0.025   0.967 1.001  3000\n",
      "r[73]     -0.616  0.844  -2.393  -1.148  -0.602  -0.018   0.973 1.001  2100\n",
      "r[74]     -0.584  0.865  -2.484  -1.119  -0.544   0.020   1.006 1.002  1900\n",
      "r[75]      0.032  0.777  -1.591  -0.453   0.059   0.555   1.467 1.001  3000\n",
      "r[76]      0.034  0.772  -1.538  -0.456   0.057   0.546   1.504 1.003   800\n",
      "r[77]     -0.599  0.841  -2.335  -1.139  -0.570  -0.006   0.959 1.002  1900\n",
      "r[78]     -0.624  0.859  -2.393  -1.200  -0.602  -0.032   0.942 1.002  1900\n",
      "r[79]      0.023  0.794  -1.609  -0.489   0.042   0.568   1.519 1.003   740\n",
      "r[80]      0.017  0.786  -1.637  -0.488   0.058   0.549   1.446 1.001  3000\n",
      "r[81]      0.363  0.453  -0.542   0.063   0.366   0.663   1.264 1.001  3000\n",
      "r[82]     -0.919  0.590  -2.132  -1.321  -0.886  -0.516   0.160 1.003   950\n",
      "r[83]      0.466  0.435  -0.377   0.181   0.462   0.768   1.334 1.002  1200\n",
      "r[84]     -0.453  0.527  -1.501  -0.806  -0.451  -0.095   0.582 1.001  3000\n",
      "r[85]     -0.644  0.550  -1.736  -1.000  -0.617  -0.283   0.415 1.002  2000\n",
      "r[86]      0.834  0.418   0.028   0.551   0.829   1.104   1.662 1.001  3000\n",
      "r[87]     -0.456  0.535  -1.524  -0.801  -0.444  -0.101   0.573 1.002  1600\n",
      "r[88]      1.708  0.387   0.966   1.449   1.703   1.964   2.469 1.002  3000\n",
      "r[89]     -0.288  0.496  -1.294  -0.616  -0.280   0.060   0.655 1.002  1800\n",
      "r[90]      1.016  0.410   0.208   0.740   1.016   1.285   1.823 1.001  3000\n",
      "r[91]      2.812  0.434   1.986   2.510   2.806   3.091   3.684 1.003   740\n",
      "r[92]     -0.352  0.720  -1.881  -0.806  -0.314   0.163   0.978 1.002  1300\n",
      "r[93]     -0.329  0.727  -1.882  -0.785  -0.305   0.171   1.007 1.001  3000\n",
      "r[94]      0.117  0.657  -1.227  -0.300   0.132   0.576   1.319 1.003   690\n",
      "r[95]     -0.854  0.800  -2.530  -1.373  -0.822  -0.294   0.629 1.001  3000\n",
      "r[96]     -0.313  0.717  -1.800  -0.781  -0.286   0.185   1.021 1.001  3000\n",
      "r[97]     -0.314  0.720  -1.825  -0.773  -0.289   0.190   1.014 1.001  3000\n",
      "r[98]      0.098  0.676  -1.283  -0.362   0.122   0.564   1.348 1.001  3000\n",
      "r[99]     -0.327  0.713  -1.835  -0.771  -0.305   0.144   0.984 1.001  3000\n",
      "r[100]    -0.829  0.800  -2.521  -1.355  -0.774  -0.272   0.631 1.001  3000\n",
      "rp[1]      0.425  0.586  -0.690   0.051   0.411   0.782   1.672 1.004  1100\n",
      "rp[2]     -0.309  0.591  -1.480  -0.673  -0.310   0.060   0.857 1.006   360\n",
      "rp[3]     -0.596  0.594  -1.777  -0.981  -0.598  -0.226   0.623 1.006   440\n",
      "rp[4]      0.767  0.595  -0.349   0.391   0.735   1.142   2.068 1.004   620\n",
      "rp[5]     -0.135  0.588  -1.284  -0.516  -0.133   0.228   1.086 1.005   610\n",
      "rp[6]     -0.994  0.663  -2.381  -1.408  -0.963  -0.561   0.315 1.001  2800\n",
      "rp[7]      0.654  0.607  -0.463   0.257   0.636   1.009   1.915 1.002  1100\n",
      "rp[8]     -0.839  0.645  -2.129  -1.242  -0.817  -0.438   0.416 1.002  3000\n",
      "rp[9]      1.322  0.614   0.229   0.921   1.289   1.676   2.642 1.005   770\n",
      "rp[10]    -0.174  0.614  -1.358  -0.557  -0.191   0.194   1.007 1.001  3000\n",
      "deviance 367.636 13.053 343.900 358.500 366.900 376.000 394.402 1.001  3000\n",
      "\n",
      "For each parameter, n.eff is a crude measure of effective sample size,\n",
      "and Rhat is the potential scale reduction factor (at convergence, Rhat=1).\n",
      "\n",
      "DIC info (using the rule, pD = Dbar-Dhat)\n",
      "pD = 69.3 and DIC = 436.9\n",
      "DIC is an estimate of expected predictive error (lower deviance is better).\n"
     ]
    }
   ],
   "source": [
    "#MCMCサンプリングの要約\n",
    "print(post.bugs, digits.summary = 3)"
   ]
  },
  {
   "cell_type": "markdown",
   "metadata": {
    "nbpresent": {
     "id": "e38546ee-3f15-4f15-8709-3e8be0b8129d"
    },
    "slideshow": {
     "slide_type": "subslide"
    }
   },
   "source": [
    "このようにして事後分布を推定してみると、$\\beta_2$の（周辺）事後分布の$95\\%$区間は<font color=\"Red\">－2.36から0.74</font>（教科書では－2.47から0.70）くらいとなり、施肥処理は何の効果もなさそうだとわかる。"
   ]
  },
  {
   "cell_type": "markdown",
   "metadata": {
    "nbpresent": {
     "id": "c31c1620-388c-46a4-a4dc-41626b07b9af"
    },
    "slideshow": {
     "slide_type": "slide"
    }
   },
   "source": [
    "## 10.6 この章のまとめと参考文献\n",
    "+ GLMMをベイズモデル化すると**階層ベイズモデル**になる\n",
    "+ 階層ベイズモデルとは、事前分布となる確率分布のパラメーターにも事前分布が指定されている統計モデルである\n",
    "+ 無情報事前分布と階層事前分布を使うことで、ベイズ統計モデルから主観的な事前分布を排除できる\n",
    "+ **個体差＋場所差**といった複雑な構造のあるデータの統計モデリングでは、階層ベイズモデルとMCMCサンプリングによるパラメーター推定の組み合わせで対処するのが良い\n",
    "\n",
    "統計モデルと推定方法の区別に注意  \n",
    "統計モデルは<font color=\"Red\">階層ベイズモデル</font>、推定方法は<font color=\"Red\">MCMCサンプリング</font>"
   ]
  }
 ],
 "metadata": {
  "anaconda-cloud": {},
  "celltoolbar": "Slideshow",
  "kernelspec": {
   "display_name": "R",
   "language": "R",
   "name": "ir"
  },
  "language_info": {
   "codemirror_mode": "r",
   "file_extension": ".r",
   "mimetype": "text/x-r-source",
   "name": "R",
   "pygments_lexer": "r",
   "version": "3.3.1"
  },
  "nbpresent": {
   "slides": {
    "0ea311de-15fd-42b7-ac7d-2adcc15b46c0": {
     "id": "0ea311de-15fd-42b7-ac7d-2adcc15b46c0",
     "prev": "fda479ba-8c9e-4e88-8aa8-13793d183e6e",
     "regions": {
      "e195bea0-6113-4d19-a723-cbd3aa6748ce": {
       "attrs": {
        "height": 0.8,
        "width": 0.8,
        "x": 0.10200803212851407,
        "y": 0.09286033020972775
       },
       "content": null,
       "id": "e195bea0-6113-4d19-a723-cbd3aa6748ce"
      }
     }
    },
    "16ae5a9a-0d31-4b96-939d-47cedf11e621": {
     "id": "16ae5a9a-0d31-4b96-939d-47cedf11e621",
     "prev": "39281c2e-b2f4-4c63-9b5b-f92426cb7708",
     "regions": {
      "38a028a5-a29b-4670-92d3-3609137f8a0d": {
       "attrs": {
        "height": 0.8,
        "width": 0.8,
        "x": 0.1,
        "y": 0.1
       },
       "content": {
        "cell": "09d8143e-90dd-40f4-9020-fea43e783f90",
        "part": "whole"
       },
       "id": "38a028a5-a29b-4670-92d3-3609137f8a0d"
      }
     }
    },
    "1754e86d-7a11-4e03-9a4b-a6094d6114a7": {
     "id": "1754e86d-7a11-4e03-9a4b-a6094d6114a7",
     "prev": "c7dab0ee-d93e-4158-97df-2661b6ba24fa",
     "regions": {
      "df23bfa5-a6f7-4a4b-a52c-094bae8b718f": {
       "attrs": {
        "height": 0.8,
        "width": 0.8,
        "x": 0.1,
        "y": 0.1
       },
       "content": {
        "cell": "307c76e1-bab9-4697-8cbe-3aef4cb74003",
        "part": "whole"
       },
       "id": "df23bfa5-a6f7-4a4b-a52c-094bae8b718f"
      }
     }
    },
    "1da0fc3a-5339-4a46-b71a-c7559aacf2d3": {
     "id": "1da0fc3a-5339-4a46-b71a-c7559aacf2d3",
     "prev": "b1a42c65-b64c-41ad-a809-42504e79d3dd",
     "regions": {
      "ed1e4aab-30ba-473c-a176-e62210a7a09c": {
       "attrs": {
        "height": 0.8,
        "width": 0.8,
        "x": 0.1,
        "y": 0.1
       },
       "content": {
        "cell": "88767091-bbbc-4b3d-a5d6-728fe3bb1f78",
        "part": "whole"
       },
       "id": "ed1e4aab-30ba-473c-a176-e62210a7a09c"
      }
     }
    },
    "1f265f42-a2fc-48b4-a0d8-544f6f103367": {
     "id": "1f265f42-a2fc-48b4-a0d8-544f6f103367",
     "prev": "1754e86d-7a11-4e03-9a4b-a6094d6114a7",
     "regions": {
      "9f8dbfcd-4056-46f1-bde4-70e19e934a74": {
       "attrs": {
        "height": 0.8,
        "width": 0.8,
        "x": 0.1,
        "y": 0.1
       },
       "content": {
        "cell": "c0e5889f-5638-4cb3-aaee-1c3678f9bb3a",
        "part": "whole"
       },
       "id": "9f8dbfcd-4056-46f1-bde4-70e19e934a74"
      }
     }
    },
    "31601db7-760e-4349-bc7c-6609d45e568b": {
     "id": "31601db7-760e-4349-bc7c-6609d45e568b",
     "prev": "3a448316-9a96-47ed-b6eb-17a1064315a5",
     "regions": {
      "f4109b1f-dce5-4e1e-8206-32a093577b83": {
       "attrs": {
        "height": 0.8,
        "width": 0.8,
        "x": 0.1,
        "y": 0.1
       },
       "content": {
        "cell": "644cb0b1-11d2-4781-a09a-2acd0ea35544",
        "part": "whole"
       },
       "id": "f4109b1f-dce5-4e1e-8206-32a093577b83"
      }
     }
    },
    "39281c2e-b2f4-4c63-9b5b-f92426cb7708": {
     "id": "39281c2e-b2f4-4c63-9b5b-f92426cb7708",
     "prev": "bd54045b-d5d9-4167-bef6-40a2bdc35806",
     "regions": {
      "1c6c78ff-ee09-4d0a-9bcf-f389df909997": {
       "attrs": {
        "height": 0.8,
        "width": 0.8,
        "x": 0.1,
        "y": 0.1
       },
       "content": {
        "cell": "c5ad1e5b-fd94-44dd-84e4-fdefb9c3dc7a",
        "part": "whole"
       },
       "id": "1c6c78ff-ee09-4d0a-9bcf-f389df909997"
      }
     }
    },
    "3a448316-9a96-47ed-b6eb-17a1064315a5": {
     "id": "3a448316-9a96-47ed-b6eb-17a1064315a5",
     "prev": "fef67c4b-3ea0-4ce2-9010-49b56c87d376",
     "regions": {
      "a05f0995-0024-4d81-941e-a2dcbbbcdc42": {
       "attrs": {
        "height": 0.8,
        "width": 0.8,
        "x": 0.1,
        "y": 0.1
       },
       "content": {
        "cell": "1473486f-8453-470e-a9f8-58bdf3a0dee8",
        "part": "whole"
       },
       "id": "a05f0995-0024-4d81-941e-a2dcbbbcdc42"
      }
     }
    },
    "3ea1e53d-9781-4807-aff6-1360ec9bac95": {
     "id": "3ea1e53d-9781-4807-aff6-1360ec9bac95",
     "prev": "3f0a7583-c3b1-48c6-a106-b74d8c19514d",
     "regions": {
      "e6e76c73-0409-4ae9-bbb9-9775e4f83bda": {
       "attrs": {
        "height": 0.8,
        "width": 0.8,
        "x": 0.1,
        "y": 0.1
       },
       "content": {
        "cell": "f493b88d-dc7a-435b-987d-e4ebf567faad",
        "part": "whole"
       },
       "id": "e6e76c73-0409-4ae9-bbb9-9775e4f83bda"
      }
     }
    },
    "3f0a7583-c3b1-48c6-a106-b74d8c19514d": {
     "id": "3f0a7583-c3b1-48c6-a106-b74d8c19514d",
     "prev": "b83cf5d4-2cbb-4562-bce3-c0c1be59f38d",
     "regions": {
      "6bd7670f-5175-4702-80d5-26d31bd3a953": {
       "attrs": {
        "height": 0.8,
        "width": 0.8,
        "x": 0.1,
        "y": 0.1
       },
       "content": {
        "cell": "bdee800f-5d4c-42fa-a4a0-85e6ba09ee0a",
        "part": "whole"
       },
       "id": "6bd7670f-5175-4702-80d5-26d31bd3a953"
      }
     }
    },
    "44386eb4-c1e0-47a9-b481-a2955f41af0d": {
     "id": "44386eb4-c1e0-47a9-b481-a2955f41af0d",
     "prev": "a820d0bb-115f-4c58-8fd9-49d243d13d1e",
     "regions": {
      "9a67eceb-f619-4dd1-b5ce-5032c643ae0a": {
       "attrs": {
        "height": 0.8,
        "width": 0.8,
        "x": 0.1,
        "y": 0.1
       },
       "content": {
        "cell": "19afb87f-7394-4c10-95b4-36f20c5fa4f8",
        "part": "whole"
       },
       "id": "9a67eceb-f619-4dd1-b5ce-5032c643ae0a"
      }
     }
    },
    "5b4009ee-e707-46fa-bab0-ec3e4df734ae": {
     "id": "5b4009ee-e707-46fa-bab0-ec3e4df734ae",
     "prev": "dcca0b3e-293c-42d4-8ef2-110dc36dca0e",
     "regions": {
      "fed3e14a-f4b0-446b-803f-2bbb888de8f3": {
       "attrs": {
        "height": 0.8,
        "width": 0.8,
        "x": 0.1,
        "y": 0.1
       },
       "content": {
        "cell": "6ba09a61-9def-42f5-b3f8-812e541fd344",
        "part": "whole"
       },
       "id": "fed3e14a-f4b0-446b-803f-2bbb888de8f3"
      }
     }
    },
    "5e757914-6407-4476-9b51-37e509ec2b2a": {
     "id": "5e757914-6407-4476-9b51-37e509ec2b2a",
     "prev": "a803794e-b69a-4070-9062-1d3ff607e776",
     "regions": {
      "91534093-1239-410f-b6e1-f4bc7662fa30": {
       "attrs": {
        "height": 0.8,
        "width": 0.8,
        "x": 0.1,
        "y": 0.1
       },
       "content": {
        "cell": "c729df75-4c9e-4a5d-b42f-ac63f6967f72",
        "part": "whole"
       },
       "id": "91534093-1239-410f-b6e1-f4bc7662fa30"
      }
     }
    },
    "6ec7d3b4-ea08-4abd-bdee-1acfc2a051b8": {
     "id": "6ec7d3b4-ea08-4abd-bdee-1acfc2a051b8",
     "prev": "1da0fc3a-5339-4a46-b71a-c7559aacf2d3",
     "regions": {
      "bf4c8b31-df01-4549-9e10-aa7a69ae8bb3": {
       "attrs": {
        "height": 0.8,
        "width": 0.8,
        "x": 0.1,
        "y": 0.1
       },
       "content": {
        "cell": "2a37965b-e66d-494c-badc-a78bd8a33fb2",
        "part": "whole"
       },
       "id": "bf4c8b31-df01-4549-9e10-aa7a69ae8bb3"
      }
     }
    },
    "8e774c9e-acf4-4a6a-ae19-ba2ee557bc9b": {
     "id": "8e774c9e-acf4-4a6a-ae19-ba2ee557bc9b",
     "prev": "9ea88175-882d-40e9-90b3-8629bedbc6fa",
     "regions": {
      "4155ae2b-ff9f-4d93-810b-2bde358f0f5a": {
       "attrs": {
        "height": 0.8,
        "width": 0.8,
        "x": 0.1,
        "y": 0.1
       },
       "content": {
        "cell": "31f4e122-519b-40b3-af1f-ceafd463c091",
        "part": "whole"
       },
       "id": "4155ae2b-ff9f-4d93-810b-2bde358f0f5a"
      }
     }
    },
    "9ea88175-882d-40e9-90b3-8629bedbc6fa": {
     "id": "9ea88175-882d-40e9-90b3-8629bedbc6fa",
     "prev": "5b4009ee-e707-46fa-bab0-ec3e4df734ae",
     "regions": {
      "bcaec067-7b12-4979-adbc-6b740976d9e8": {
       "attrs": {
        "height": 0.8,
        "width": 0.8,
        "x": 0.1,
        "y": 0.1
       },
       "content": {
        "cell": "0f9be94b-bd02-4b5c-b596-2f201a86133b",
        "part": "whole"
       },
       "id": "bcaec067-7b12-4979-adbc-6b740976d9e8"
      }
     }
    },
    "a803794e-b69a-4070-9062-1d3ff607e776": {
     "id": "a803794e-b69a-4070-9062-1d3ff607e776",
     "prev": "d01d5b85-8d1d-4e4a-be0c-d446bcb95948",
     "regions": {
      "8440d3e6-4cb3-4d29-a233-0d45b02c85b3": {
       "attrs": {
        "height": 0.8,
        "width": 0.8,
        "x": 0.1,
        "y": 0.1
       },
       "content": {
        "cell": "f5f9e156-2a68-4e5f-8f94-2b1051101f37",
        "part": "whole"
       },
       "id": "8440d3e6-4cb3-4d29-a233-0d45b02c85b3"
      }
     }
    },
    "a820d0bb-115f-4c58-8fd9-49d243d13d1e": {
     "id": "a820d0bb-115f-4c58-8fd9-49d243d13d1e",
     "prev": "0ea311de-15fd-42b7-ac7d-2adcc15b46c0",
     "regions": {
      "ed9ca1a0-38ee-48e5-bee0-c63961199b1a": {
       "attrs": {
        "height": 0.8,
        "width": 0.8,
        "x": 0.1,
        "y": 0.1
       },
       "content": {
        "cell": "d3347c18-57d5-47ea-bd71-5f784f2f901f",
        "part": "whole"
       },
       "id": "ed9ca1a0-38ee-48e5-bee0-c63961199b1a"
      }
     }
    },
    "b1a42c65-b64c-41ad-a809-42504e79d3dd": {
     "id": "b1a42c65-b64c-41ad-a809-42504e79d3dd",
     "prev": "31601db7-760e-4349-bc7c-6609d45e568b",
     "regions": {
      "d5bc06fb-5842-4ee6-b46b-f09cf1dc792d": {
       "attrs": {
        "height": 0.8,
        "width": 0.8,
        "x": 0.1,
        "y": 0.1
       },
       "content": {
        "cell": "ab00ea30-cc9e-478f-ae0a-392cf9419a76",
        "part": "whole"
       },
       "id": "d5bc06fb-5842-4ee6-b46b-f09cf1dc792d"
      }
     }
    },
    "b445adb6-c980-413d-bd0e-ac600e7383df": {
     "id": "b445adb6-c980-413d-bd0e-ac600e7383df",
     "prev": "1f265f42-a2fc-48b4-a0d8-544f6f103367",
     "regions": {
      "bf179d37-37ff-4a8e-86d7-fd8f38f2f7e7": {
       "attrs": {
        "height": 0.8,
        "width": 0.8,
        "x": 0.1,
        "y": 0.1
       },
       "content": {
        "cell": "e92c1ed8-45c0-4d3f-a7ef-10fcb9d87a01",
        "part": "whole"
       },
       "id": "bf179d37-37ff-4a8e-86d7-fd8f38f2f7e7"
      }
     }
    },
    "b83cf5d4-2cbb-4562-bce3-c0c1be59f38d": {
     "id": "b83cf5d4-2cbb-4562-bce3-c0c1be59f38d",
     "prev": "6ec7d3b4-ea08-4abd-bdee-1acfc2a051b8",
     "regions": {
      "644c76dd-50fe-4ce6-a4d2-0ed4e83c20b3": {
       "attrs": {
        "height": 0.8,
        "width": 0.8,
        "x": 0.1,
        "y": 0.1
       },
       "content": {
        "cell": "97254096-8d57-40cb-b384-9605dc41d7a7",
        "part": "whole"
       },
       "id": "644c76dd-50fe-4ce6-a4d2-0ed4e83c20b3"
      }
     }
    },
    "bd54045b-d5d9-4167-bef6-40a2bdc35806": {
     "id": "bd54045b-d5d9-4167-bef6-40a2bdc35806",
     "prev": "5e757914-6407-4476-9b51-37e509ec2b2a",
     "regions": {
      "c089a6b6-6e22-4d11-9cc9-392860fc52c4": {
       "attrs": {
        "height": 0.8,
        "width": 0.8,
        "x": 0.1,
        "y": 0.1
       },
       "content": {
        "cell": "5f4e337a-3b51-4a9a-aa94-37a3d67567cd",
        "part": "whole"
       },
       "id": "c089a6b6-6e22-4d11-9cc9-392860fc52c4"
      }
     }
    },
    "c7dab0ee-d93e-4158-97df-2661b6ba24fa": {
     "id": "c7dab0ee-d93e-4158-97df-2661b6ba24fa",
     "prev": "44386eb4-c1e0-47a9-b481-a2955f41af0d",
     "regions": {
      "d45fb83f-e91f-44a9-83c2-56a6b6f6fc2e": {
       "attrs": {
        "height": 0.8,
        "width": 0.8,
        "x": 0.1,
        "y": 0.1
       },
       "content": {
        "cell": "4a636233-7b51-42db-be50-9d32aa469be1",
        "part": "whole"
       },
       "id": "d45fb83f-e91f-44a9-83c2-56a6b6f6fc2e"
      }
     }
    },
    "d01d5b85-8d1d-4e4a-be0c-d446bcb95948": {
     "id": "d01d5b85-8d1d-4e4a-be0c-d446bcb95948",
     "prev": "3ea1e53d-9781-4807-aff6-1360ec9bac95",
     "regions": {
      "1e0c11fd-54b7-4b15-9031-a182b0aebf23": {
       "attrs": {
        "height": 0.8,
        "width": 0.8,
        "x": 0.1,
        "y": 0.1
       },
       "content": {
        "cell": "77627eb5-ee06-4b5a-8491-5eeaab5234e5",
        "part": "whole"
       },
       "id": "1e0c11fd-54b7-4b15-9031-a182b0aebf23"
      }
     }
    },
    "dcca0b3e-293c-42d4-8ef2-110dc36dca0e": {
     "id": "dcca0b3e-293c-42d4-8ef2-110dc36dca0e",
     "prev": "16ae5a9a-0d31-4b96-939d-47cedf11e621",
     "regions": {
      "81e331b4-1eb3-438f-9759-e16309e6292a": {
       "attrs": {
        "height": 0.8,
        "width": 0.8,
        "x": 0.1,
        "y": 0.1
       },
       "content": {
        "cell": "789aad6d-d9e9-4fea-908e-c041ee483cb8",
        "part": "whole"
       },
       "id": "81e331b4-1eb3-438f-9759-e16309e6292a"
      }
     }
    },
    "e103a837-570c-45e0-bcc4-53c3da2aeb19": {
     "id": "e103a837-570c-45e0-bcc4-53c3da2aeb19",
     "prev": "8e774c9e-acf4-4a6a-ae19-ba2ee557bc9b",
     "regions": {
      "3128657c-28c7-42e8-84eb-b3f6fc91e3b4": {
       "attrs": {
        "height": 0.8,
        "width": 0.8,
        "x": 0.1,
        "y": 0.1
       },
       "content": {
        "cell": "e38546ee-3f15-4f15-8709-3e8be0b8129d",
        "part": "whole"
       },
       "id": "3128657c-28c7-42e8-84eb-b3f6fc91e3b4"
      }
     }
    },
    "eafeb14c-ed12-4c74-abd5-cabd4b995404": {
     "id": "eafeb14c-ed12-4c74-abd5-cabd4b995404",
     "prev": "e103a837-570c-45e0-bcc4-53c3da2aeb19",
     "regions": {
      "0ad9d0de-1851-44ca-9074-6dd255636572": {
       "attrs": {
        "height": 0.8,
        "width": 0.8,
        "x": 0.1,
        "y": 0.1
       },
       "content": {
        "cell": "c31c1620-388c-46a4-a4dc-41626b07b9af",
        "part": "whole"
       },
       "id": "0ad9d0de-1851-44ca-9074-6dd255636572"
      }
     }
    },
    "fda479ba-8c9e-4e88-8aa8-13793d183e6e": {
     "id": "fda479ba-8c9e-4e88-8aa8-13793d183e6e",
     "prev": null,
     "regions": {
      "1fe6a824-39d3-4347-9eac-71bf22e7c38d": {
       "attrs": {
        "height": 0.8,
        "width": 0.8,
        "x": 0.10200803212851407,
        "y": 0.09286033020972775
       },
       "content": {
        "cell": "ed57a5a3-c300-407d-ac36-40fc67677949",
        "part": "whole"
       },
       "id": "1fe6a824-39d3-4347-9eac-71bf22e7c38d"
      }
     }
    },
    "fef67c4b-3ea0-4ce2-9010-49b56c87d376": {
     "id": "fef67c4b-3ea0-4ce2-9010-49b56c87d376",
     "prev": "b445adb6-c980-413d-bd0e-ac600e7383df",
     "regions": {
      "536f5e8c-2c8f-4b3b-9573-749b83c9d268": {
       "attrs": {
        "height": 0.8,
        "width": 0.8,
        "x": 0.1,
        "y": 0.1
       },
       "content": {
        "cell": "56d4c32b-b706-4881-b534-d463c295a366",
        "part": "whole"
       },
       "id": "536f5e8c-2c8f-4b3b-9573-749b83c9d268"
      }
     }
    }
   },
   "themes": {}
  }
 },
 "nbformat": 4,
 "nbformat_minor": 1
}
