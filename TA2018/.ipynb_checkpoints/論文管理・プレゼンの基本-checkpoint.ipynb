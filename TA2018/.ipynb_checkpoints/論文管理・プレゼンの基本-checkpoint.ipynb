{
 "cells": [
  {
   "cell_type": "markdown",
   "metadata": {
    "slideshow": {
     "slide_type": "slide"
    }
   },
   "source": [
    "# 第2回ウラゼミ\n",
    "## 論文管理 + プレゼンの基本\n",
    "研究をはじめてみたけど、論文の探し方や管理の方法がよくわからない！\n",
    "\n",
    "ゼミのプレゼンでどやされるのがこわい！\n",
    "\n",
    "そんな人のための処世術"
   ]
  },
  {
   "cell_type": "markdown",
   "metadata": {
    "slideshow": {
     "slide_type": "slide"
    }
   },
   "source": [
    "## 論文検索\n",
    "### 論文検索サイト\n",
    "\n",
    "+ Google Scholar\n",
    "http://scholar.google.co.jp/\n",
    "\n",
    "+ Scopus\n",
    "https://www.scopus.com/\n",
    "\n",
    "+ Web of Science\n",
    "https://webofknowledge.com/\n",
    "\n",
    "\n",
    "日本語論文\n",
    "+ CiNii\n",
    "http://ci.nii.ac.jp/\n",
    "\n",
    "+ J-STAGE\n",
    "https://www.jstage.jst.go.jp/browse/-char/ja/\n",
    "\n",
    "+ JAIRO\n",
    "http://jairo.nii.ac.jp/\n",
    "\n",
    "などなど"
   ]
  },
  {
   "cell_type": "markdown",
   "metadata": {
    "slideshow": {
     "slide_type": "subslide"
    }
   },
   "source": [
    "### Google Scholarの使い方\n",
    "#### 1.  Google Scholar\n",
    "\n",
    "まずはGoogle Scholarのサイトに飛びます。\n",
    "http://scholar.google.co.jp/\n",
    "<img  src=\"img3.png\"/>\n"
   ]
  },
  {
   "cell_type": "markdown",
   "metadata": {
    "slideshow": {
     "slide_type": "subslide"
    }
   },
   "source": [
    "### Google Scholarの使い方\n",
    "\n",
    "#### 2. キーワードで検索する\n",
    "\n",
    "検索ボックスにキーワードを打ち込む\n",
    "\n",
    "\"net primary production\"とか\"leaf area index\"とかなんでも\n",
    "<img  src=\"img4.png\"/>"
   ]
  },
  {
   "cell_type": "markdown",
   "metadata": {
    "slideshow": {
     "slide_type": "subslide"
    }
   },
   "source": [
    "### Google Scholarの使い方\n",
    "#### 3. 資料を絞る\n",
    "\n",
    "基本的にキーワードとの関連度で検索結果は選ばれている\n",
    "\n",
    "検索結果に対してフィルターをかけて目当ての資料にたどり着く\n",
    "\n",
    "「日付順に並べ替える」「2010年以降に発表された論文に絞る」など\n",
    "\n",
    "\n",
    "引用数の多い資料選ぶ\n",
    "\n",
    "引用数はその論文の影響力や重要度と考えてよい"
   ]
  },
  {
   "cell_type": "markdown",
   "metadata": {
    "slideshow": {
     "slide_type": "subslide"
    }
   },
   "source": [
    "### Google Scholarの使い方\n",
    "#### Google Scholarのアラート機能で新着論文を確認する\n",
    "\n",
    "#### キーワードを含む論文をアラート\n",
    "あらかじめ設定したキーワードが含まれる論文が新しく発表されると、自動で検索してメール通知してくれる\n",
    "\n",
    "<img  src=\"img5.png\"/>\n",
    "<img  src=\"img6.png\"/>"
   ]
  },
  {
   "cell_type": "markdown",
   "metadata": {
    "slideshow": {
     "slide_type": "slide"
    }
   },
   "source": [
    "## 論文管理\n",
    "### 論文管理ソフトの種類\n",
    "\n",
    "+ Endnote　有料　しかも高い！一般なら5万円、アカデミック版でも3万円\n",
    "\n",
    ">文献管理の王道　お金は問題なく、論文の引用文献に主に利用し、とくに文献閲覧の手軽さや全文検索にはこだわらない\n",
    "\n",
    "+ Evernote 　無料\n",
    "\n",
    ">アイデア、使えるWebクリップ、ファイルなど統合的にすべてを保存できる\n",
    "\n",
    ">とにかく論文やそれ以外のいろいろな新しい情報収集として使いたい\n",
    "\n",
    "+ Mendeley　無料　多機能文献管理ソフト\n",
    "\n",
    ">Win, Mac, Linax版\n",
    "\n",
    ">お金をかけないで、文献管理に特化した\n",
    "\n",
    "+ Pepers　有料　Macユーザーにとっては勝手抜群な文献管理ソフト！\n",
    "\n",
    ">ちょっとぐらいならお金を払ってもよいが、閲覧、検索、引用に関してMendeleyとEndonoteを足して2で割った感じ\n",
    "\n",
    "+ readcub　よく知らない\n",
    "\n",
    "\n",
    "+ Zotero　よく知らない\n",
    "\n",
    "\n",
    "+ RefME　よく知らない"
   ]
  },
  {
   "cell_type": "markdown",
   "metadata": {
    "slideshow": {
     "slide_type": "subslide"
    }
   },
   "source": [
    "### Mendeleyの使い方\n",
    "\n",
    "Mendeleyとは？\n",
    "\n",
    "無料で使える文献管理ソフト\n",
    "\n",
    "① 研究活動の様々な場面を支援\n",
    "\n",
    "② デスクトップ版とウェブ版を組み合わせて使用\n",
    "\n",
    "+ デスクトップ版\n",
    "\n",
    "文献の追加\n",
    "ライブラリの管理、PDFビューア、PDFの管理\n",
    "\n",
    "+ ウェブ版（Web Importer）\n",
    "+ デスクトップ版とウェブ版の同期\n",
    "+ Wordへの参考文献の挿入\n",
    "<img  src=\"img1.png\"/>"
   ]
  },
  {
   "cell_type": "markdown",
   "metadata": {
    "slideshow": {
     "slide_type": "subslide"
    }
   },
   "source": [
    "### Mendeleyの使い方\n",
    "#### ユーザー登録する\n",
    "1. ウェブブラウザで http://www.mendeley.com にアクセス\n",
    "2. [Create a free account] をクリック\n",
    "3. E-mail、First name、Last name、Password を入力し、[Continue >] をクリック\n",
    "4. Field of study、Academic status を選択し、[Create account>] をクリック\n",
    "5. Enter your current institution? で所属機関を入力・選択し、[Save and continue >] をクリック\n",
    "（または [Skip this step >] をクリック）して登録完了\n",
    "<img  src=\"img7.png\"/>"
   ]
  },
  {
   "cell_type": "markdown",
   "metadata": {
    "slideshow": {
     "slide_type": "subslide"
    }
   },
   "source": [
    "### Mendeleyの使い方\n",
    "#### デスクトップ版のインストールと利用開始\n",
    "デスクトップ版のプログラムをダウンロードしてインストール（管理者権限が必要）\n",
    "<img  src=\"img8.png\"/>"
   ]
  },
  {
   "cell_type": "markdown",
   "metadata": {
    "slideshow": {
     "slide_type": "subslide"
    }
   },
   "source": [
    "### Mendeleyの使い方\n",
    "#### PDFのインポート、書誌情報の自動抽出\n",
    "個々のPDFやフォルダをドラッグ＆ドロップするだけで書誌情報を自動抽出\n",
    "<img  src=\"img9.png\"/>"
   ]
  },
  {
   "cell_type": "markdown",
   "metadata": {
    "slideshow": {
     "slide_type": "subslide"
    }
   },
   "source": [
    "### Mendeleyの使い方\n",
    "#### Watched Folderの利用\n",
    "\n",
    "• PDFの保存フォルダを指定することによって自動的にMendeleyにインポートすることが可能\n",
    "\n",
    "#### 書誌情報の編集\n",
    "抽出された書誌情報が不完全な場合はマニュアルで編集できます"
   ]
  },
  {
   "cell_type": "markdown",
   "metadata": {
    "slideshow": {
     "slide_type": "slide"
    }
   },
   "source": [
    "### Mendeleyの使い方\n",
    "#### ① ライブラリの管理\n",
    "① ライブラリの管理\n",
    "検索、並べ替え、フォルダを活用し、必要な文献を容易に探すことができます\n",
    "<img  src=\"img10.png\"/>"
   ]
  },
  {
   "cell_type": "markdown",
   "metadata": {
    "slideshow": {
     "slide_type": "subslide"
    }
   },
   "source": [
    "### Mendeleyの使い方\n",
    "#### ② PDFビューア\n",
    "\n",
    "• PDFにハイライトや注釈を付けることができます\n",
    "\n",
    "#### ③ PDFのエクスポート、印刷\n",
    "\n",
    "• 注釈付きでエクスポート、印刷することができます"
   ]
  },
  {
   "cell_type": "markdown",
   "metadata": {
    "slideshow": {
     "slide_type": "subslide"
    }
   },
   "source": [
    "### Mendeleyの使い方\n",
    "#### ① ウェブ版の利用開始\n",
    "• ブラウザでwww.mendeley.com にアクセスし、E-mail、Passwordを入力してサインイン\n",
    "<img  src=\"img11.png\"/>"
   ]
  },
  {
   "cell_type": "markdown",
   "metadata": {
    "slideshow": {
     "slide_type": "subslide"
    }
   },
   "source": [
    "### Mendeleyの使い方\n",
    "#### ④ Web Importerのインストール（1）\n",
    "• Web Importerを使うと、各種データベースから文献を取り込むことができます\n",
    "<img  src=\"img12.png\"/>"
   ]
  },
  {
   "cell_type": "markdown",
   "metadata": {
    "slideshow": {
     "slide_type": "subslide"
    }
   },
   "source": [
    "### Mendeleyの使い方\n",
    "#### ⑥ Web Importerによる文献のインポート\n",
    "\n",
    "• ブラウザエクステンションまたはブックマークレットをクリック（論文ページにのみ対応している場合あり）\n",
    "<img  src=\"img13.png\"/>\n",
    "ウェブ版\n",
    "⑦ Mendeleyへのダイレクトエクスポート\n",
    "• 製品内にMendeleyへのダイレクトエクスポートのメニューが用意されている場合があります"
   ]
  },
  {
   "cell_type": "markdown",
   "metadata": {
    "slideshow": {
     "slide_type": "subslide"
    }
   },
   "source": [
    "### Mendeleyの使い方\n",
    "#### ① MS Word Pluginのインストール\n",
    "<img  src=\"img14.png\"/>"
   ]
  },
  {
   "cell_type": "markdown",
   "metadata": {
    "slideshow": {
     "slide_type": "subslide"
    }
   },
   "source": [
    "### Mendeleyの使い方\n",
    "#### ② 文献符号の挿入\n",
    "<img  src=\"img15.png\"/>"
   ]
  },
  {
   "cell_type": "markdown",
   "metadata": {
    "slideshow": {
     "slide_type": "subslide"
    }
   },
   "source": [
    "### Mendeleyの使い方\n",
    "#### ④ 参考文献リストの作成\n",
    "<img  src=\"img16.png\"/>"
   ]
  },
  {
   "cell_type": "markdown",
   "metadata": {
    "slideshow": {
     "slide_type": "subslide"
    }
   },
   "source": [
    "### Mendeleyの使い方\n",
    "#### ① MS Word Pluginのインストール\n",
    "Wordへの参考文献の挿入\n",
    "① MS Word Pluginのインストール\n",
    "Wordへの参考文献の挿入\n",
    "② 文献符号の挿入\n",
    "Wordへの参考文献の挿入\n",
    "③ 連続した引用符号\n",
    "\n",
    "Wordへの参考文献の挿入\n",
    "④ 参考文献リストの作成\n",
    "Wordへの参考文献の挿入\n",
    "⑤ 引用スタイルの変更"
   ]
  },
  {
   "cell_type": "markdown",
   "metadata": {
    "slideshow": {
     "slide_type": "skip"
    }
   },
   "source": []
  }
 ],
 "metadata": {
  "anaconda-cloud": {},
  "celltoolbar": "Slideshow",
  "kernelspec": {
   "display_name": "Python [default]",
   "language": "python",
   "name": "python3"
  },
  "language_info": {
   "codemirror_mode": {
    "name": "ipython",
    "version": 3
   },
   "file_extension": ".py",
   "mimetype": "text/x-python",
   "name": "python",
   "nbconvert_exporter": "python",
   "pygments_lexer": "ipython3",
   "version": "3.5.2"
  }
 },
 "nbformat": 4,
 "nbformat_minor": 1
}
