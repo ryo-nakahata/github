{
 "cells": [
  {
   "cell_type": "markdown",
   "metadata": {
    "slideshow": {
     "slide_type": "slide"
    }
   },
   "source": [
    "# 第2回ウラゼミ\n",
    "## 論文管理 + プレゼンの基本\n",
    "研究をはじめてみたけど、論文の探し方や管理の方法がよくわからない！\n",
    "\n",
    "ゼミのプレゼンでどやされるのがこわい！\n",
    "\n",
    "そんな人のための**処世術**"
   ]
  },
  {
   "cell_type": "markdown",
   "metadata": {
    "slideshow": {
     "slide_type": "slide"
    }
   },
   "source": [
    "## 論文検索\n",
    "どのように論文を探すか\n",
    "### 論文検索サイト\n",
    "\n",
    "+ Google Scholar　　人気！国内外の論文対応\n",
    "http://scholar.google.co.jp/\n",
    "\n",
    "+ Scopus　　有能らしい\n",
    "https://www.scopus.com/\n",
    "\n",
    "+ Web of Science　　コアな国際誌のみ収録\n",
    "https://webofknowledge.com/\n",
    "\n",
    "+ Oxford Journals　　オックスフォード大学出版局\n",
    "https://academic.oup.com/journals/\n",
    "\n",
    "+ CiNii　　有能　日本語論文主体\n",
    "http://ci.nii.ac.jp/\n",
    "\n",
    "+ J-STAGE　　日本語論文主体\n",
    "https://www.jstage.jst.go.jp/browse/-char/ja/\n",
    "\n",
    "+ JAIRO　　日本語論文主体\n",
    "http://jairo.nii.ac.jp/\n",
    "\n",
    "などなど"
   ]
  },
  {
   "cell_type": "markdown",
   "metadata": {
    "slideshow": {
     "slide_type": "subslide"
    }
   },
   "source": [
    "あまたある論文検索サイトの中から人気の高いGoogle Scholarを紹介\n",
    "\n",
    "### Google Scholarの使い方\n",
    "#### 1.  Google Scholar\n",
    "\n",
    "まずはGoogle Scholarのサイトに飛びます。\n",
    "http://scholar.google.co.jp/\n",
    "<img  src=\"img3.png\"/>\n"
   ]
  },
  {
   "cell_type": "markdown",
   "metadata": {
    "slideshow": {
     "slide_type": "subslide"
    }
   },
   "source": [
    "### Google Scholarの使い方\n",
    "\n",
    "#### 2. キーワードで検索する\n",
    "\n",
    "検索ボックスにキーワードを打ち込む\n",
    "\n",
    "\"net primary production\"とか\"leaf area index\"とかなんでも\n",
    "\n",
    "キーワードとの関連度が高い順にヒット\n",
    "<img  src=\"img4.png\"/>"
   ]
  },
  {
   "cell_type": "markdown",
   "metadata": {
    "slideshow": {
     "slide_type": "subslide"
    }
   },
   "source": [
    "### Google Scholarの使い方\n",
    "#### 3. 資料を絞る\n",
    "\n",
    "基本的にキーワードとの関連度で検索結果は選ばれている\n",
    "\n",
    "検索結果に対してフィルターをかけて目当ての資料を絞り込む\n",
    "\n",
    "「日付順に並べ替える」「2010年以降に発表された論文に絞る」など\n",
    "\n",
    "#### 論文選びのコツ\n",
    "\n",
    ">引用数の多い資料選ぶ\n",
    "\n",
    ">⇒引用数はその論文の<font color=\"Red\">影響力</font>や<font color=\"Red\">重要度</font>と考えてよい\n",
    "\n",
    ">できるだけ最近の論文を選ぶ\n",
    "\n",
    ">⇒<font color=\"Red\">最新の知見</font>に基づいている"
   ]
  },
  {
   "cell_type": "markdown",
   "metadata": {
    "slideshow": {
     "slide_type": "subslide"
    }
   },
   "source": [
    "### Google Scholarの使い方\n",
    "#### 3. 資料をダウンロード\n",
    "\n",
    "目当ての論文が見つかったらリンク先に飛びPDFファイルをダウンロードする\n",
    "\n",
    "<img  src=\"img17.png\"/>\n",
    "\n",
    "多くの雑誌は京都大学のライセンスを使って無料で読むことができる"
   ]
  },
  {
   "cell_type": "markdown",
   "metadata": {
    "slideshow": {
     "slide_type": "subslide"
    }
   },
   "source": [
    "### Google Scholarの使い方\n",
    "#### Google Scholarのアラート機能で新着論文を確認する\n",
    "\n",
    "#### キーワードを含む論文をアラート\n",
    "あらかじめ設定したキーワードが含まれる論文が新しく発表されると、自動で検索してメール通知してくれる\n",
    "\n",
    "**アラートの作成**\n",
    "<img  src=\"img5.png\"/>"
   ]
  },
  {
   "cell_type": "markdown",
   "metadata": {
    "slideshow": {
     "slide_type": "subslide"
    }
   },
   "source": [
    "### Google Scholarの使い方\n",
    "#### Google Scholarのアラート機能で新着論文を確認する\n",
    "\n",
    "**メール通知**\n",
    "<img  src=\"img6.png\"/>"
   ]
  },
  {
   "cell_type": "markdown",
   "metadata": {
    "slideshow": {
     "slide_type": "slide"
    }
   },
   "source": [
    "## 論文管理\n",
    "どのように論文を管理するか\n",
    "### 論文管理ソフトの種類\n",
    "\n",
    "+ Endnote　有料　しかも高い！一般なら5万円、アカデミック版でも3万円\n",
    "\n",
    ">文献管理の王道　お金は問題なく、論文の引用文献に主に利用し、とくに文献閲覧の手軽さや全文検索にはこだわらない\n",
    "\n",
    "+ Mendeley　無料　多機能文献管理ソフト！\n",
    "\n",
    ">お金をかけないで、文献管理に特化している\n",
    "\n",
    "+ Pepers　有料　Macユーザーにとっては勝手抜群な文献管理ソフト！\n",
    "\n",
    ">ちょっとぐらいならお金を払ってもよいが、閲覧、検索、引用に関してMendeleyとEndonoteを足して2で割った感じ\n",
    "\n",
    "+ readcube　無料\n",
    "\n",
    "\n",
    "+ Zotero　無料　dropboxとの併用が便利\n",
    "\n",
    "などなど"
   ]
  },
  {
   "cell_type": "markdown",
   "metadata": {
    "slideshow": {
     "slide_type": "subslide"
    }
   },
   "source": [
    "### Mendeleyの使い方\n",
    "\n",
    "Mendeleyとは？\n",
    "\n",
    "**無料**で使える文献管理ソフト\n",
    "\n",
    "**① 研究活動の様々な場面を支援**\n",
    "\n",
    "**② デスクトップ版とウェブ版を組み合わせて使用**\n",
    "\n",
    "<img  src=\"img1.png\"/>"
   ]
  },
  {
   "cell_type": "markdown",
   "metadata": {
    "slideshow": {
     "slide_type": "subslide"
    }
   },
   "source": [
    "### Mendeleyの使い方\n",
    "#### ユーザー登録する\n",
    "1. ウェブブラウザで http://www.mendeley.com にアクセス\n",
    "2. [Create a free account] をクリック\n",
    "3. E-mail、First name、Last name、Password を入力し、[Continue >] をクリック\n",
    "4. Field of study、Academic status を選択し、[Create account>] をクリック\n",
    "5. Enter your current institution? で所属機関を入力・選択し、[Save and continue >] をクリック\n",
    "（または [Skip this step >] をクリック）して**登録完了**\n",
    "<img  src=\"img7.png\"/>"
   ]
  },
  {
   "cell_type": "markdown",
   "metadata": {
    "slideshow": {
     "slide_type": "subslide"
    }
   },
   "source": [
    "### Mendeleyの使い方\n",
    "#### デスクトップ版のインストールと利用開始\n",
    "デスクトップ版のプログラムをダウンロードしてインストール（管理者権限が必要）\n",
    "<img  src=\"img8.png\"/>"
   ]
  },
  {
   "cell_type": "markdown",
   "metadata": {
    "slideshow": {
     "slide_type": "subslide"
    }
   },
   "source": [
    "### Mendeleyの使い方\n",
    "#### PDFのインポート、書誌情報の自動抽出\n",
    "個々のPDFやフォルダをドラッグ＆ドロップするだけで書誌情報を自動抽出\n",
    "<img  src=\"img9.png\"/>"
   ]
  },
  {
   "cell_type": "markdown",
   "metadata": {
    "slideshow": {
     "slide_type": "subslide"
    }
   },
   "source": [
    "### Mendeleyの使い方\n",
    "#### Watched Folderの利用\n",
    "\n",
    "PDFの保存フォルダを指定することによって自動的にMendeleyにインポートすることが可能\n",
    "\n",
    "#### 書誌情報の編集\n",
    "抽出された書誌情報が不完全な場合はマニュアルで編集"
   ]
  },
  {
   "cell_type": "markdown",
   "metadata": {
    "slideshow": {
     "slide_type": "subslide"
    }
   },
   "source": [
    "### Mendeleyの使い方\n",
    "#### ① ライブラリの管理\n",
    "検索、並べ替え、フォルダを活用し、必要な文献を容易に探すことができる\n",
    "<img  src=\"img10.png\"/>"
   ]
  },
  {
   "cell_type": "markdown",
   "metadata": {
    "slideshow": {
     "slide_type": "subslide"
    }
   },
   "source": [
    "### Mendeleyの使い方\n",
    "#### ② PDFビューア\n",
    "\n",
    "• PDFにハイライトや注釈を付けることができる\n",
    "\n",
    "#### ③ PDFのエクスポート、印刷\n",
    "\n",
    "• 注釈付きでエクスポート、印刷することができる"
   ]
  },
  {
   "cell_type": "markdown",
   "metadata": {
    "slideshow": {
     "slide_type": "subslide"
    }
   },
   "source": [
    "### Mendeleyの使い方\n",
    "#### ① ウェブ版の利用開始\n",
    "ブラウザでwww.mendeley.com にアクセスし、E-mail、Passwordを入力してサインイン\n",
    "<img  src=\"img11.png\"/>"
   ]
  },
  {
   "cell_type": "markdown",
   "metadata": {
    "slideshow": {
     "slide_type": "subslide"
    }
   },
   "source": [
    "### Mendeleyの使い方\n",
    "#### ② Web Importerのインストール\n",
    "Web Importer（ブラウザの拡張機能）を使うと、各種データベースから文献を取り込むことができる\n",
    "<img  src=\"img12.png\"/>"
   ]
  },
  {
   "cell_type": "markdown",
   "metadata": {
    "slideshow": {
     "slide_type": "subslide"
    }
   },
   "source": [
    "### Mendeleyの使い方\n",
    "#### ③ Web Importerによる文献のインポート\n",
    "\n",
    "• ブラウザエクステンションまたはブックマークレットをクリック（論文ページにのみ対応している場合あり）\n",
    "<img  src=\"img13.png\"/>"
   ]
  },
  {
   "cell_type": "markdown",
   "metadata": {
    "slideshow": {
     "slide_type": "subslide"
    }
   },
   "source": [
    "### Mendeleyの使い方\n",
    "論文執筆時に文献引用を楽にする\n",
    "#### ① MS Word Pluginのインストール\n",
    "<img  src=\"img14.png\"/>"
   ]
  },
  {
   "cell_type": "markdown",
   "metadata": {
    "slideshow": {
     "slide_type": "subslide"
    }
   },
   "source": [
    "### Mendeleyの使い方\n",
    "#### ② 文献符号の挿入\n",
    "<img  src=\"img15.png\"/>"
   ]
  },
  {
   "cell_type": "markdown",
   "metadata": {
    "slideshow": {
     "slide_type": "subslide"
    }
   },
   "source": [
    "### Mendeleyの使い方\n",
    "#### ④ 参考文献リストの作成\n",
    "<img  src=\"img16.png\"/>"
   ]
  },
  {
   "cell_type": "markdown",
   "metadata": {
    "slideshow": {
     "slide_type": "slide"
    }
   },
   "source": [
    "## プレゼンの基本\n",
    "### ゼミの発表内容\n",
    "1. 自身の研究紹介\n",
    "\n",
    ">研究計画、進捗状況、成果報告\n",
    "\n",
    "1. 先行研究のレビュー\n",
    "\n",
    ">先行研究の要約・批評\n",
    "\n",
    "1. アイデアの提案\n",
    "\n",
    ">測定手法、モデル、統計手法"
   ]
  },
  {
   "cell_type": "markdown",
   "metadata": {
    "slideshow": {
     "slide_type": "subslide"
    }
   },
   "source": [
    "### 自身の研究紹介\n",
    "\n",
    "+ 構成をまもる\n",
    "\n",
    ">背景・目的・試料（調査地）・方法・結果・考察・結論\n",
    "\n",
    "+ 背景・目的はとても重要\n",
    "\n",
    ">背景・目的の段階で期待される結果をある程度予想しておく⇒研究の<font color=\"Red\">方向性</font>を見失わない\n",
    "\n",
    ">研究の意義、なぜその研究が必要なのか？をはっきり理解していると使命感が湧く⇒<font color=\"Red\">モチベーション</font>を維持できる\n",
    "\n",
    "+ 結果のグラフは正確に！\n",
    "\n",
    ">軸にラベルがなかったり次元がそろってなかったり抜けたりするのは**混乱を招く**ので厳禁！"
   ]
  },
  {
   "cell_type": "markdown",
   "metadata": {
    "slideshow": {
     "slide_type": "subslide"
    }
   },
   "source": [
    "### 先行研究のレビュー\n",
    "\n",
    "+ レビューする文献の**著者・発表年・雑誌名**は必ず伝える\n",
    "\n",
    ">たまに誰かおこられている\n",
    "\n",
    "+ 研究の紹介だけではなく<font color=\"Red\">批評</font>をする\n",
    "\n",
    ">先行研究の良い点・悪い点を自分の意見を交えて指摘する\n",
    "\n",
    "+ 自身の研究へのフィードバック\n",
    "\n",
    ">自分の研究にどういかすのか考える"
   ]
  },
  {
   "cell_type": "markdown",
   "metadata": {
    "slideshow": {
     "slide_type": "subslide"
    }
   },
   "source": [
    "### スライド作成の基本的な心構え\n",
    "\n",
    "+ **ひと目で内容が理解できる**ようなスライドをめざす\n",
    "\n",
    "+ 字は**大きく**（レジュメでもわかるように）\n",
    "\n",
    "+ 文は**体言止め**がおすすめ\n",
    "\n",
    "+ 紙芝居，カラー化などの工夫をする\n",
    "\n",
    "+ スライドが見にくいのをソフトウェアのせいにしない\n",
    "\n",
    "+ 表より**グラフで表現する**"
   ]
  },
  {
   "cell_type": "markdown",
   "metadata": {
    "slideshow": {
     "slide_type": "subslide"
    }
   },
   "source": [
    "### グラフの描き方\n",
    "\n",
    "**悪い例**\n",
    "<img  src=\"img18.png\"/>"
   ]
  },
  {
   "cell_type": "markdown",
   "metadata": {
    "slideshow": {
     "slide_type": "fragment"
    }
   },
   "source": [
    "**良い例**\n",
    "<img  src=\"img19.png\"/>"
   ]
  },
  {
   "cell_type": "markdown",
   "metadata": {
    "slideshow": {
     "slide_type": "subslide"
    }
   },
   "source": [
    "### 傾向と対策\n",
    "\n",
    "#### 大澤先生\n",
    "\n",
    ">単位のつけ忘れは厳禁！\n",
    "\n",
    ">手法は丁寧に説明する\n",
    "\n",
    ">無駄に略字を使わない\n",
    "\n",
    ">生物学的に根拠のないモデルはリジェクト\n",
    "\n",
    ">理解が中途半端な統計解析や数式を使うと詰む\n",
    "\n",
    ">先生でもたまに勘違いしていることがあるので反論する"
   ]
  },
  {
   "cell_type": "markdown",
   "metadata": {
    "slideshow": {
     "slide_type": "subslide"
    }
   },
   "source": [
    "### 傾向と対策\n",
    "\n",
    "#### 岡田先生\n",
    "\n",
    ">分野外からの鋭い質問がたまに飛ぶ\n",
    "\n",
    ">退屈なプレゼンだと寝られてしまう\n",
    "\n",
    ">統計にはさほど厳しくない\n",
    "\n",
    ">先生でもたまに勘違いしていることがあるので反論する"
   ]
  },
  {
   "cell_type": "markdown",
   "metadata": {
    "slideshow": {
     "slide_type": "subslide"
    }
   },
   "source": [
    "### 傾向と対策\n",
    "\n",
    "#### 檀浦先生\n",
    "\n",
    ">奇想天外なアイデアをたまわる\n",
    "\n",
    ">興味の幅が広い\n",
    "\n",
    ">統計には厳しくない\n",
    "\n",
    ">怒ると一番こわいかも\n",
    "\n",
    ">退屈なプレゼンだと上体が崩れる\n",
    "\n",
    ">先生でもたまに勘違いしていることがあるので反論する"
   ]
  },
  {
   "cell_type": "markdown",
   "metadata": {
    "slideshow": {
     "slide_type": "slide"
    }
   },
   "source": [
    "## まとめ\n",
    "\n",
    "### 論文管理\n",
    "+ ひとまずは無料のMendeleyがおすすめ\n",
    "\n",
    ">Google Schalorなどから論文インポート\n",
    "\n",
    ">論文の閲覧・整理\n",
    "\n",
    ">MS Word Pluginで論文執筆も楽に\n",
    "\n",
    "### プレゼンの基本\n",
    "+ 見やすいスライドを心掛ける\n",
    "+ 構成（背景・目的、、、）はしっかりと\n",
    "+ 傾向をつかみ対策をたてる"
   ]
  },
  {
   "cell_type": "markdown",
   "metadata": {
    "slideshow": {
     "slide_type": "subslide"
    }
   },
   "source": [
    "### 参考資料\n",
    "\n",
    "最強の文献管理ソフトはこれだ！ | Chem-Station (ケムステ)\n",
    "https://www.chem-station.com/blog/2010/04/post-155.html\n",
    "\n",
    "無料の文献管理ツールMendeleyを使ってみよう\n",
    "https://jp.elsevier.com/__data/assets/pdf_file/0009/265095/mendeley_webex_201705.pdf\n",
    "\n",
    "良い研究発表をするために\n",
    "http://www.ishilab.net/~ishihara/presen/\n",
    "\n",
    "表とグラフ - 伝わるデザイン\n",
    "http://tsutawarudesign.com/miyasuku1.html"
   ]
  }
 ],
 "metadata": {
  "anaconda-cloud": {},
  "celltoolbar": "Slideshow",
  "kernelspec": {
   "display_name": "Python [default]",
   "language": "python",
   "name": "python3"
  },
  "language_info": {
   "codemirror_mode": {
    "name": "ipython",
    "version": 3
   },
   "file_extension": ".py",
   "mimetype": "text/x-python",
   "name": "python",
   "nbconvert_exporter": "python",
   "pygments_lexer": "ipython3",
   "version": "3.5.2"
  }
 },
 "nbformat": 4,
 "nbformat_minor": 1
}
