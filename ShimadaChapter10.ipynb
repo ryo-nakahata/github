{
 "cells": [
  {
   "cell_type": "markdown",
   "metadata": {
    "slideshow": {
     "slide_type": "slide"
    }
   },
   "source": [
    "# Rで学ぶ統計学入門\n",
    "\n",
    "# 10.　一般化線形モデル（GLM）\n",
    "\n",
    "\n",
    "21世紀になり新しい大きな流れが主流となってきた  \n",
    "\n",
    "**一般化線形モデル**（generalized linear model; GLM）"
   ]
  },
  {
   "cell_type": "markdown",
   "metadata": {
    "slideshow": {
     "slide_type": "slide"
    }
   },
   "source": [
    "## 10・1　応答変数、説明変数、線形予測子\n",
    "\n",
    "GLMのモデルは一般に、現象の結果と想定されるデータを**応答変数**($y$)、原因と想定されるデータを**説明変数**($x1, x2, …, xk$)とよぶ\n",
    "\n",
    "GLMのモデルの形式は、一般に以下のように表される\n",
    "\n",
    "$$f(y)=\\beta_0+\\beta_1x_1+\\beta_2x_2+…+\\varepsilon$$\n",
    "\n",
    ">左辺$f(y)$　　　　：応答変数の**リンク関数**（link function）  \n",
    ">右辺　　　　　　：**線形予測子**（linear predictor）  \n",
    ">係数$\\beta_0$　　　　　：**切片**（intercept）  \n",
    ">係数$\\beta_0, \\beta_1, \\beta_2…$：**傾き**（slope）"
   ]
  },
  {
   "cell_type": "markdown",
   "metadata": {
    "slideshow": {
     "slide_type": "slide"
    }
   },
   "source": [
    "## 10・2　ロジスティック回帰の考え方\n",
    "\n",
    "ロジスティック回帰は、二項分布にしたがう上限のあるカウントデータ（0以上の整数）に適用される\n",
    "\n",
    "二項分布の確率分布は以下のように定義される\n",
    "\n",
    "$$P(y|n, q)=_nC_yq^y(1-q)^{n-y}$$\n",
    "\n",
    "GLMを用いて解析することの目標は、ある説明変数$x$に対し二項分布のパラメーター$q$を推定することである"
   ]
  },
  {
   "cell_type": "markdown",
   "metadata": {
    "slideshow": {
     "slide_type": "subslide"
    }
   },
   "source": [
    "GLMでは、二項分布のリンク関数$f(q)$として、ロジットリンク関数を指定する\n",
    "\n",
    "ロジットリンク関数を説明する前に、ロジスティック関数を説明する  \n",
    "ロジスティック関数は一般に以下の形式になっている\n",
    "\n",
    "$$q=logistic(z)=\\frac{1}{1-exp(-z)}$$\n",
    "\n",
    ">$z$：個々のデータ$x_i$に対しての線形予測子\n",
    "\n",
    "説明変数が1種類の場合、$z$は\n",
    "\n",
    "$$z_i=f(q)=\\beta_0+\\beta_1x_1$$"
   ]
  },
  {
   "cell_type": "markdown",
   "metadata": {
    "slideshow": {
     "slide_type": "subslide"
    }
   },
   "source": [
    "ロジスティック関数を描画してみる  \n",
    "$\\beta_0=0, \\beta_1=2$を基準として、パラメーター値を変化させる"
   ]
  },
  {
   "cell_type": "code",
   "execution_count": 53,
   "metadata": {
    "collapsed": true,
    "slideshow": {
     "slide_type": "skip"
    }
   },
   "outputs": [],
   "source": [
    "options(repr.plot.width=3.5, repr.plot.height=3)"
   ]
  },
  {
   "cell_type": "code",
   "execution_count": 54,
   "metadata": {
    "collapsed": false,
    "scrolled": true,
    "slideshow": {
     "slide_type": "fragment"
    }
   },
   "outputs": [
    {
     "data": {
      "image/png": "[encoded data removed]",
      "text/plain": [
       "plot without title"
      ]
     },
     "metadata": {},
     "output_type": "display_data"
    }
   ],
   "source": [
    "# figure 10.1 (a)\n",
    "x <- seq(-3,3, 0.1)\n",
    "b1 <- 2\n",
    "b0 <- 0\n",
    "q1 <- 1/(1+exp(-(b0 + b1*x)))\n",
    "plot(x, q1, xlim=c(-3, 3), ylim=c(0, 1.0), xlab=\"x\", ylab=\"q\", type=\"l\", lwd=2)\n",
    "b0 <- 2\n",
    "q2 <- 1/(1+exp(-(b0 + b1*x)))\n",
    "lines(x, q2, lwd=2, col=\"grey\")\n",
    "b0 <- -3\n",
    "q3 <- 1/(1+exp(-(b0 + b1*x)))\n",
    "lines(x, q3, lwd=2, col=\"grey\")"
   ]
  },
  {
   "cell_type": "code",
   "execution_count": 55,
   "metadata": {
    "collapsed": false,
    "scrolled": true,
    "slideshow": {
     "slide_type": "fragment"
    }
   },
   "outputs": [
    {
     "data": {
      "image/png": "[encoded data removed]",
      "text/plain": [
       "plot without title"
      ]
     },
     "metadata": {},
     "output_type": "display_data"
    }
   ],
   "source": [
    "# figure 10.1 (b)\n",
    "x <- seq(-3,3, 0.1)\n",
    "b1 <- 2\n",
    "b0 <- 0\n",
    "q1 <- 1/(1+exp(-(b0 + b1*x)))\n",
    "plot(x, q1, xlim=c(-3, 3), ylim=c(0, 1.0), xlab=\"x\", ylab=\"q\", type=\"l\", lwd=2)\n",
    "b1 <- 1\n",
    "q2 <- 1/(1+exp(-(b0 + b1*x)))\n",
    "lines(x, q2, lwd=2, col=\"grey\")\n",
    "b1 <- 4\n",
    "q3 <- 1/(1+exp(-(b0 + b1*x)))\n",
    "lines(x, q3, lwd=2, col=\"grey\")\n",
    "b1 <- -1.5\n",
    "q4 <- 1/(1+exp(-(b0 + b1*x)))\n",
    "lines(x, q4, lwd=2, col=\"grey\")"
   ]
  },
  {
   "cell_type": "markdown",
   "metadata": {
    "slideshow": {
     "slide_type": "subslide"
    }
   },
   "source": [
    "次にリンク関数を説明する  \n",
    "ロジスティック関数を変形すると以下のようになり、左辺をロジット関数$logit(q_i)$とよぶ\n",
    "\n",
    "$$log\\frac{q_i}{1-q_i}=z_i$$\n",
    "\n",
    "ロジット関数はロジスティック関数の逆関数\n",
    "\n",
    "線形予測子とロジスティック関数$z_i=\\beta_0+\\beta_1x_1$を関連づけるのがリンク関数\n",
    "\n",
    "ロジスティック関数のリンク関数はロジットリンク関数となる\n",
    "\n",
    "**リンク関数を設定する理由**：  \n",
    "説明変数がどんな値であっても二項分布のパラメーター$q$を$0\\le q\\le 1$の範囲におさめることができる  \n",
    "後述する最尤推定法による$q$の推定が容易になる"
   ]
  },
  {
   "cell_type": "markdown",
   "metadata": {
    "slideshow": {
     "slide_type": "slide"
    }
   },
   "source": [
    "## 10・3　ポアソン回帰の考え方\n",
    "\n",
    "ポアソン回帰を説明する\n",
    "\n",
    "これは上限のないカウントデータ（0以上の整数、非負の整数ともいう）を対象とする\n",
    "\n",
    "  \n",
    "    \n",
    "    \n",
    "たとえば\n",
    "* 母ブタの体重と産まれた1腹の産仔数の関係\n",
    "* ある植物の1株の体サイズとしゅしすうの関係に施肥の効果があるか否かの分析\n",
    "* いくつもの調査地に生息する植物種数を土壌の水分含量で分析する場合"
   ]
  },
  {
   "cell_type": "markdown",
   "metadata": {
    "slideshow": {
     "slide_type": "subslide"
    }
   },
   "source": [
    "ポアソン分布を説明する\n",
    "\n",
    "実数の定数$\\lambda(>0)$に対して、$0$以上の整数を値とする確率変数$x$の確率分布が以下の式で表されるとき、$x$は平均値$\\lambda$のポアソン分布に従う\n",
    "\n",
    "$$P(x)=\\frac{\\lambda^x}{x!}e^{-\\lambda}$$"
   ]
  },
  {
   "cell_type": "markdown",
   "metadata": {
    "slideshow": {
     "slide_type": "subslide"
    }
   },
   "source": [
    "たとえば、  \n",
    "“平均して1分間に1回起こる不規則なランダム現象は、5分間に何回起こるのかの分布を求めよ”  \n",
    "の問題を解くため、ポアソン分布を描画してみる"
   ]
  },
  {
   "cell_type": "code",
   "execution_count": 56,
   "metadata": {
    "collapsed": false,
    "slideshow": {
     "slide_type": "fragment"
    }
   },
   "outputs": [
    {
     "data": {
      "image/png": "[encoded data removed]",
      "text/plain": [
       "plot without title"
      ]
     },
     "metadata": {},
     "output_type": "display_data"
    }
   ],
   "source": [
    "# figure 10.2 (a)\n",
    "x <- seq(0, 15, 1)\n",
    "prob <- dpois(x, lambda=5)\n",
    "plot(x, prob, type=\"o\", xlim=c(0, 15), ylim=c(0, 0.18), xlab=\"x\", ylab=\"prob.\")"
   ]
  },
  {
   "cell_type": "markdown",
   "metadata": {
    "slideshow": {
     "slide_type": "subslide"
    }
   },
   "source": [
    "5分間に2回起こる確率は…"
   ]
  },
  {
   "cell_type": "code",
   "execution_count": 57,
   "metadata": {
    "collapsed": false,
    "scrolled": true,
    "slideshow": {
     "slide_type": "fragment"
    }
   },
   "outputs": [
    {
     "data": {
      "text/html": [
       "0.0842243374885683"
      ],
      "text/latex": [
       "0.0842243374885683"
      ],
      "text/markdown": [
       "0.0842243374885683"
      ],
      "text/plain": [
       "[1] 0.08422"
      ]
     },
     "metadata": {},
     "output_type": "display_data"
    }
   ],
   "source": [
    "dpois(2, lambda = 5)"
   ]
  },
  {
   "cell_type": "markdown",
   "metadata": {
    "slideshow": {
     "slide_type": "fragment"
    }
   },
   "source": [
    "5分間に6回起こる確率は…"
   ]
  },
  {
   "cell_type": "code",
   "execution_count": 58,
   "metadata": {
    "collapsed": false,
    "scrolled": true,
    "slideshow": {
     "slide_type": "fragment"
    }
   },
   "outputs": [
    {
     "data": {
      "text/html": [
       "0.146222808139876"
      ],
      "text/latex": [
       "0.146222808139876"
      ],
      "text/markdown": [
       "0.146222808139876"
      ],
      "text/plain": [
       "[1] 0.1462"
      ]
     },
     "metadata": {},
     "output_type": "display_data"
    }
   ],
   "source": [
    "dpois(6, lambda = 5)"
   ]
  },
  {
   "cell_type": "markdown",
   "metadata": {
    "slideshow": {
     "slide_type": "subslide"
    }
   },
   "source": [
    "さまざまな平均値$\\lambda(=1, 3, 5, 7)$のポアソン分布を示す"
   ]
  },
  {
   "cell_type": "code",
   "execution_count": 59,
   "metadata": {
    "collapsed": false,
    "scrolled": true,
    "slideshow": {
     "slide_type": "fragment"
    }
   },
   "outputs": [
    {
     "data": {
      "image/png": "[encoded data removed]",
      "text/plain": [
       "plot without title"
      ]
     },
     "metadata": {},
     "output_type": "display_data"
    }
   ],
   "source": [
    "# figure 10.2(b)\n",
    "x <- seq(0, 15, 1)\n",
    "freq1 <- dpois(x, lambda=1)\n",
    "plot(x, freq1, xlim=c(0, 15), ylim=c(0, 0.4), type=\"o\", col=\"grey\", xlab=\"x\", ylab=\"prob.\", cex=0.5)\n",
    "freq2 <- dpois(x, lambda=3)\n",
    "lines(x, freq2, type=\"o\", col=\"grey\", cex=0.5)\n",
    "freq3 <- dpois(x, lambda=5)\n",
    "lines(x, freq3, type=\"o\", cex=0.5)\n",
    "freq4 <- dpois(x, lambda=7)\n",
    "lines(x, freq4, type=\"o\", col=\"grey\", cex=0.5)"
   ]
  },
  {
   "cell_type": "markdown",
   "metadata": {
    "slideshow": {
     "slide_type": "subslide"
    }
   },
   "source": [
    "ポアソン分布の平均と分散はともに$\\lambda$に等しいという重要な性質をもっているので、平均値$\\lambda$が決まれば分散も等しく決まる\n",
    "\n",
    "$$E(x)=Var(x)=\\lambda$$\n",
    "\n",
    "このようなポアソン分布をベースにしたポアソン回帰の概念図を示す"
   ]
  },
  {
   "cell_type": "code",
   "execution_count": 60,
   "metadata": {
    "collapsed": false,
    "scrolled": true,
    "slideshow": {
     "slide_type": "fragment"
    }
   },
   "outputs": [
    {
     "data": {
      "image/png": "[encoded data removed]",
      "text/plain": [
       "plot without title"
      ]
     },
     "metadata": {},
     "output_type": "display_data"
    }
   ],
   "source": [
    "# figure 10.3\n",
    "x <- seq(0, 2, 0.01)\n",
    "y <- exp(3*x-3)\n",
    "dx <- seq(0, 2, 0.1)\n",
    "dy <- rpois(length(dx), lambda=exp(3*dx-3))\n",
    "plot(x, y, type=\"l\", xlim=c(0, 2), ylim=c(0, 30), tcl=-0.2)\n",
    "points(dx, dy, cex=0.7)"
   ]
  },
  {
   "cell_type": "markdown",
   "metadata": {
    "slideshow": {
     "slide_type": "fragment"
    }
   },
   "source": [
    "従来は、このデータに通常の直線回帰を適用した例がみられたこともあったが、負の$y$の値も考慮されたモデルであり、分散も一定であるため、**モデルの適用としては誤り**である\n",
    "\n",
    "よって、負には決してならないポアソン分布を使って、上限のないカウントデータ（0以上の自然数）に対してGLMでポアソン回帰を実行し、モデルを適合させる必要がある"
   ]
  },
  {
   "cell_type": "markdown",
   "metadata": {
    "slideshow": {
     "slide_type": "subslide"
    }
   },
   "source": [
    "たとえば、体重が$x_i$ある母ブタの個体$i$の1腹の産仔数$y_i$は、体重$x_i$によって決まる産仔数平均値$\\lambda_i$のポアソン分布に従うことが考えられる\n",
    "\n",
    "$$P(y_i|\\lambda_i)=\\frac{\\lambda_i^{y_i}}{y_i!}e^{-\\lambda_i}$$\n",
    "\n",
    "体重が$x_i$である母ブタの個体$i$の産仔数$y_i$は、産仔数平均値$\\lambda_i$で決まるポアソン分布に従う事象（0以上の整数）、ということ"
   ]
  },
  {
   "cell_type": "markdown",
   "metadata": {
    "slideshow": {
     "slide_type": "fragment"
    }
   },
   "source": [
    "ここで線形予測子とポアソン分布のパラメーターの関係を以下のようにしてみる\n",
    "\n",
    "$$\\lambda_i=exp(\\beta_0+\\beta_1x_i)$$\n",
    "\n",
    "両辺で対数をとると、以下のようになる\n",
    "\n",
    "$$\\log\\lambda_i=\\beta_0+\\beta_1x_i$$\n",
    "\n",
    "右辺は線形予測子、左辺は対数リンク関数\n",
    "\n",
    "要点をまとめると・・・表10.1（教科書）"
   ]
  },
  {
   "cell_type": "markdown",
   "metadata": {
    "slideshow": {
     "slide_type": "slide"
    }
   },
   "source": [
    "## 10・4　ロジスティック回帰の例\n",
    "\n",
    "ある害虫種に対して殺虫剤を噴霧するとき、その濃度の効果を調べた架空のデータ"
   ]
  },
  {
   "cell_type": "code",
   "execution_count": 61,
   "metadata": {
    "collapsed": false,
    "scrolled": true,
    "slideshow": {
     "slide_type": "fragment"
    }
   },
   "outputs": [
    {
     "data": {
      "text/html": [
       "<table>\n",
       "<thead><tr><th scope=col>dose</th><th scope=col>dead</th><th scope=col>live</th></tr></thead>\n",
       "<tbody>\n",
       "\t<tr><td>1.0</td><td>0  </td><td>1  </td></tr>\n",
       "\t<tr><td>1.3</td><td>0  </td><td>1  </td></tr>\n",
       "\t<tr><td>1.7</td><td>0  </td><td>1  </td></tr>\n",
       "\t<tr><td>2.2</td><td>0  </td><td>1  </td></tr>\n",
       "\t<tr><td>2.4</td><td>0  </td><td>1  </td></tr>\n",
       "\t<tr><td>2.8</td><td>0  </td><td>1  </td></tr>\n",
       "\t<tr><td>3.1</td><td>1  </td><td>0  </td></tr>\n",
       "\t<tr><td>3.5</td><td>1  </td><td>0  </td></tr>\n",
       "\t<tr><td>3.7</td><td>0  </td><td>1  </td></tr>\n",
       "\t<tr><td>4.2</td><td>0  </td><td>1  </td></tr>\n",
       "\t<tr><td>4.5</td><td>1  </td><td>0  </td></tr>\n",
       "\t<tr><td>4.7</td><td>0  </td><td>1  </td></tr>\n",
       "\t<tr><td>4.9</td><td>1  </td><td>0  </td></tr>\n",
       "\t<tr><td>5.1</td><td>1  </td><td>0  </td></tr>\n",
       "\t<tr><td>5.4</td><td>1  </td><td>0  </td></tr>\n",
       "\t<tr><td>5.7</td><td>1  </td><td>0  </td></tr>\n",
       "\t<tr><td>6.0</td><td>1  </td><td>0  </td></tr>\n",
       "</tbody>\n",
       "</table>\n"
      ],
      "text/latex": [
       "\\begin{tabular}{r|lll}\n",
       " dose & dead & live\\\\\n",
       "\\hline\n",
       "\t 1.0 & 0   & 1  \\\\\n",
       "\t 1.3 & 0   & 1  \\\\\n",
       "\t 1.7 & 0   & 1  \\\\\n",
       "\t 2.2 & 0   & 1  \\\\\n",
       "\t 2.4 & 0   & 1  \\\\\n",
       "\t 2.8 & 0   & 1  \\\\\n",
       "\t 3.1 & 1   & 0  \\\\\n",
       "\t 3.5 & 1   & 0  \\\\\n",
       "\t 3.7 & 0   & 1  \\\\\n",
       "\t 4.2 & 0   & 1  \\\\\n",
       "\t 4.5 & 1   & 0  \\\\\n",
       "\t 4.7 & 0   & 1  \\\\\n",
       "\t 4.9 & 1   & 0  \\\\\n",
       "\t 5.1 & 1   & 0  \\\\\n",
       "\t 5.4 & 1   & 0  \\\\\n",
       "\t 5.7 & 1   & 0  \\\\\n",
       "\t 6.0 & 1   & 0  \\\\\n",
       "\\end{tabular}\n"
      ],
      "text/plain": [
       "   dose dead live\n",
       "1  1.0  0    1   \n",
       "2  1.3  0    1   \n",
       "3  1.7  0    1   \n",
       "4  2.2  0    1   \n",
       "5  2.4  0    1   \n",
       "6  2.8  0    1   \n",
       "7  3.1  1    0   \n",
       "8  3.5  1    0   \n",
       "9  3.7  0    1   \n",
       "10 4.2  0    1   \n",
       "11 4.5  1    0   \n",
       "12 4.7  0    1   \n",
       "13 4.9  1    0   \n",
       "14 5.1  1    0   \n",
       "15 5.4  1    0   \n",
       "16 5.7  1    0   \n",
       "17 6.0  1    0   "
      ]
     },
     "metadata": {},
     "output_type": "display_data"
    }
   ],
   "source": [
    "(d <- read.csv(\"table10-2.csv\"))"
   ]
  },
  {
   "cell_type": "markdown",
   "metadata": {
    "slideshow": {
     "slide_type": "fragment"
    }
   },
   "source": [
    ">dose：殺虫剤濃度  \n",
    ">dead：死亡（1）  \n",
    ">live：生存（2）\n",
    "\n",
    "濃度が上がるにつれて、縦軸の死亡率が高まる傾向"
   ]
  },
  {
   "cell_type": "markdown",
   "metadata": {
    "slideshow": {
     "slide_type": "subslide"
    }
   },
   "source": [
    "二項分布を仮定したロジスティック回帰を実施してみる"
   ]
  },
  {
   "cell_type": "code",
   "execution_count": 62,
   "metadata": {
    "collapsed": false,
    "scrolled": true,
    "slideshow": {
     "slide_type": "fragment"
    }
   },
   "outputs": [
    {
     "data": {
      "text/plain": [
       "\n",
       "Call:\n",
       "glm(formula = cbind(d$dead, d$live) ~ d$dose, family = binomial(logit))\n",
       "\n",
       "Deviance Residuals: \n",
       "   Min      1Q  Median      3Q     Max  \n",
       "-1.700  -0.466  -0.173   0.564   1.687  \n",
       "\n",
       "Coefficients:\n",
       "            Estimate Std. Error z value Pr(>|z|)  \n",
       "(Intercept)   -5.650      2.663   -2.12    0.034 *\n",
       "d$dose         1.452      0.653    2.22    0.026 *\n",
       "---\n",
       "Signif. codes:  0 '***' 0.001 '**' 0.01 '*' 0.05 '.' 0.1 ' ' 1\n",
       "\n",
       "(Dispersion parameter for binomial family taken to be 1)\n",
       "\n",
       "    Null deviance: 23.508  on 16  degrees of freedom\n",
       "Residual deviance: 13.564  on 15  degrees of freedom\n",
       "AIC: 17.56\n",
       "\n",
       "Number of Fisher Scoring iterations: 5\n"
      ]
     },
     "metadata": {},
     "output_type": "display_data"
    }
   ],
   "source": [
    "result <- glm(cbind(d$dead, d$live) ~ d$dose, family=binomial(logit))\n",
    "(summary(result) -> sresult)"
   ]
  },
  {
   "cell_type": "markdown",
   "metadata": {
    "slideshow": {
     "slide_type": "fragment"
    }
   },
   "source": [
    "切片$\\beta_0$"
   ]
  },
  {
   "cell_type": "code",
   "execution_count": 63,
   "metadata": {
    "collapsed": false,
    "slideshow": {
     "slide_type": "fragment"
    }
   },
   "outputs": [
    {
     "data": {
      "text/html": [
       "-5.64999003540222"
      ],
      "text/latex": [
       "-5.64999003540222"
      ],
      "text/markdown": [
       "-5.64999003540222"
      ],
      "text/plain": [
       "[1] -5.65"
      ]
     },
     "metadata": {},
     "output_type": "display_data"
    }
   ],
   "source": [
    "sresult$coefficients[1,1]"
   ]
  },
  {
   "cell_type": "markdown",
   "metadata": {
    "slideshow": {
     "slide_type": "fragment"
    }
   },
   "source": [
    "傾き$\\beta_1$"
   ]
  },
  {
   "cell_type": "code",
   "execution_count": 64,
   "metadata": {
    "collapsed": false,
    "scrolled": true,
    "slideshow": {
     "slide_type": "fragment"
    }
   },
   "outputs": [
    {
     "data": {
      "text/html": [
       "1.45236254100564"
      ],
      "text/latex": [
       "1.45236254100564"
      ],
      "text/markdown": [
       "1.45236254100564"
      ],
      "text/plain": [
       "[1] 1.452"
      ]
     },
     "metadata": {},
     "output_type": "display_data"
    }
   ],
   "source": [
    "sresult$coefficients[2,1]"
   ]
  },
  {
   "cell_type": "markdown",
   "metadata": {
    "slideshow": {
     "slide_type": "fragment"
    }
   },
   "source": [
    "切片$\\beta_0$の有意確率"
   ]
  },
  {
   "cell_type": "code",
   "execution_count": 65,
   "metadata": {
    "collapsed": false,
    "scrolled": true,
    "slideshow": {
     "slide_type": "fragment"
    }
   },
   "outputs": [
    {
     "data": {
      "text/html": [
       "0.0338676824574257"
      ],
      "text/latex": [
       "0.0338676824574257"
      ],
      "text/markdown": [
       "0.0338676824574257"
      ],
      "text/plain": [
       "[1] 0.03387"
      ]
     },
     "metadata": {},
     "output_type": "display_data"
    }
   ],
   "source": [
    "sresult$coefficients[1,4]"
   ]
  },
  {
   "cell_type": "markdown",
   "metadata": {
    "slideshow": {
     "slide_type": "fragment"
    }
   },
   "source": [
    "傾き$\\beta_1$の有意確率"
   ]
  },
  {
   "cell_type": "code",
   "execution_count": 66,
   "metadata": {
    "collapsed": false,
    "scrolled": false,
    "slideshow": {
     "slide_type": "fragment"
    }
   },
   "outputs": [
    {
     "data": {
      "text/html": [
       "0.0261040518091025"
      ],
      "text/latex": [
       "0.0261040518091025"
      ],
      "text/markdown": [
       "0.0261040518091025"
      ],
      "text/plain": [
       "[1] 0.0261"
      ]
     },
     "metadata": {},
     "output_type": "display_data"
    }
   ],
   "source": [
    "sresult$coefficients[2,4]"
   ]
  },
  {
   "cell_type": "markdown",
   "metadata": {
    "slideshow": {
     "slide_type": "subslide"
    }
   },
   "source": [
    "このロジスティック回帰の曲線を描く"
   ]
  },
  {
   "cell_type": "code",
   "execution_count": 67,
   "metadata": {
    "collapsed": false,
    "slideshow": {
     "slide_type": "fragment"
    }
   },
   "outputs": [
    {
     "data": {
      "image/png": "[encoded data removed]",
      "text/plain": [
       "plot without title"
      ]
     },
     "metadata": {},
     "output_type": "display_data"
    }
   ],
   "source": [
    "# figure 10.4\n",
    "plot(d$dead ~ d$dose, xlab=\"dose\", ylab=\"dead\", xlim=c(1, 6), ylim=c(0, 1), cex=0.7)\n",
    "pred.dose <- seq(0, 7.0, 0.01)\n",
    "pred.dead <- 1/(1+exp(-(result$coefficient[1] + result$coefficient[2]*pred.dose)))\n",
    "lines(pred.dose, pred.dead, lwd=2, col=\"grey\")"
   ]
  },
  {
   "cell_type": "markdown",
   "metadata": {
    "slideshow": {
     "slide_type": "slide"
    }
   },
   "source": [
    "## 10・5　ポアソン回帰の例\n",
    "\n",
    "ポアソン回帰の例として、ある園芸植物$M$の球根の重さと春になって咲いた花の数を考えてみる"
   ]
  },
  {
   "cell_type": "code",
   "execution_count": 68,
   "metadata": {
    "collapsed": false,
    "scrolled": true,
    "slideshow": {
     "slide_type": "fragment"
    }
   },
   "outputs": [
    {
     "data": {
      "text/html": [
       "<table>\n",
       "<thead><tr><th scope=col>wt</th><th scope=col>flw</th></tr></thead>\n",
       "<tbody>\n",
       "\t<tr><td>17.3</td><td>1   </td></tr>\n",
       "\t<tr><td>18.5</td><td>2   </td></tr>\n",
       "\t<tr><td>20.5</td><td>0   </td></tr>\n",
       "\t<tr><td>21.2</td><td>3   </td></tr>\n",
       "\t<tr><td>20.8</td><td>0   </td></tr>\n",
       "\t<tr><td>21.5</td><td>1   </td></tr>\n",
       "\t<tr><td>22.1</td><td>1   </td></tr>\n",
       "\t<tr><td>22.7</td><td>0   </td></tr>\n",
       "\t<tr><td>22.6</td><td>3   </td></tr>\n",
       "\t<tr><td>23.3</td><td>1   </td></tr>\n",
       "\t<tr><td>23.6</td><td>2   </td></tr>\n",
       "\t<tr><td>23.5</td><td>3   </td></tr>\n",
       "\t<tr><td>24.0</td><td>4   </td></tr>\n",
       "\t<tr><td>24.4</td><td>5   </td></tr>\n",
       "\t<tr><td>24.7</td><td>1   </td></tr>\n",
       "\t<tr><td>25.1</td><td>2   </td></tr>\n",
       "\t<tr><td>25.9</td><td>4   </td></tr>\n",
       "\t<tr><td>26.4</td><td>3   </td></tr>\n",
       "\t<tr><td>27.2</td><td>5   </td></tr>\n",
       "\t<tr><td>27.4</td><td>6   </td></tr>\n",
       "\t<tr><td>27.8</td><td>7   </td></tr>\n",
       "\t<tr><td>28.2</td><td>3   </td></tr>\n",
       "\t<tr><td>28.8</td><td>2   </td></tr>\n",
       "\t<tr><td>29.1</td><td>4   </td></tr>\n",
       "\t<tr><td>29.3</td><td>7   </td></tr>\n",
       "\t<tr><td>29.7</td><td>6   </td></tr>\n",
       "\t<tr><td>30.2</td><td>6   </td></tr>\n",
       "\t<tr><td>30.3</td><td>2   </td></tr>\n",
       "\t<tr><td>30.6</td><td>7   </td></tr>\n",
       "\t<tr><td>30.9</td><td>8   </td></tr>\n",
       "\t<tr><td>31.5</td><td>7   </td></tr>\n",
       "\t<tr><td>31.8</td><td>4   </td></tr>\n",
       "\t<tr><td>32.8</td><td>3   </td></tr>\n",
       "\t<tr><td>33.1</td><td>4   </td></tr>\n",
       "\t<tr><td>33.7</td><td>6   </td></tr>\n",
       "\t<tr><td>34.5</td><td>8   </td></tr>\n",
       "\t<tr><td>35.2</td><td>4   </td></tr>\n",
       "\t<tr><td>35.7</td><td>7   </td></tr>\n",
       "\t<tr><td>35.9</td><td>6   </td></tr>\n",
       "\t<tr><td>36.1</td><td>5   </td></tr>\n",
       "\t<tr><td>36.4</td><td>9   </td></tr>\n",
       "\t<tr><td>36.8</td><td>4   </td></tr>\n",
       "</tbody>\n",
       "</table>\n"
      ],
      "text/latex": [
       "\\begin{tabular}{r|ll}\n",
       " wt & flw\\\\\n",
       "\\hline\n",
       "\t 17.3 & 1   \\\\\n",
       "\t 18.5 & 2   \\\\\n",
       "\t 20.5 & 0   \\\\\n",
       "\t 21.2 & 3   \\\\\n",
       "\t 20.8 & 0   \\\\\n",
       "\t 21.5 & 1   \\\\\n",
       "\t 22.1 & 1   \\\\\n",
       "\t 22.7 & 0   \\\\\n",
       "\t 22.6 & 3   \\\\\n",
       "\t 23.3 & 1   \\\\\n",
       "\t 23.6 & 2   \\\\\n",
       "\t 23.5 & 3   \\\\\n",
       "\t 24.0 & 4   \\\\\n",
       "\t 24.4 & 5   \\\\\n",
       "\t 24.7 & 1   \\\\\n",
       "\t 25.1 & 2   \\\\\n",
       "\t 25.9 & 4   \\\\\n",
       "\t 26.4 & 3   \\\\\n",
       "\t 27.2 & 5   \\\\\n",
       "\t 27.4 & 6   \\\\\n",
       "\t 27.8 & 7   \\\\\n",
       "\t 28.2 & 3   \\\\\n",
       "\t 28.8 & 2   \\\\\n",
       "\t 29.1 & 4   \\\\\n",
       "\t 29.3 & 7   \\\\\n",
       "\t 29.7 & 6   \\\\\n",
       "\t 30.2 & 6   \\\\\n",
       "\t 30.3 & 2   \\\\\n",
       "\t 30.6 & 7   \\\\\n",
       "\t 30.9 & 8   \\\\\n",
       "\t 31.5 & 7   \\\\\n",
       "\t 31.8 & 4   \\\\\n",
       "\t 32.8 & 3   \\\\\n",
       "\t 33.1 & 4   \\\\\n",
       "\t 33.7 & 6   \\\\\n",
       "\t 34.5 & 8   \\\\\n",
       "\t 35.2 & 4   \\\\\n",
       "\t 35.7 & 7   \\\\\n",
       "\t 35.9 & 6   \\\\\n",
       "\t 36.1 & 5   \\\\\n",
       "\t 36.4 & 9   \\\\\n",
       "\t 36.8 & 4   \\\\\n",
       "\\end{tabular}\n"
      ],
      "text/plain": [
       "   wt   flw\n",
       "1  17.3 1  \n",
       "2  18.5 2  \n",
       "3  20.5 0  \n",
       "4  21.2 3  \n",
       "5  20.8 0  \n",
       "6  21.5 1  \n",
       "7  22.1 1  \n",
       "8  22.7 0  \n",
       "9  22.6 3  \n",
       "10 23.3 1  \n",
       "11 23.6 2  \n",
       "12 23.5 3  \n",
       "13 24.0 4  \n",
       "14 24.4 5  \n",
       "15 24.7 1  \n",
       "16 25.1 2  \n",
       "17 25.9 4  \n",
       "18 26.4 3  \n",
       "19 27.2 5  \n",
       "20 27.4 6  \n",
       "21 27.8 7  \n",
       "22 28.2 3  \n",
       "23 28.8 2  \n",
       "24 29.1 4  \n",
       "25 29.3 7  \n",
       "26 29.7 6  \n",
       "27 30.2 6  \n",
       "28 30.3 2  \n",
       "29 30.6 7  \n",
       "30 30.9 8  \n",
       "31 31.5 7  \n",
       "32 31.8 4  \n",
       "33 32.8 3  \n",
       "34 33.1 4  \n",
       "35 33.7 6  \n",
       "36 34.5 8  \n",
       "37 35.2 4  \n",
       "38 35.7 7  \n",
       "39 35.9 6  \n",
       "40 36.1 5  \n",
       "41 36.4 9  \n",
       "42 36.8 4  "
      ]
     },
     "metadata": {},
     "output_type": "display_data"
    }
   ],
   "source": [
    "(d <- read.csv(\"table10-3.csv\"))"
   ]
  },
  {
   "cell_type": "markdown",
   "metadata": {
    "slideshow": {
     "slide_type": "subslide"
    }
   },
   "source": [
    "このデータにポアソン回帰を実行し、最も適合する曲線を描く"
   ]
  },
  {
   "cell_type": "code",
   "execution_count": 69,
   "metadata": {
    "collapsed": false,
    "scrolled": true,
    "slideshow": {
     "slide_type": "fragment"
    }
   },
   "outputs": [
    {
     "data": {
      "text/plain": [
       "\n",
       "Call:\n",
       "glm(formula = d$flw ~ d$wt, family = poisson)\n",
       "\n",
       "Deviance Residuals: \n",
       "    Min       1Q   Median       3Q      Max  \n",
       "-2.1598  -0.9020  -0.0429   0.7283   1.6042  \n",
       "\n",
       "Coefficients:\n",
       "            Estimate Std. Error z value Pr(>|z|)    \n",
       "(Intercept)  -1.0434     0.4707   -2.22    0.027 *  \n",
       "d$wt          0.0833     0.0154    5.41  6.4e-08 ***\n",
       "---\n",
       "Signif. codes:  0 '***' 0.001 '**' 0.01 '*' 0.05 '.' 0.1 ' ' 1\n",
       "\n",
       "(Dispersion parameter for poisson family taken to be 1)\n",
       "\n",
       "    Null deviance: 72.866  on 41  degrees of freedom\n",
       "Residual deviance: 42.115  on 40  degrees of freedom\n",
       "AIC: 169.7\n",
       "\n",
       "Number of Fisher Scoring iterations: 5\n"
      ]
     },
     "metadata": {},
     "output_type": "display_data"
    },
    {
     "data": {
      "image/png": "[encoded data removed]",
      "text/plain": [
       "plot without title"
      ]
     },
     "metadata": {},
     "output_type": "display_data"
    }
   ],
   "source": [
    "result <-glm(d$flw ~ d$wt, family=poisson)\n",
    "(summary(result) -> sresult)\n",
    "\n",
    "# figure 10.5\n",
    "plot(d$wt, d$flw, xlab=\"weight\", ylab=\"number of flowers\", xlim=c(15, 40), ylim=c(0, 10), cex=0.7)\n",
    "x.wt <- seq(12, 45, 0.1)\n",
    "y.flw <- exp(result$coefficient[1]+result$coefficient[2]*x.wt) \n",
    "lines(x.wt, y.flw, col=\"grey\", lwd=2) "
   ]
  },
  {
   "cell_type": "markdown",
   "metadata": {
    "slideshow": {
     "slide_type": "fragment"
    }
   },
   "source": [
    "切片$\\beta_0$"
   ]
  },
  {
   "cell_type": "code",
   "execution_count": 70,
   "metadata": {
    "collapsed": false,
    "slideshow": {
     "slide_type": "fragment"
    }
   },
   "outputs": [
    {
     "data": {
      "text/html": [
       "-1.04344312245972"
      ],
      "text/latex": [
       "-1.04344312245972"
      ],
      "text/markdown": [
       "-1.04344312245972"
      ],
      "text/plain": [
       "[1] -1.043"
      ]
     },
     "metadata": {},
     "output_type": "display_data"
    }
   ],
   "source": [
    "sresult$coefficients[1,1]"
   ]
  },
  {
   "cell_type": "markdown",
   "metadata": {
    "slideshow": {
     "slide_type": "fragment"
    }
   },
   "source": [
    "傾き$\\beta_1$"
   ]
  },
  {
   "cell_type": "code",
   "execution_count": 71,
   "metadata": {
    "collapsed": false,
    "scrolled": true,
    "slideshow": {
     "slide_type": "fragment"
    }
   },
   "outputs": [
    {
     "data": {
      "text/html": [
       "0.0832748379290865"
      ],
      "text/latex": [
       "0.0832748379290865"
      ],
      "text/markdown": [
       "0.0832748379290865"
      ],
      "text/plain": [
       "[1] 0.08327"
      ]
     },
     "metadata": {},
     "output_type": "display_data"
    }
   ],
   "source": [
    "sresult$coefficients[2,1]"
   ]
  },
  {
   "cell_type": "markdown",
   "metadata": {
    "slideshow": {
     "slide_type": "fragment"
    }
   },
   "source": [
    "切片$\\beta_0$の有意確率"
   ]
  },
  {
   "cell_type": "code",
   "execution_count": 72,
   "metadata": {
    "collapsed": false,
    "scrolled": true,
    "slideshow": {
     "slide_type": "fragment"
    }
   },
   "outputs": [
    {
     "data": {
      "text/html": [
       "0.026625194394015"
      ],
      "text/latex": [
       "0.026625194394015"
      ],
      "text/markdown": [
       "0.026625194394015"
      ],
      "text/plain": [
       "[1] 0.02663"
      ]
     },
     "metadata": {},
     "output_type": "display_data"
    }
   ],
   "source": [
    "sresult$coefficients[1,4]"
   ]
  },
  {
   "cell_type": "markdown",
   "metadata": {
    "slideshow": {
     "slide_type": "fragment"
    }
   },
   "source": [
    "傾き$\\beta_1$の有意確率"
   ]
  },
  {
   "cell_type": "code",
   "execution_count": 73,
   "metadata": {
    "collapsed": false,
    "scrolled": true,
    "slideshow": {
     "slide_type": "fragment"
    }
   },
   "outputs": [
    {
     "data": {
      "text/html": [
       "6.38146300825666e-08"
      ],
      "text/latex": [
       "6.38146300825666e-08"
      ],
      "text/markdown": [
       "6.38146300825666e-08"
      ],
      "text/plain": [
       "[1] 6.381e-08"
      ]
     },
     "metadata": {},
     "output_type": "display_data"
    }
   ],
   "source": [
    "sresult$coefficients[2,4]"
   ]
  },
  {
   "cell_type": "markdown",
   "metadata": {
    "slideshow": {
     "slide_type": "subslide"
    }
   },
   "source": [
    "ただし、過分散を注意しておく\n",
    "\n",
    "[Residual deviance]/[df]の比が1よりもかなり大きければ（1.5以上が目安）過分散となり、1よりもかなり小さければ均等分布となる\n",
    "\n",
    "この例での比"
   ]
  },
  {
   "cell_type": "code",
   "execution_count": 74,
   "metadata": {
    "collapsed": false,
    "slideshow": {
     "slide_type": "fragment"
    }
   },
   "outputs": [
    {
     "data": {
      "text/html": [
       "1.05288216598768"
      ],
      "text/latex": [
       "1.05288216598768"
      ],
      "text/markdown": [
       "1.05288216598768"
      ],
      "text/plain": [
       "[1] 1.053"
      ]
     },
     "metadata": {},
     "output_type": "display_data"
    }
   ],
   "source": [
    "sresult$deviance/sresult$df[2]"
   ]
  },
  {
   "cell_type": "markdown",
   "metadata": {
    "slideshow": {
     "slide_type": "fragment"
    }
   },
   "source": [
    "≒1なのでポアソン回帰を実施してよい"
   ]
  },
  {
   "cell_type": "markdown",
   "metadata": {
    "slideshow": {
     "slide_type": "slide"
    }
   },
   "source": [
    "## 10・6　尤度とは何か？"
   ]
  },
  {
   "cell_type": "markdown",
   "metadata": {
    "slideshow": {
     "slide_type": "fragment"
    }
   },
   "source": [
    "**尤度**（likelihood）という概念を導入する\n",
    "\n",
    "尤度は“尤もらしさ”を定量的に示すもの"
   ]
  },
  {
   "cell_type": "markdown",
   "metadata": {
    "collapsed": true,
    "slideshow": {
     "slide_type": "subslide"
    }
   },
   "source": [
    "仮にポアソン分布で平均値$\\lambda=2$だとして、データが$(y_1, y_2, y_3, y_4)=(2, 2, 3, 4)$が発生する確率を考える\n",
    "\n",
    "その確率は$P(y_1=2|\\lambda=2)\\times P(y_2=2|\\lambda=2)\\times P(y_3=3|\\lambda=2)\\times P(y_4=4|\\lambda=2)$となる"
   ]
  },
  {
   "cell_type": "code",
   "execution_count": 75,
   "metadata": {
    "collapsed": false,
    "slideshow": {
     "slide_type": "skip"
    }
   },
   "outputs": [
    {
     "data": {
      "text/html": [
       "<ol class=list-inline>\n",
       "\t<li>0.135335283236613</li>\n",
       "\t<li>0.270670566473225</li>\n",
       "\t<li>0.270670566473225</li>\n",
       "\t<li>0.180447044315484</li>\n",
       "\t<li>0.0902235221577418</li>\n",
       "\t<li>0.0360894088630967</li>\n",
       "\t<li>0.0120298029543656</li>\n",
       "\t<li>0.00343708655839016</li>\n",
       "\t<li>0.000859271639597541</li>\n",
       "\t<li>0.000190949253243898</li>\n",
       "</ol>\n"
      ],
      "text/latex": [
       "\\begin{enumerate*}\n",
       "\\item 0.135335283236613\n",
       "\\item 0.270670566473225\n",
       "\\item 0.270670566473225\n",
       "\\item 0.180447044315484\n",
       "\\item 0.0902235221577418\n",
       "\\item 0.0360894088630967\n",
       "\\item 0.0120298029543656\n",
       "\\item 0.00343708655839016\n",
       "\\item 0.000859271639597541\n",
       "\\item 0.000190949253243898\n",
       "\\end{enumerate*}\n"
      ],
      "text/markdown": [
       "1. 0.135335283236613\n",
       "2. 0.270670566473225\n",
       "3. 0.270670566473225\n",
       "4. 0.180447044315484\n",
       "5. 0.0902235221577418\n",
       "6. 0.0360894088630967\n",
       "7. 0.0120298029543656\n",
       "8. 0.00343708655839016\n",
       "9. 0.000859271639597541\n",
       "10. 0.000190949253243898\n",
       "\n",
       "\n"
      ],
      "text/plain": [
       " [1] 0.1353353 0.2706706 0.2706706 0.1804470 0.0902235 0.0360894 0.0120298\n",
       " [8] 0.0034371 0.0008593 0.0001909"
      ]
     },
     "metadata": {},
     "output_type": "display_data"
    }
   ],
   "source": [
    "y <- 0:9\n",
    "p <- dpois(y, lambda = 2)\n",
    "options(digits = 4)\n",
    "p"
   ]
  },
  {
   "cell_type": "code",
   "execution_count": 76,
   "metadata": {
    "collapsed": false,
    "slideshow": {
     "slide_type": "fragment"
    }
   },
   "outputs": [
    {
     "data": {
      "text/html": [
       "0.00119275601032004"
      ],
      "text/latex": [
       "0.00119275601032004"
      ],
      "text/markdown": [
       "0.00119275601032004"
      ],
      "text/plain": [
       "[1] 0.001193"
      ]
     },
     "metadata": {},
     "output_type": "display_data"
    }
   ],
   "source": [
    "y <- c(2,2,3,4)\n",
    "prod(dpois(y, lambda =2))"
   ]
  },
  {
   "cell_type": "markdown",
   "metadata": {
    "slideshow": {
     "slide_type": "fragment"
    }
   },
   "source": [
    "これが$(y_1, y_2, y_3, y_4)=(2, 2, 3, 4)$という観測値が得られたときの$\\lambda=2$の尤度である\n",
    "\n",
    "これをいろいろな\\lambdaに関して計算すると、尤度がさまざま得られる\n",
    "\n",
    "われわれが知りたいのは、最もあてはまりがよくなる、すなわち最も尤度が大きくなるパラメーターの値は何か、である"
   ]
  },
  {
   "cell_type": "markdown",
   "metadata": {
    "slideshow": {
     "slide_type": "subslide"
    }
   },
   "source": [
    "一般に、尤度はパラメーターの関数である\n",
    "\n",
    "$$L(\\lambda)=P(y_1|\\lambda)xP(y_2|\\lambda)x……xP(y_{n-1}|\\lambda)xP(y_n|\\lambda)$$\n",
    "$$=\\prod_{i=1}^nP(y_i|\\lambda)=\\prod_{i=1}^n\\frac{\\lambda^{y_i}}{y_i!}e^{-\\lambda}$$"
   ]
  },
  {
   "cell_type": "markdown",
   "metadata": {
    "slideshow": {
     "slide_type": "fragment"
    }
   },
   "source": [
    "この**尤度関数**$L(\\lambda)$は、対数変換することで総和に変換することができる\n",
    "\n",
    "これを**対数尤度**とよぶ\n",
    "\n",
    "$$\\log L(\\lambda)=\\sum_{i=1}^n(y_i\\log \\lambda-\\lambda-\\sum_{k=1}^{y_i}\\log k)$$\n",
    "\n",
    "最大対数尤度をとるパラメーターを求め、パラメーターの最適な推定値とする\n",
    "\n",
    "これを**最尤推定**（maximum likelihood estimation）や**最尤法**（method of maximum likelihood）とよぶ"
   ]
  },
  {
   "cell_type": "markdown",
   "metadata": {
    "slideshow": {
     "slide_type": "subslide"
    }
   },
   "source": [
    "対数尤度をパラメーターで偏微分し、その一次微分$=0$とすることで、最大対数尤度をもたらすパラメーターを求めることになる\n",
    "\n",
    "$$\\frac{\\partial\\log L(\\lambda)}{\\partial\\lambda}=\\sum_{i=1}^n\\left[\\frac{y_i}{\\lambda}-1\\right]=\\frac{1}{\\lambda}\\sum_{i=1}^ny_i-n$$\n",
    "\n",
    "右辺$=0$と置けば、以下となる\n",
    "\n",
    "$$\\hat{\\lambda}=\\frac{1}{n}\\sum_{i=1}^ny_i$$\n",
    "\n",
    "これは$\\hat{\\lambda}=$算術平均にほかならない\n",
    "\n",
    "ポアソン分布の場合の最大対数尤度は標本平均で与えられる\n",
    "\n",
    "$\\hat{\\lambda}$を**最尤推定値**（maximum likelihood estimator）とよぶ"
   ]
  },
  {
   "cell_type": "markdown",
   "metadata": {
    "slideshow": {
     "slide_type": "subslide"
    }
   },
   "source": [
    "まとめると、最尤推定とは、対数尤度を最大にするパラメーター（$\\hat{\\theta}$）を求めることである\n",
    "\n",
    "一般に、データ集合$Y$に基づく尤度は、パラメーターを$\\theta$とすれば以下のように記される\n",
    "\n",
    "$$L(\\theta|Y)==\\prod_{i}^nP(y_i|\\theta)$$\n",
    "\n",
    "対数尤度は\n",
    "\n",
    "$$\\log L(\\theta)==\\sum_{i=1}^n\\log P(y_i|\\theta)$$\n",
    "\n",
    "となる"
   ]
  },
  {
   "cell_type": "markdown",
   "metadata": {
    "slideshow": {
     "slide_type": "subslide"
    }
   },
   "source": [
    "以上の関係を図で説明する"
   ]
  },
  {
   "cell_type": "code",
   "execution_count": 77,
   "metadata": {
    "collapsed": false,
    "slideshow": {
     "slide_type": "fragment"
    }
   },
   "outputs": [
    {
     "data": {
      "image/png": "[encoded data removed]",
      "text/plain": [
       "Plot with title \"\""
      ]
     },
     "metadata": {},
     "output_type": "display_data"
    }
   ],
   "source": [
    "l <- 3\n",
    "d <- rpois(50, lambda=l)\n",
    "hist(d, ylim=c(0, 14), breaks=c(-0.5:8.5), xlab=\"x\", ylab=\"freq.\", main=\"\")"
   ]
  },
  {
   "cell_type": "markdown",
   "metadata": {
    "slideshow": {
     "slide_type": "fragment"
    }
   },
   "source": [
    "ポアソン乱数を使った仮想データセットから描いた頻度分布のデータセット\n",
    "\n",
    "標本平均（$\\bar{X}$）は"
   ]
  },
  {
   "cell_type": "code",
   "execution_count": 78,
   "metadata": {
    "collapsed": false,
    "slideshow": {
     "slide_type": "fragment"
    }
   },
   "outputs": [
    {
     "data": {
      "text/html": [
       "2.98"
      ],
      "text/latex": [
       "2.98"
      ],
      "text/markdown": [
       "2.98"
      ],
      "text/plain": [
       "[1] 2.98"
      ]
     },
     "metadata": {},
     "output_type": "display_data"
    }
   ],
   "source": [
    "mean(d)"
   ]
  },
  {
   "cell_type": "markdown",
   "metadata": {
    "slideshow": {
     "slide_type": "subslide"
    }
   },
   "source": [
    "これに、さまざまな平均値パラメーター$\\lambda$のポアソン分布を適合すると、\n",
    "\n",
    "$\\lambda=2……\\log L=$"
   ]
  },
  {
   "cell_type": "code",
   "execution_count": 79,
   "metadata": {
    "collapsed": false,
    "slideshow": {
     "slide_type": "fragment"
    }
   },
   "outputs": [
    {
     "data": {
      "text/html": [
       "-100.568584191804"
      ],
      "text/latex": [
       "-100.568584191804"
      ],
      "text/markdown": [
       "-100.568584191804"
      ],
      "text/plain": [
       "[1] -100.6"
      ]
     },
     "metadata": {},
     "output_type": "display_data"
    }
   ],
   "source": [
    "logL <- function(m) sum(dpois(d, m, log=T))\n",
    "logL(2)"
   ]
  },
  {
   "cell_type": "code",
   "execution_count": 80,
   "metadata": {
    "collapsed": false,
    "scrolled": true,
    "slideshow": {
     "slide_type": "fragment"
    }
   },
   "outputs": [
    {
     "data": {
      "image/png": "[encoded data removed]",
      "text/plain": [
       "Plot with title \"\""
      ]
     },
     "metadata": {},
     "output_type": "display_data"
    }
   ],
   "source": [
    "# figure 10.6 (a)\n",
    "hist(d, ylim=c(0, 14), breaks=c(-0.5:8.5), xlab=\"x\", ylab=\"freq.\", main=\"\")\n",
    "par(new=T)\n",
    "x <- seq(0, 8, 1)\n",
    "y <- 50*dpois(x, lambda=2) \n",
    "plot(x, y, xlab=\"\", ylab=\"\", xlim=c(-0.5, 8.5), ylim=c(0, 14), type=\"o\", col=\"grey\", cex=0.5)"
   ]
  },
  {
   "cell_type": "markdown",
   "metadata": {
    "slideshow": {
     "slide_type": "subslide"
    }
   },
   "source": [
    "$\\lambda=3……\\log L=$"
   ]
  },
  {
   "cell_type": "code",
   "execution_count": 81,
   "metadata": {
    "collapsed": false,
    "slideshow": {
     "slide_type": "fragment"
    }
   },
   "outputs": [
    {
     "data": {
      "text/html": [
       "-90.1542830836875"
      ],
      "text/latex": [
       "-90.1542830836875"
      ],
      "text/markdown": [
       "-90.1542830836875"
      ],
      "text/plain": [
       "[1] -90.15"
      ]
     },
     "metadata": {},
     "output_type": "display_data"
    }
   ],
   "source": [
    "logL(3)"
   ]
  },
  {
   "cell_type": "code",
   "execution_count": 82,
   "metadata": {
    "collapsed": false,
    "scrolled": true,
    "slideshow": {
     "slide_type": "fragment"
    }
   },
   "outputs": [
    {
     "data": {
      "image/png": "[encoded data removed]",
      "text/plain": [
       "Plot with title \"\""
      ]
     },
     "metadata": {},
     "output_type": "display_data"
    }
   ],
   "source": [
    "# figure 10.6 (b)\n",
    "hist(d, ylim=c(0, 14), breaks=c(-0.5:8.5), xlab=\"x\", ylab=\"freq.\", main=\"\")\n",
    "par(new=T)\n",
    "x <- seq(0, 8, 1)\n",
    "y <- 50*dpois(x, lambda=3) \n",
    "plot(x, y, xlab=\"\", ylab=\"\", xlim=c(-0.5, 8.5), ylim=c(0, 14), type=\"o\", col=\"grey\", cex=0.5)"
   ]
  },
  {
   "cell_type": "markdown",
   "metadata": {
    "slideshow": {
     "slide_type": "subslide"
    }
   },
   "source": [
    "$\\lambda=3.5……\\log L=$"
   ]
  },
  {
   "cell_type": "code",
   "execution_count": 83,
   "metadata": {
    "collapsed": false,
    "slideshow": {
     "slide_type": "fragment"
    }
   },
   "outputs": [
    {
     "data": {
      "text/html": [
       "-92.185831789426"
      ],
      "text/latex": [
       "-92.185831789426"
      ],
      "text/markdown": [
       "-92.185831789426"
      ],
      "text/plain": [
       "[1] -92.19"
      ]
     },
     "metadata": {},
     "output_type": "display_data"
    }
   ],
   "source": [
    "logL(3.5)"
   ]
  },
  {
   "cell_type": "code",
   "execution_count": 84,
   "metadata": {
    "collapsed": false,
    "scrolled": true,
    "slideshow": {
     "slide_type": "fragment"
    }
   },
   "outputs": [
    {
     "data": {
      "image/png": "[encoded data removed]",
      "text/plain": [
       "Plot with title \"\""
      ]
     },
     "metadata": {},
     "output_type": "display_data"
    }
   ],
   "source": [
    "# figure 10.6 (c)\n",
    "hist(d, ylim=c(0, 14), breaks=c(-0.5:8.5), xlab=\"x\", ylab=\"freq.\", main=\"\")\n",
    "par(new=T)\n",
    "x <- seq(0, 8, 1)\n",
    "y <- 50*dpois(x, lambda=3.5) \n",
    "plot(x, y, xlab=\"\", ylab=\"\", xlim=c(-0.5, 8.5), ylim=c(0, 14), type=\"o\", col=\"grey\", cex=0.5)"
   ]
  },
  {
   "cell_type": "markdown",
   "metadata": {
    "slideshow": {
     "slide_type": "subslide"
    }
   },
   "source": [
    "$\\lambda=4……\\log L=$"
   ]
  },
  {
   "cell_type": "code",
   "execution_count": 85,
   "metadata": {
    "collapsed": false,
    "slideshow": {
     "slide_type": "fragment"
    }
   },
   "outputs": [
    {
     "data": {
      "text/html": [
       "-97.2896542883721"
      ],
      "text/latex": [
       "-97.2896542883721"
      ],
      "text/markdown": [
       "-97.2896542883721"
      ],
      "text/plain": [
       "[1] -97.29"
      ]
     },
     "metadata": {},
     "output_type": "display_data"
    }
   ],
   "source": [
    "logL(4)"
   ]
  },
  {
   "cell_type": "code",
   "execution_count": 86,
   "metadata": {
    "collapsed": false,
    "scrolled": true,
    "slideshow": {
     "slide_type": "fragment"
    }
   },
   "outputs": [
    {
     "data": {
      "image/png": "[encoded data removed]",
      "text/plain": [
       "Plot with title \"\""
      ]
     },
     "metadata": {},
     "output_type": "display_data"
    }
   ],
   "source": [
    "# figure 10.6 (d)\n",
    "hist(d, ylim=c(0, 14), breaks=c(-0.5:8.5), xlab=\"x\", ylab=\"freq.\", main=\"\")\n",
    "par(new=T)\n",
    "x <- seq(0, 8, 1)\n",
    "y <- 50*dpois(x, lambda=4) \n",
    "plot(x, y, xlab=\"\", ylab=\"\", xlim=c(-0.5,8.5), ylim=c(0, 14), type=\"o\", col=\"grey\", cex=0.5)"
   ]
  },
  {
   "cell_type": "code",
   "execution_count": 87,
   "metadata": {
    "collapsed": false,
    "scrolled": true,
    "slideshow": {
     "slide_type": "subslide"
    }
   },
   "outputs": [
    {
     "data": {
      "image/png": "[encoded data removed]",
      "text/plain": [
       "plot without title"
      ]
     },
     "metadata": {},
     "output_type": "display_data"
    }
   ],
   "source": [
    "# figure 10.7 \n",
    "lambda <- seq(2, 5, 0.1)\n",
    "plot(lambda, sapply(lambda, logL), type=\"l\", xlim=c(2, 5), xlab=\"lambda\", ylab=\"logL\")"
   ]
  },
  {
   "cell_type": "markdown",
   "metadata": {
    "slideshow": {
     "slide_type": "fragment"
    }
   },
   "source": [
    "標本平均$\\bar{X}$にぴったりの$\\lambda$のときに、対数尤度が最大値になっている\n",
    "\n",
    "尤度の最大化に基づいて標本のデータセットから目的のパラメーターを推定するのが、最尤推定法の原理"
   ]
  },
  {
   "cell_type": "markdown",
   "metadata": {
    "slideshow": {
     "slide_type": "slide"
    }
   },
   "source": [
    "## 10・7　赤池の情報量基準（AIC）\n",
    "\n",
    "AICは赤池情報量基準（Akaike's information criteria）とよばれるもの\n",
    "\n",
    "赤池弘次によって考案されたモデル選択の基準であり、いまは世界中で使われている"
   ]
  },
  {
   "cell_type": "markdown",
   "metadata": {
    "slideshow": {
     "slide_type": "subslide"
    }
   },
   "source": [
    "定義\n",
    "\n",
    "$$AIC=-2*最大対数尤度+2*最尤推定した自由パラメーターの個数$$\n",
    "\n",
    "AICを小さくするモデルを“よいモデル”と考える"
   ]
  },
  {
   "cell_type": "markdown",
   "metadata": {
    "slideshow": {
     "slide_type": "subslide"
    }
   },
   "source": [
    "モデル適合度を最大対数尤度として調べるには、logLik()関数を用いる\n",
    "\n",
    "殺虫剤のロジスティック回帰の場合"
   ]
  },
  {
   "cell_type": "code",
   "execution_count": 88,
   "metadata": {
    "collapsed": false,
    "scrolled": true,
    "slideshow": {
     "slide_type": "fragment"
    }
   },
   "outputs": [
    {
     "data": {
      "text/plain": [
       "'log Lik.' -6.782 (df=2)"
      ]
     },
     "metadata": {},
     "output_type": "display_data"
    }
   ],
   "source": [
    "d <- read.csv(\"table10-2.csv\")\n",
    "result <- glm(cbind(d$dead, d$live) ~ d$dose, family=binomial(logit))\n",
    "summary(result) -> sresult\n",
    "logLik(result)"
   ]
  },
  {
   "cell_type": "markdown",
   "metadata": {
    "slideshow": {
     "slide_type": "fragment"
    }
   },
   "source": [
    "ここからAICを計算"
   ]
  },
  {
   "cell_type": "code",
   "execution_count": 89,
   "metadata": {
    "collapsed": false,
    "scrolled": true,
    "slideshow": {
     "slide_type": "fragment"
    }
   },
   "outputs": [
    {
     "data": {
      "text/html": [
       "17.5635983288033"
      ],
      "text/latex": [
       "17.5635983288033"
      ],
      "text/markdown": [
       "17.5635983288033"
      ],
      "text/plain": [
       "[1] 17.56"
      ]
     },
     "metadata": {},
     "output_type": "display_data"
    }
   ],
   "source": [
    "-2*logLik(result)[1]+2*sresult$df[1]"
   ]
  },
  {
   "cell_type": "markdown",
   "metadata": {
    "slideshow": {
     "slide_type": "subslide"
    }
   },
   "source": [
    "園芸植物のポアソン回帰の場合"
   ]
  },
  {
   "cell_type": "code",
   "execution_count": 90,
   "metadata": {
    "collapsed": false,
    "slideshow": {
     "slide_type": "fragment"
    }
   },
   "outputs": [
    {
     "data": {
      "text/plain": [
       "'log Lik.' -82.85 (df=2)"
      ]
     },
     "metadata": {},
     "output_type": "display_data"
    }
   ],
   "source": [
    "d <- read.csv(\"table10-3.csv\")\n",
    "result <-glm(d$flw ~ d$wt, family=poisson)\n",
    "summary(result) -> sresult\n",
    "logLik(result)"
   ]
  },
  {
   "cell_type": "markdown",
   "metadata": {
    "slideshow": {
     "slide_type": "fragment"
    }
   },
   "source": [
    "AICを計算"
   ]
  },
  {
   "cell_type": "code",
   "execution_count": 91,
   "metadata": {
    "collapsed": false,
    "scrolled": false,
    "slideshow": {
     "slide_type": "fragment"
    }
   },
   "outputs": [
    {
     "data": {
      "text/html": [
       "169.691710546956"
      ],
      "text/latex": [
       "169.691710546956"
      ],
      "text/markdown": [
       "169.691710546956"
      ],
      "text/plain": [
       "[1] 169.7"
      ]
     },
     "metadata": {},
     "output_type": "display_data"
    }
   ],
   "source": [
    "-2*logLik(result)[1]+2*sresult$df[1]"
   ]
  },
  {
   "cell_type": "markdown",
   "metadata": {
    "slideshow": {
     "slide_type": "subslide"
    }
   },
   "source": [
    "データの当てはまりがよくても、モデルを構成するパラメーター数が多いと、一般的な予測性（汎用性とよぶ）が落ち、AICが大きくなってしまうので、よいモデルではありえない"
   ]
  },
  {
   "cell_type": "markdown",
   "metadata": {
    "slideshow": {
     "slide_type": "slide"
    }
   },
   "source": [
    "## 10・8　逸脱度、残差逸脱度、最大逸脱度"
   ]
  },
  {
   "cell_type": "markdown",
   "metadata": {
    "slideshow": {
     "slide_type": "fragment"
    }
   },
   "source": [
    "**逸脱度**（deviance）\n",
    "\n",
    "最大対数尤度を$L^*$とすれば、逸脱度$D$は\n",
    "\n",
    "$$D=-2\\log L^*$$\n",
    "\n",
    "逸脱度は“あてはまりの悪さ”といえる"
   ]
  },
  {
   "cell_type": "markdown",
   "metadata": {
    "slideshow": {
     "slide_type": "fragment"
    }
   },
   "source": [
    "**ナル逸脱度**（null deviance）\n",
    "\n",
    "**残差逸脱度**（residual deviance）\n",
    "\n",
    "表10.4、図10.8参照（教科書）"
   ]
  },
  {
   "cell_type": "markdown",
   "metadata": {
    "slideshow": {
     "slide_type": "subslide"
    }
   },
   "source": [
    "最小逸脱度は個々のデータを$\\lambda_i$としてすべて当てはめたもので、フルモデルとよぶ  \n",
    "他のどんなモデルよりも最大の対数尤度を発揮する\n",
    "\n",
    "フルモデルの最大対数尤度"
   ]
  },
  {
   "cell_type": "code",
   "execution_count": 92,
   "metadata": {
    "collapsed": false,
    "scrolled": false,
    "slideshow": {
     "slide_type": "fragment"
    }
   },
   "outputs": [
    {
     "data": {
      "text/html": [
       "-61.7882119537245"
      ],
      "text/latex": [
       "-61.7882119537245"
      ],
      "text/markdown": [
       "-61.7882119537245"
      ],
      "text/plain": [
       "[1] -61.79"
      ]
     },
     "metadata": {},
     "output_type": "display_data"
    }
   ],
   "source": [
    "sum(log(dpois(d$flw, lambda = d$flw)))"
   ]
  },
  {
   "cell_type": "markdown",
   "metadata": {
    "slideshow": {
     "slide_type": "fragment"
    }
   },
   "source": [
    "この$D$に$-2$をかけると最小逸脱度"
   ]
  },
  {
   "cell_type": "code",
   "execution_count": 93,
   "metadata": {
    "collapsed": false,
    "scrolled": true,
    "slideshow": {
     "slide_type": "fragment"
    }
   },
   "outputs": [
    {
     "data": {
      "text/html": [
       "123.576423907449"
      ],
      "text/latex": [
       "123.576423907449"
      ],
      "text/markdown": [
       "123.576423907449"
      ],
      "text/plain": [
       "[1] 123.6"
      ]
     },
     "metadata": {},
     "output_type": "display_data"
    }
   ],
   "source": [
    "-2*sum(log(dpois(d$flw, lambda = d$flw)))"
   ]
  },
  {
   "cell_type": "markdown",
   "metadata": {
    "slideshow": {
     "slide_type": "subslide"
    }
   },
   "source": [
    "残差逸脱度は「通常のモデルの逸脱度」-「フルモデルの逸脱度」\n",
    "\n",
    "園芸植物Mの回帰モデルの場合"
   ]
  },
  {
   "cell_type": "code",
   "execution_count": 94,
   "metadata": {
    "collapsed": false,
    "slideshow": {
     "slide_type": "fragment"
    }
   },
   "outputs": [
    {
     "data": {
      "text/html": [
       "42.115286639507"
      ],
      "text/latex": [
       "42.115286639507"
      ],
      "text/markdown": [
       "42.115286639507"
      ],
      "text/plain": [
       "[1] 42.12"
      ]
     },
     "metadata": {},
     "output_type": "display_data"
    }
   ],
   "source": [
    "-2*logLik(result)[1]-(-2*sum(log(dpois(d$flw, lambda = d$flw))))"
   ]
  },
  {
   "cell_type": "markdown",
   "metadata": {
    "slideshow": {
     "slide_type": "subslide"
    }
   },
   "source": [
    "ナル逸脱度はナルモデルの逸脱度を示す\n",
    "\n",
    "ナルモデルは切片だけのモデル"
   ]
  },
  {
   "cell_type": "code",
   "execution_count": 95,
   "metadata": {
    "collapsed": false,
    "scrolled": true,
    "slideshow": {
     "slide_type": "fragment"
    }
   },
   "outputs": [
    {
     "data": {
      "text/plain": [
       "\n",
       "Call:\n",
       "glm(formula = d$flw ~ 1, family = poisson)\n",
       "\n",
       "Deviance Residuals: \n",
       "    Min       1Q   Median       3Q      Max  \n",
       "-2.8115  -1.0863   0.0239   0.9561   2.1719  \n",
       "\n",
       "Coefficients:\n",
       "            Estimate Std. Error z value Pr(>|z|)    \n",
       "(Intercept)   1.3743     0.0776    17.7   <2e-16 ***\n",
       "---\n",
       "Signif. codes:  0 '***' 0.001 '**' 0.01 '*' 0.05 '.' 0.1 ' ' 1\n",
       "\n",
       "(Dispersion parameter for poisson family taken to be 1)\n",
       "\n",
       "    Null deviance: 72.866  on 41  degrees of freedom\n",
       "Residual deviance: 72.866  on 41  degrees of freedom\n",
       "AIC: 198.4\n",
       "\n",
       "Number of Fisher Scoring iterations: 5\n"
      ]
     },
     "metadata": {},
     "output_type": "display_data"
    }
   ],
   "source": [
    "result <- glm(d$flw ~ 1, family = poisson)\n",
    "summary(result)"
   ]
  },
  {
   "cell_type": "markdown",
   "metadata": {
    "slideshow": {
     "slide_type": "subslide"
    }
   },
   "source": [
    "最大逸脱度は"
   ]
  },
  {
   "cell_type": "code",
   "execution_count": 96,
   "metadata": {
    "collapsed": false,
    "slideshow": {
     "slide_type": "fragment"
    }
   },
   "outputs": [
    {
     "data": {
      "text/plain": [
       "'log Lik.' 196.4 (df=1)"
      ]
     },
     "metadata": {},
     "output_type": "display_data"
    }
   ],
   "source": [
    "-2*logLik(result)"
   ]
  },
  {
   "cell_type": "markdown",
   "metadata": {
    "slideshow": {
     "slide_type": "subslide"
    }
   },
   "source": [
    "すべてのデータに沿ったフルモデルのポアソン回帰からの逸脱度の差でみると、切片だけの最大逸脱度（ナル逸脱度）に比べて、植物$M$のポアソン回帰モデルは傾きをもつ分だけ残差逸脱度が小さくなっており、この傾きの効果が大きいほど有意な効果となる"
   ]
  },
  {
   "cell_type": "markdown",
   "metadata": {
    "slideshow": {
     "slide_type": "subslide"
    }
   },
   "source": [
    "**帰無仮説検定を用いた逸脱度にもとづいたモデルの比較法**\n",
    "\n",
    "帰無仮説としてパラメーターが切片だけのモデル（ナルモデル）\n",
    "\n",
    "対立仮説として説明変数を入れた場合のモデル\n",
    "\n",
    "それぞれの逸脱度に注目し、切片だ$P<\\alpha$）のであれば帰無仮説を棄却\n",
    "\n",
    "**尤度比検定**とよぶ\n"
   ]
  },
  {
   "cell_type": "markdown",
   "metadata": {
    "slideshow": {
     "slide_type": "slide"
    }
   },
   "source": [
    "## 10・9　二つ以上の説明変数をもつときのモデル選択：ロジスティック回帰を事例に\n",
    "\n",
    "AICを用いたモデル選択を説明"
   ]
  },
  {
   "cell_type": "markdown",
   "metadata": {
    "slideshow": {
     "slide_type": "subslide"
    }
   },
   "source": [
    "害虫に殺虫剤を4段階の濃度（dose）で噴霧したときの死亡率を、雄と雌で比べる実験\n",
    "\n",
    "生存は0、死亡は1\n",
    "\n",
    "雄は1、雌は2"
   ]
  },
  {
   "cell_type": "code",
   "execution_count": 97,
   "metadata": {
    "collapsed": false,
    "scrolled": true,
    "slideshow": {
     "slide_type": "fragment"
    }
   },
   "outputs": [
    {
     "data": {
      "text/html": [
       "<table>\n",
       "<thead><tr><th scope=col>dose</th><th scope=col>sex</th><th scope=col>y</th></tr></thead>\n",
       "<tbody>\n",
       "\t<tr><td>1</td><td>1</td><td>0</td></tr>\n",
       "\t<tr><td>1</td><td>1</td><td>0</td></tr>\n",
       "\t<tr><td>1</td><td>1</td><td>0</td></tr>\n",
       "\t<tr><td>1</td><td>1</td><td>0</td></tr>\n",
       "\t<tr><td>1</td><td>1</td><td>0</td></tr>\n",
       "\t<tr><td>1</td><td>1</td><td>0</td></tr>\n",
       "\t<tr><td>1</td><td>1</td><td>0</td></tr>\n",
       "\t<tr><td>1</td><td>1</td><td>1</td></tr>\n",
       "\t<tr><td>1</td><td>1</td><td>1</td></tr>\n",
       "\t<tr><td>1</td><td>1</td><td>1</td></tr>\n",
       "\t<tr><td>2</td><td>1</td><td>0</td></tr>\n",
       "\t<tr><td>2</td><td>1</td><td>0</td></tr>\n",
       "\t<tr><td>2</td><td>1</td><td>0</td></tr>\n",
       "\t<tr><td>2</td><td>1</td><td>0</td></tr>\n",
       "\t<tr><td>2</td><td>1</td><td>0</td></tr>\n",
       "\t<tr><td>2</td><td>1</td><td>1</td></tr>\n",
       "\t<tr><td>2</td><td>1</td><td>1</td></tr>\n",
       "\t<tr><td>2</td><td>1</td><td>1</td></tr>\n",
       "\t<tr><td>2</td><td>1</td><td>1</td></tr>\n",
       "\t<tr><td>2</td><td>1</td><td>1</td></tr>\n",
       "\t<tr><td>3</td><td>1</td><td>0</td></tr>\n",
       "\t<tr><td>3</td><td>1</td><td>0</td></tr>\n",
       "\t<tr><td>3</td><td>1</td><td>1</td></tr>\n",
       "\t<tr><td>3</td><td>1</td><td>1</td></tr>\n",
       "\t<tr><td>3</td><td>1</td><td>1</td></tr>\n",
       "\t<tr><td>3</td><td>1</td><td>1</td></tr>\n",
       "\t<tr><td>3</td><td>1</td><td>1</td></tr>\n",
       "\t<tr><td>3</td><td>1</td><td>1</td></tr>\n",
       "\t<tr><td>3</td><td>1</td><td>1</td></tr>\n",
       "\t<tr><td>3</td><td>1</td><td>1</td></tr>\n",
       "\t<tr><td>...</td><td>...</td><td>...</td></tr>\n",
       "\t<tr><td>2</td><td>2</td><td>0</td></tr>\n",
       "\t<tr><td>2</td><td>2</td><td>0</td></tr>\n",
       "\t<tr><td>2</td><td>2</td><td>0</td></tr>\n",
       "\t<tr><td>2</td><td>2</td><td>0</td></tr>\n",
       "\t<tr><td>2</td><td>2</td><td>0</td></tr>\n",
       "\t<tr><td>2</td><td>2</td><td>0</td></tr>\n",
       "\t<tr><td>2</td><td>2</td><td>0</td></tr>\n",
       "\t<tr><td>2</td><td>2</td><td>0</td></tr>\n",
       "\t<tr><td>2</td><td>2</td><td>1</td></tr>\n",
       "\t<tr><td>2</td><td>2</td><td>1</td></tr>\n",
       "\t<tr><td>3</td><td>2</td><td>0</td></tr>\n",
       "\t<tr><td>3</td><td>2</td><td>0</td></tr>\n",
       "\t<tr><td>3</td><td>2</td><td>0</td></tr>\n",
       "\t<tr><td>3</td><td>2</td><td>0</td></tr>\n",
       "\t<tr><td>3</td><td>2</td><td>0</td></tr>\n",
       "\t<tr><td>3</td><td>2</td><td>0</td></tr>\n",
       "\t<tr><td>3</td><td>2</td><td>1</td></tr>\n",
       "\t<tr><td>3</td><td>2</td><td>1</td></tr>\n",
       "\t<tr><td>3</td><td>2</td><td>1</td></tr>\n",
       "\t<tr><td>3</td><td>2</td><td>1</td></tr>\n",
       "\t<tr><td>4</td><td>2</td><td>0</td></tr>\n",
       "\t<tr><td>4</td><td>2</td><td>0</td></tr>\n",
       "\t<tr><td>4</td><td>2</td><td>0</td></tr>\n",
       "\t<tr><td>4</td><td>2</td><td>1</td></tr>\n",
       "\t<tr><td>4</td><td>2</td><td>1</td></tr>\n",
       "\t<tr><td>4</td><td>2</td><td>1</td></tr>\n",
       "\t<tr><td>4</td><td>2</td><td>1</td></tr>\n",
       "\t<tr><td>4</td><td>2</td><td>1</td></tr>\n",
       "\t<tr><td>4</td><td>2</td><td>1</td></tr>\n",
       "\t<tr><td>4</td><td>2</td><td>1</td></tr>\n",
       "</tbody>\n",
       "</table>\n"
      ],
      "text/latex": [
       "\\begin{tabular}{r|lll}\n",
       " dose & sex & y\\\\\n",
       "\\hline\n",
       "\t 1 & 1 & 0\\\\\n",
       "\t 1 & 1 & 0\\\\\n",
       "\t 1 & 1 & 0\\\\\n",
       "\t 1 & 1 & 0\\\\\n",
       "\t 1 & 1 & 0\\\\\n",
       "\t 1 & 1 & 0\\\\\n",
       "\t 1 & 1 & 0\\\\\n",
       "\t 1 & 1 & 1\\\\\n",
       "\t 1 & 1 & 1\\\\\n",
       "\t 1 & 1 & 1\\\\\n",
       "\t 2 & 1 & 0\\\\\n",
       "\t 2 & 1 & 0\\\\\n",
       "\t 2 & 1 & 0\\\\\n",
       "\t 2 & 1 & 0\\\\\n",
       "\t 2 & 1 & 0\\\\\n",
       "\t 2 & 1 & 1\\\\\n",
       "\t 2 & 1 & 1\\\\\n",
       "\t 2 & 1 & 1\\\\\n",
       "\t 2 & 1 & 1\\\\\n",
       "\t 2 & 1 & 1\\\\\n",
       "\t 3 & 1 & 0\\\\\n",
       "\t 3 & 1 & 0\\\\\n",
       "\t 3 & 1 & 1\\\\\n",
       "\t 3 & 1 & 1\\\\\n",
       "\t 3 & 1 & 1\\\\\n",
       "\t 3 & 1 & 1\\\\\n",
       "\t 3 & 1 & 1\\\\\n",
       "\t 3 & 1 & 1\\\\\n",
       "\t 3 & 1 & 1\\\\\n",
       "\t 3 & 1 & 1\\\\\n",
       "\t ... & ... & ...\\\\\n",
       "\t 2 & 2 & 0\\\\\n",
       "\t 2 & 2 & 0\\\\\n",
       "\t 2 & 2 & 0\\\\\n",
       "\t 2 & 2 & 0\\\\\n",
       "\t 2 & 2 & 0\\\\\n",
       "\t 2 & 2 & 0\\\\\n",
       "\t 2 & 2 & 0\\\\\n",
       "\t 2 & 2 & 0\\\\\n",
       "\t 2 & 2 & 1\\\\\n",
       "\t 2 & 2 & 1\\\\\n",
       "\t 3 & 2 & 0\\\\\n",
       "\t 3 & 2 & 0\\\\\n",
       "\t 3 & 2 & 0\\\\\n",
       "\t 3 & 2 & 0\\\\\n",
       "\t 3 & 2 & 0\\\\\n",
       "\t 3 & 2 & 0\\\\\n",
       "\t 3 & 2 & 1\\\\\n",
       "\t 3 & 2 & 1\\\\\n",
       "\t 3 & 2 & 1\\\\\n",
       "\t 3 & 2 & 1\\\\\n",
       "\t 4 & 2 & 0\\\\\n",
       "\t 4 & 2 & 0\\\\\n",
       "\t 4 & 2 & 0\\\\\n",
       "\t 4 & 2 & 1\\\\\n",
       "\t 4 & 2 & 1\\\\\n",
       "\t 4 & 2 & 1\\\\\n",
       "\t 4 & 2 & 1\\\\\n",
       "\t 4 & 2 & 1\\\\\n",
       "\t 4 & 2 & 1\\\\\n",
       "\t 4 & 2 & 1\\\\\n",
       "\\end{tabular}\n"
      ],
      "text/plain": [
       "    dose sex y  \n",
       "1   1    1   0  \n",
       "2   1    1   0  \n",
       "3   1    1   0  \n",
       "4   1    1   0  \n",
       "5   1    1   0  \n",
       "6   1    1   0  \n",
       "7   1    1   0  \n",
       "8   1    1   1  \n",
       "9   1    1   1  \n",
       "10  1    1   1  \n",
       "11  2    1   0  \n",
       "12  2    1   0  \n",
       "13  2    1   0  \n",
       "14  2    1   0  \n",
       "15  2    1   0  \n",
       "16  2    1   1  \n",
       "17  2    1   1  \n",
       "18  2    1   1  \n",
       "19  2    1   1  \n",
       "20  2    1   1  \n",
       "21  3    1   0  \n",
       "22  3    1   0  \n",
       "23  3    1   1  \n",
       "24  3    1   1  \n",
       "25  3    1   1  \n",
       "26  3    1   1  \n",
       "27  3    1   1  \n",
       "28  3    1   1  \n",
       "29  3    1   1  \n",
       "30  3    1   1  \n",
       "... ...  ... ...\n",
       "51  2    2   0  \n",
       "52  2    2   0  \n",
       "53  2    2   0  \n",
       "54  2    2   0  \n",
       "55  2    2   0  \n",
       "56  2    2   0  \n",
       "57  2    2   0  \n",
       "58  2    2   0  \n",
       "59  2    2   1  \n",
       "60  2    2   1  \n",
       "61  3    2   0  \n",
       "62  3    2   0  \n",
       "63  3    2   0  \n",
       "64  3    2   0  \n",
       "65  3    2   0  \n",
       "66  3    2   0  \n",
       "67  3    2   1  \n",
       "68  3    2   1  \n",
       "69  3    2   1  \n",
       "70  3    2   1  \n",
       "71  4    2   0  \n",
       "72  4    2   0  \n",
       "73  4    2   0  \n",
       "74  4    2   1  \n",
       "75  4    2   1  \n",
       "76  4    2   1  \n",
       "77  4    2   1  \n",
       "78  4    2   1  \n",
       "79  4    2   1  \n",
       "80  4    2   1  "
      ]
     },
     "metadata": {},
     "output_type": "display_data"
    }
   ],
   "source": [
    "(d <- read.csv(\"table10-5.csv\"))"
   ]
  },
  {
   "cell_type": "markdown",
   "metadata": {
    "slideshow": {
     "slide_type": "subslide"
    }
   },
   "source": [
    "これをロジスティック回帰で解析する\n",
    "\n",
    "二つの説明変数が関係するので、交互作用も含めて三つのモデルを想定\n",
    "\n",
    "(A)殺虫剤の濃度だけで回帰したモデル（doseだけのモデル）  \n",
    "\n",
    "(B)殺虫剤の濃度と性別のモデル（dose+sexモデル）  \n",
    "\n",
    "(C)殺虫剤の濃度と性別とその交互作用を含めたモデル（dose+sex+dose:sexモデル）"
   ]
  },
  {
   "cell_type": "markdown",
   "metadata": {
    "slideshow": {
     "slide_type": "subslide"
    }
   },
   "source": [
    "(A)殺虫剤の濃度だけで回帰したモデル（doseだけのモデル）"
   ]
  },
  {
   "cell_type": "code",
   "execution_count": 98,
   "metadata": {
    "collapsed": false,
    "scrolled": true,
    "slideshow": {
     "slide_type": "fragment"
    }
   },
   "outputs": [
    {
     "data": {
      "text/plain": [
       "\n",
       "Call:\n",
       "glm(formula = cbind(y, 1 - y) ~ dose, family = binomial(logit), \n",
       "    data = d)\n",
       "\n",
       "Deviance Residuals: \n",
       "   Min      1Q  Median      3Q     Max  \n",
       "-1.903  -0.921  -0.560   0.974   1.964  \n",
       "\n",
       "Coefficients:\n",
       "            Estimate Std. Error z value Pr(>|z|)    \n",
       "(Intercept)   -2.907      0.725   -4.01  6.1e-05 ***\n",
       "dose           1.135      0.267    4.25  2.1e-05 ***\n",
       "---\n",
       "Signif. codes:  0 '***' 0.001 '**' 0.01 '*' 0.05 '.' 0.1 ' ' 1\n",
       "\n",
       "(Dispersion parameter for binomial family taken to be 1)\n",
       "\n",
       "    Null deviance: 110.854  on 79  degrees of freedom\n",
       "Residual deviance:  86.708  on 78  degrees of freedom\n",
       "AIC: 90.71\n",
       "\n",
       "Number of Fisher Scoring iterations: 3\n"
      ]
     },
     "metadata": {},
     "output_type": "display_data"
    },
    {
     "data": {
      "image/png": "[encoded data removed]",
      "text/plain": [
       "plot without title"
      ]
     },
     "metadata": {},
     "output_type": "display_data"
    }
   ],
   "source": [
    "# figure 10.9 (a)\n",
    "yv <- jitter(d$y, 0.3)\n",
    "result <- glm(cbind(y, 1-y) ~ dose, family=binomial(logit), data=d)\n",
    "summary(result)\n",
    "plot(d$dose, yv, xlab=\"dose\", ylab=\"dead\", xlim=c(1, 4), ylim=c(-0.05, 1.05), pch=c(1, 2)[d$sex], cex=0.7)\n",
    "pred.dose <- seq(0, 5, 0.01)\n",
    "pred.ym <- 1/(1+exp(-(result$coefficient[1] + result$coefficient[2]*pred.dose)))\n",
    "lines(pred.dose, pred.ym, lwd=2, col=\"black\")"
   ]
  },
  {
   "cell_type": "markdown",
   "metadata": {
    "slideshow": {
     "slide_type": "subslide"
    }
   },
   "source": [
    "(B)殺虫剤の濃度と性別のモデル（dose+sexモデル）  "
   ]
  },
  {
   "cell_type": "code",
   "execution_count": 99,
   "metadata": {
    "collapsed": false,
    "scrolled": true,
    "slideshow": {
     "slide_type": "fragment"
    }
   },
   "outputs": [
    {
     "data": {
      "text/plain": [
       "\n",
       "Call:\n",
       "glm(formula = cbind(y, 1 - y) ~ dose + sex, family = binomial(logit), \n",
       "    data = d)\n",
       "\n",
       "Deviance Residuals: \n",
       "   Min      1Q  Median      3Q     Max  \n",
       "-1.905  -0.750  -0.285   0.806   1.978  \n",
       "\n",
       "Coefficients:\n",
       "            Estimate Std. Error z value Pr(>|z|)    \n",
       "(Intercept)   -0.443      0.975   -0.45   0.6495    \n",
       "dose           1.380      0.321    4.30  1.7e-05 ***\n",
       "sex           -2.060      0.649   -3.17   0.0015 ** \n",
       "---\n",
       "Signif. codes:  0 '***' 0.001 '**' 0.01 '*' 0.05 '.' 0.1 ' ' 1\n",
       "\n",
       "(Dispersion parameter for binomial family taken to be 1)\n",
       "\n",
       "    Null deviance: 110.854  on 79  degrees of freedom\n",
       "Residual deviance:  74.236  on 77  degrees of freedom\n",
       "AIC: 80.24\n",
       "\n",
       "Number of Fisher Scoring iterations: 5\n"
      ]
     },
     "metadata": {},
     "output_type": "display_data"
    },
    {
     "data": {
      "image/png": "[encoded data removed]",
      "text/plain": [
       "plot without title"
      ]
     },
     "metadata": {},
     "output_type": "display_data"
    }
   ],
   "source": [
    "# figure 10.9 (b)\n",
    "result <- glm(cbind(y, 1-y) ~ dose + sex, family=binomial(logit), data=d)\n",
    "summary(result)\n",
    "plot(d$dose, yv, xlab=\"dose\", ylab=\"dead\", xlim=c(1, 4), ylim=c(-0.05, 1.05), pch=c(1, 2)[d$sex], cex=0.7)\n",
    "pred.dose <- seq(0, 5, 0.01)\n",
    "pred.ym <- 1/(1+exp(-(result$coefficient[1] + result$coefficient[2]*pred.dose + result$coefficient[3]*1)))\n",
    "pred.yf <- 1/(1+exp(-(result$coefficient[1] + result$coefficient[2]*pred.dose + result$coefficient[3]*2)))\n",
    "lines(pred.dose, pred.ym, lwd=2, col=\"grey\")\n",
    "lines(pred.dose, pred.yf, lwd=2, col=\"black\")"
   ]
  },
  {
   "cell_type": "markdown",
   "metadata": {
    "slideshow": {
     "slide_type": "subslide"
    }
   },
   "source": [
    "(C)殺虫剤の濃度と性別とその交互作用を含めたモデル（dose+sex+dose:sexモデル）"
   ]
  },
  {
   "cell_type": "code",
   "execution_count": 100,
   "metadata": {
    "collapsed": false,
    "scrolled": true,
    "slideshow": {
     "slide_type": "fragment"
    }
   },
   "outputs": [
    {
     "data": {
      "text/plain": [
       "\n",
       "Call:\n",
       "glm(formula = cbind(y, 1 - y) ~ dose + sex + dose:sex, family = binomial(logit), \n",
       "    data = d)\n",
       "\n",
       "Deviance Residuals: \n",
       "   Min      1Q  Median      3Q     Max  \n",
       "-1.907  -0.750  -0.286   0.807   1.976  \n",
       "\n",
       "Coefficients:\n",
       "            Estimate Std. Error z value Pr(>|z|)\n",
       "(Intercept) -0.46567    2.48159   -0.19     0.85\n",
       "dose         1.38961    1.00878    1.38     0.17\n",
       "sex         -2.04388    1.75637   -1.16     0.24\n",
       "dose:sex    -0.00629    0.64177   -0.01     0.99\n",
       "\n",
       "(Dispersion parameter for binomial family taken to be 1)\n",
       "\n",
       "    Null deviance: 110.854  on 79  degrees of freedom\n",
       "Residual deviance:  74.236  on 76  degrees of freedom\n",
       "AIC: 82.24\n",
       "\n",
       "Number of Fisher Scoring iterations: 5\n"
      ]
     },
     "metadata": {},
     "output_type": "display_data"
    },
    {
     "data": {
      "image/png": "[encoded data removed]",
      "text/plain": [
       "plot without title"
      ]
     },
     "metadata": {},
     "output_type": "display_data"
    }
   ],
   "source": [
    "# figure 10.9 (c)\n",
    "result <- glm(cbind(y, 1-y) ~ dose + sex + dose:sex, family=binomial(logit), data=d)\n",
    "summary(result)\n",
    "plot(d$dose, yv, xlab=\"dose\", ylab=\"dead\", xlim=c(1, 4), ylim=c(-0.05, 1.05), pch=c(1, 2)[d$sex], cex=0.7)\n",
    "pred.dose <- seq(0, 5, 0.01)\n",
    "pred.ym <- 1/(1+exp(-(result$coefficient[1] + result$coefficient[2]*pred.dose + result$coefficient[3]*1 + result$coefficient[4]*1*pred.dose)))\n",
    "pred.yf <- 1/(1+exp(-(result$coefficient[1] + result$coefficient[2]*pred.dose + result$coefficient[3]*2 + result$coefficient[4]*2*pred.dose)))\n",
    "lines(pred.dose, pred.ym, lwd=2, col=\"grey\")\n",
    "lines(pred.dose, pred.yf, lwd=2, col=\"black\")"
   ]
  },
  {
   "cell_type": "markdown",
   "metadata": {
    "slideshow": {
     "slide_type": "subslide"
    }
   },
   "source": [
    "つのモデルを比較すると、\n",
    "\n",
    "(A)殺虫剤の濃度だけで回帰したモデル（doseだけのモデル  \n",
    "・・・AIC：90.708\n",
    "\n",
    "(B)殺虫剤の濃度と性別のモデル（dose+sexモデル）  \n",
    "・・・AIC：80.236\n",
    "\n",
    "(C)殺虫剤の濃度と性別とその交互作用を含めたモデル（dose+sex+dose:sexモデル）  \n",
    "・・・AIC：82.236\n",
    "\n",
    "AICが最小となるのは、モデル(B)"
   ]
  },
  {
   "cell_type": "markdown",
   "metadata": {
    "slideshow": {
     "slide_type": "subslide"
    }
   },
   "source": [
    "粕谷は、AICは“正しいモデル”を選ぶための指標ではないことを指摘している\n",
    "\n",
    "“AICは平均的な予測がよいモデルを相対的に選ぶものであり、AIC最小のモデルが真のモデルとどれだけ確実に一致しているか、あるいは、他のモデルが確実に否定されるかを述べているわけではない”"
   ]
  },
  {
   "cell_type": "markdown",
   "metadata": {
    "slideshow": {
     "slide_type": "slide"
    }
   },
   "source": [
    "## 10・10　GLMにおけるオフセットの利用"
   ]
  },
  {
   "cell_type": "markdown",
   "metadata": {
    "collapsed": true,
    "slideshow": {
     "slide_type": "subslide"
    }
   },
   "source": [
    "ポアソン回帰の目的変数になる事象の回数や個数は、どれだけの時間や広さを調査したかによって意味が異なることがある\n",
    "\n",
    "たとえば、$t$時間観測したら事象が$y$回起こったとして、時間当たりの事象が起こった回数$(y/t)$に対する説明変数$x$の影響を分析したい\n",
    "\n",
    "回帰式のモデルは、\n",
    "\n",
    "$$\\log\\left(\\frac{y}{t}\\right)=\\beta_0+\\beta_1x$$\n",
    "\n",
    "変形すると、\n",
    "\n",
    "$$\\log y=\\beta_0+\\beta_1x+\\log t$$\n",
    "\n",
    "$\\log t$の係数は$1$なので、観察時間$t$の効果をうまく表すことができている\n",
    "\n",
    "この$\\log t$をオフセットとよぶ"
   ]
  },
  {
   "cell_type": "markdown",
   "metadata": {
    "slideshow": {
     "slide_type": "subslide"
    }
   },
   "source": [
    "オフセットの事例として面積を考え、林の水たまりに生える水草$Q$を想定する\n",
    "\n",
    "個々の水たまりの面積に対して何株生えていたのかの本数を調査し、光環境によって差が出るのか調べたい"
   ]
  },
  {
   "cell_type": "code",
   "execution_count": 101,
   "metadata": {
    "collapsed": false,
    "scrolled": true,
    "slideshow": {
     "slide_type": "fragment"
    }
   },
   "outputs": [
    {
     "data": {
      "text/html": [
       "<table>\n",
       "<thead><tr><th scope=col>light</th><th scope=col>plants</th><th scope=col>w_area</th></tr></thead>\n",
       "<tbody>\n",
       "\t<tr><td>3500</td><td>4   </td><td> 6.5</td></tr>\n",
       "\t<tr><td>2300</td><td>2   </td><td> 7.3</td></tr>\n",
       "\t<tr><td> 700</td><td>2   </td><td>12.3</td></tr>\n",
       "\t<tr><td> 500</td><td>0   </td><td> 4.3</td></tr>\n",
       "\t<tr><td>2900</td><td>4   </td><td>17.5</td></tr>\n",
       "\t<tr><td>2300</td><td>3   </td><td>13.1</td></tr>\n",
       "\t<tr><td>1200</td><td>1   </td><td> 8.1</td></tr>\n",
       "\t<tr><td> 900</td><td>2   </td><td>13.7</td></tr>\n",
       "\t<tr><td> 300</td><td>0   </td><td> 4.3</td></tr>\n",
       "\t<tr><td>2500</td><td>4   </td><td>15.2</td></tr>\n",
       "\t<tr><td> 500</td><td>0   </td><td> 3.3</td></tr>\n",
       "\t<tr><td>1800</td><td>1   </td><td> 7.5</td></tr>\n",
       "\t<tr><td> 900</td><td>0   </td><td> 5.9</td></tr>\n",
       "\t<tr><td>4000</td><td>5   </td><td>11.5</td></tr>\n",
       "\t<tr><td>2800</td><td>4   </td><td> 9.7</td></tr>\n",
       "</tbody>\n",
       "</table>\n"
      ],
      "text/latex": [
       "\\begin{tabular}{r|lll}\n",
       " light & plants & w\\_area\\\\\n",
       "\\hline\n",
       "\t 3500 & 4    &  6.5\\\\\n",
       "\t 2300 & 2    &  7.3\\\\\n",
       "\t  700 & 2    & 12.3\\\\\n",
       "\t  500 & 0    &  4.3\\\\\n",
       "\t 2900 & 4    & 17.5\\\\\n",
       "\t 2300 & 3    & 13.1\\\\\n",
       "\t 1200 & 1    &  8.1\\\\\n",
       "\t  900 & 2    & 13.7\\\\\n",
       "\t  300 & 0    &  4.3\\\\\n",
       "\t 2500 & 4    & 15.2\\\\\n",
       "\t  500 & 0    &  3.3\\\\\n",
       "\t 1800 & 1    &  7.5\\\\\n",
       "\t  900 & 0    &  5.9\\\\\n",
       "\t 4000 & 5    & 11.5\\\\\n",
       "\t 2800 & 4    &  9.7\\\\\n",
       "\\end{tabular}\n"
      ],
      "text/plain": [
       "   light plants w_area\n",
       "1  3500  4       6.5  \n",
       "2  2300  2       7.3  \n",
       "3   700  2      12.3  \n",
       "4   500  0       4.3  \n",
       "5  2900  4      17.5  \n",
       "6  2300  3      13.1  \n",
       "7  1200  1       8.1  \n",
       "8   900  2      13.7  \n",
       "9   300  0       4.3  \n",
       "10 2500  4      15.2  \n",
       "11  500  0       3.3  \n",
       "12 1800  1       7.5  \n",
       "13  900  0       5.9  \n",
       "14 4000  5      11.5  \n",
       "15 2800  4       9.7  "
      ]
     },
     "metadata": {},
     "output_type": "display_data"
    }
   ],
   "source": [
    "(d <- read.csv(\"table10-6.csv\"))"
   ]
  },
  {
   "cell_type": "markdown",
   "metadata": {
    "slideshow": {
     "slide_type": "subslide"
    }
   },
   "source": [
    "面積をオフセット、光の照度を説明変数としてポアソン回帰に組み込む"
   ]
  },
  {
   "cell_type": "code",
   "execution_count": 102,
   "metadata": {
    "collapsed": false,
    "scrolled": true,
    "slideshow": {
     "slide_type": "fragment"
    }
   },
   "outputs": [
    {
     "data": {
      "text/plain": [
       "\n",
       "Call:\n",
       "glm(formula = plants ~ light, family = poisson, data = d, offset = log(w_area))\n",
       "\n",
       "Deviance Residuals: \n",
       "    Min       1Q   Median       3Q      Max  \n",
       "-1.1205  -0.6817  -0.0095   0.3544   0.7219  \n",
       "\n",
       "Coefficients:\n",
       "             Estimate Std. Error z value Pr(>|z|)    \n",
       "(Intercept) -2.715225   0.491061   -5.53  3.2e-08 ***\n",
       "light        0.000527   0.000173    3.04   0.0024 ** \n",
       "---\n",
       "Signif. codes:  0 '***' 0.001 '**' 0.01 '*' 0.05 '.' 0.1 ' ' 1\n",
       "\n",
       "(Dispersion parameter for poisson family taken to be 1)\n",
       "\n",
       "    Null deviance: 15.5631  on 14  degrees of freedom\n",
       "Residual deviance:  5.6669  on 13  degrees of freedom\n",
       "AIC: 41.04\n",
       "\n",
       "Number of Fisher Scoring iterations: 4\n"
      ]
     },
     "metadata": {},
     "output_type": "display_data"
    },
    {
     "data": {
      "image/png": "[encoded data removed]",
      "text/plain": [
       "plot without title"
      ]
     },
     "metadata": {},
     "output_type": "display_data"
    }
   ],
   "source": [
    "result <- glm(plants ~ light, offset=log(w_area), family=poisson, data=d)\n",
    "summary(result)\n",
    "# figure 10.10\n",
    "plot(d$plants/d$w_area ~ d$light, xlab=\"light\", ylab=\"density\", xlim=c(0, 4000), ylim=c(0, 0.65), cex=0.7)\n",
    "pred.light <- seq(-200, 4200, 0.1)\n",
    "pred.y <- exp(result$coefficient[1] + result$coefficient[2]*pred.light)\n",
    "lines(pred.light, pred.y, lwd=2, col=\"grey\")"
   ]
  },
  {
   "cell_type": "markdown",
   "metadata": {
    "slideshow": {
     "slide_type": "fragment"
    }
   },
   "source": [
    "水たまりの面積がオフセットになり、光の照度が説明変数となって係数に表れている"
   ]
  },
  {
   "cell_type": "markdown",
   "metadata": {
    "slideshow": {
     "slide_type": "slide"
    }
   },
   "source": [
    "## まとめ\n",
    "\n",
    "GLMは統計学の初心者にとっては、難易度が高い内容だろう\n",
    "\n",
    "そのため、学生や統計にうとい研究者によってはGLMの使用を躊躇したり、ときには正規分布の扱いが不適切な場合でも、無理やり回帰直線を引こうとする姿がしばしば見られる\n",
    "\n",
    "しかし、この第10章と第11章でGLMを勉強してもらえれば、恐るるに足らずである"
   ]
  }
 ],
 "metadata": {
  "anaconda-cloud": {},
  "celltoolbar": "Slideshow",
  "kernelspec": {
   "display_name": "R",
   "language": "R",
   "name": "ir"
  },
  "language_info": {
   "codemirror_mode": "r",
   "file_extension": ".r",
   "mimetype": "text/x-r-source",
   "name": "R",
   "pygments_lexer": "r",
   "version": "3.3.1"
  }
 },
 "nbformat": 4,
 "nbformat_minor": 1
}
